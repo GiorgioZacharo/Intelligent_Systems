{
 "cells": [
  {
   "cell_type": "code",
   "execution_count": 126,
   "metadata": {
    "collapsed": true
   },
   "outputs": [],
   "source": [
    "import numpy as np\n",
    "%matplotlib inline\n",
    "import matplotlib.pyplot as plt\n",
    "from random import randint\n",
    "import random\n",
    "import decimal\n",
    "\n",
    "# decimal.getcontext().prec = 10"
   ]
  },
  {
   "cell_type": "code",
   "execution_count": 228,
   "metadata": {
    "collapsed": false
   },
   "outputs": [
    {
     "name": "stdout",
     "output_type": "stream",
     "text": [
      "0.594603557501 0.5 1.5246107569927752 -0.06681467456687926\n",
      "1 10\n"
     ]
    }
   ],
   "source": [
    "POPULATION=10\n",
    "N=2\n",
    "\n",
    "# μ,λ\n",
    "mi_rate= 0.1\n",
    "lamda_rate=1\n",
    "mi=int (mi_rate* POPULATION)\n",
    "lamda= int (lamda_rate * POPULATION)\n",
    "\n",
    "# σ\n",
    "sigma=0.1\n",
    "\n",
    "# τ and τ'\n",
    "taf=1/np.sqrt(2 *np.sqrt(N))\n",
    "taf_t=1/np.sqrt(2*N)\n",
    "\n",
    "# β\n",
    "beta=np.random.normal(1, taf_t)\n",
    "\n",
    "N0=np.random.normal(0, sigma)\n",
    "# random.uniform(-5, 10)\n",
    "print  (taf, taf_t, beta, N0)\n",
    "print  (mi, lamda)"
   ]
  },
  {
   "cell_type": "code",
   "execution_count": 229,
   "metadata": {
    "collapsed": false
   },
   "outputs": [],
   "source": [
    "\n",
    "# NEXT_GEN_RATE=2/10\n",
    "# NEXT_GEN_SIZE= int (NEXT_GEN_RATE * POPULATION)\n",
    "# MUTATION_RATE=2/LENGTH\n",
    "# MUTATION_SIZE= int (MUTATION_RATE * LENGTH)\n",
    "# Mut_rate = [MUTATION_RATE for i in range(LENGTH)]\n",
    "# # Crossover Points\n",
    "# CP1=randint(1,LENGTH-2)\n",
    "# CP2=randint(CP1+1,LENGTH-1)\n",
    "\n",
    "# print (CP1, CP2, MUTATION_SIZE)"
   ]
  },
  {
   "cell_type": "code",
   "execution_count": 230,
   "metadata": {
    "collapsed": true
   },
   "outputs": [],
   "source": [
    "# # Rosenbrock Function\n",
    "# def Evaluation_new(Chromos_X, Fitness, SIZE):\n",
    "#     for j in range (SIZE):\n",
    "#         Sum=decimal.Decimal(0)\n",
    "#         for i in range (N-1):\n",
    "#             X= decimal.Decimal(Chromos_X[j][i])\n",
    "#             X1=decimal.Decimal(Chromos_X[j][i+1])\n",
    "#             Sum+=decimal.Decimal((decimal.Decimal(1)-X)**decimal.Decimal(2)) + decimal.Decimal(100) *decimal.Decimal(((X1-(X**2))**2))\n",
    "#         Fitness[j]=Sum\n",
    "\n",
    "        # Rosenbrock Function\n",
    "def Evaluation(Chromos_X, Fitness, SIZE):\n",
    "    for j in range (SIZE):\n",
    "        Sum=0\n",
    "        for i in range (N-1):\n",
    "            X= Chromos_X[j][i]\n",
    "            X1=Chromos_X[j][i+1]\n",
    "            Sum+=(1-X)**2 + 100 *((X1-(X**2))**2)\n",
    "        Fitness[j]=Sum           \n",
    "        \n",
    "def FitnessProportional(Fitness, Prob_Fit):\n",
    "    Sum_Fit=sum(Fitness)\n",
    "    \n",
    "    for i in range (POPULATION):\n",
    "        Prob_Fit[i]=Fitness[i]/Sum_Fit\n",
    "\n",
    "def getNewParentsInd(Fitness_Off):\n",
    "    Fitness_copy=Fitness_Off[:]\n",
    "    NewParentsInd= [0 for i in range(mi)]\n",
    "    \n",
    "    for i in range (mi):\n",
    "        lowest_value=min(Fitness_copy)\n",
    "        min_index=Fitness_Off.index(lowest_value) # get index on orig list\n",
    "        NewParentsInd[i]=min_index\n",
    "        Fitness_copy.remove(lowest_value)\n",
    "        \n",
    "    return NewParentsInd    \n",
    "    \n",
    "\n",
    "# Selecting an index according to the given Probabilities        \n",
    "def weighted_choice(weights):\n",
    "    totals = []\n",
    "    running_total = 0\n",
    "\n",
    "    for w in weights:\n",
    "        running_total += w\n",
    "        totals.append(running_total)\n",
    "\n",
    "    rnd = random.random() * running_total\n",
    "    for i, total in enumerate(totals):\n",
    "        if rnd < total:\n",
    "            return i              "
   ]
  },
  {
   "cell_type": "code",
   "execution_count": 231,
   "metadata": {
    "collapsed": false
   },
   "outputs": [
    {
     "name": "stdout",
     "output_type": "stream",
     "text": [
      "[0, 0] [0, 0] [[5.24778921168704, 7.824861741908807]] [[0.8717946752191894, 0.8539037052210114]] \n",
      "\n",
      "[38883.918216754035] [1, 1, 1, 1, 1, 1, 1, 1, 1, 1] \n",
      "\n",
      "\n",
      "Minimum Fittness Off 368.6428503474106\n",
      "First gen : 368.6428503474106\n",
      "[14.218351628137851, 26.895902252008234] [26.725332556746856, 26.929816462069663] \n",
      "\n",
      "[14.218351628137851, 26.895902252008234] [26.725332556746856, 26.929816462069663] [[0.658342313769845, 2.3531180176639417]] [[10.965319129507492, 11.471629266444655]] \n",
      "\n",
      "[368.6428503474106] [3071978.507186748, 1563122.469472995, 2000.7181541201762, 301025.3646422807, 950726.9320697023, 5479.928017582923, 16629117.421452492, 236485179.97735637, 368.6428503474106, 106026.70793532138] \n",
      "\n",
      "\n",
      "Minimum Fittness Off 22729254.78542163\n",
      "[-238.62849617608626, -132.8585070034767] [472.47345375061593, 210.72583624823719] [[-1.7681430455787766, 479.8783316377564]] [[48.513945362911905, 231.95651955587115]] \n",
      "\n",
      "[22729254.78542163] [325771803102.82416, 218878927.4005336, 461152964.0348182, 22729254.78542163, 149231906.27259535, 437728004.4828981, 13074603875.85968, 37097274854722.734, 1538256249.2949915, 3.798470175289115e+16] \n",
      "\n",
      "\n",
      "Minimum Fittness Off 17762174371628.25\n",
      "Final Gen :  17762174371628.25 \n",
      "Gens : 3\n",
      "[-650.4114050537788, 1583.0537560004598] [658.12446568230439, 2135.9252101276934]\n"
     ]
    }
   ],
   "source": [
    "# Initialize Parents and Offspring and New_Parents\n",
    "Chromos_X       = [[random.uniform(-5, 10) for i in range(N)] for x in range(mi)]\n",
    "Chromos_Sigma   = [[np.random.normal(1, sigma) for i in range(N)] for x in range(mi)]\n",
    "Offspring_X     = [[0 for i in range(N)] for x in range(lamda)]\n",
    "Offspring_Sigma = [[0 for i in range(N)] for x in range(lamda)]\n",
    "NewParents_X       = [[0 for i in range(N)] for x in range(mi)]\n",
    "NewParents_Sigma   = [[0 for i in range(N)] for x in range(mi)]\n",
    "\n",
    "Generations=0\n",
    "minimum_fitness=100000\n",
    "\n",
    "while(Generations <100):\n",
    "\n",
    "    Fitness, Fitness_Off = [0 for i in range(mi)], [0 for i in range(lamda)]\n",
    "\n",
    "    # Evaluating Parents using Fitness Rosenbrock Function \n",
    "    Evaluation(Chromos_X, Fitness, mi)\n",
    "    Evaluation(Offspring_X, Fitness_Off, lamda)\n",
    "\n",
    "#     if Generations ==0:    \n",
    "    print (Offspring_X[0], Offspring_Sigma[0], Chromos_X, Chromos_Sigma, \"\\n\")\n",
    "    print ( Fitness, Fitness_Off, \"\\n\\n\")\n",
    "\n",
    "    # Uncorrelated Mutation\n",
    "    for i in range (lamda):\n",
    "        prnt_ind=randint(0, mi-1)\n",
    "    #     print(prnt_ind)\n",
    "        for j in range (N):\n",
    "            Offspring_Sigma[i][j]=Chromos_Sigma[prnt_ind][j] * np.exp(beta  + np.random.normal(1, taf))\n",
    "            #print(Offspring_Sigma[i][j])\n",
    "            Offspring_X[i][j]=Chromos_X[prnt_ind][j] + np.random.normal(1, Offspring_Sigma[i][j])\n",
    "\n",
    "    # Evaluating Offspring using Fitness Rosenbrock Function         \n",
    "    Evaluation(Offspring_X, Fitness_Off, lamda)        \n",
    "\n",
    "#     print (Offspring_X, Offspring_Sigma,\"\\n\")\n",
    "    #print ( Fitness_Off)\n",
    "\n",
    "    # Get indexes of New Parents\n",
    "    NewParentsInd=getNewParentsInd(Fitness_Off)\n",
    "\n",
    "    for i in range (mi):\n",
    "        off_index=NewParentsInd[i]\n",
    "        Chromos_X[i]     = Offspring_X[off_index]\n",
    "        Chromos_Sigma[i] = Offspring_Sigma[off_index]\n",
    "    \n",
    "    Evaluation(Chromos_X, Fitness, mi)\n",
    "        \n",
    "    Generations+=1\n",
    "    minimum_fitness= min(Fitness)\n",
    "    print(\"Minimum Fittness Off\", Fitness_Off[NewParentsInd[0]])\n",
    "#     print(\"Minimum Fittness\", Fitness)\n",
    "    \n",
    "    if Generations ==1:\n",
    "        print(\"First gen :\", minimum_fitness)\n",
    "        print (Offspring_X[0], Offspring_Sigma[0],\"\\n\")\n",
    "                                     \n",
    "    if Generations % 50 ==0:\n",
    "        print(\"Next  Gen :\", minimum_fitness) \n",
    "        \n",
    "    if Generations > 100:\n",
    "        break \n",
    "    if minimum_fitness >10000000000000 or minimum_fitness < 100:\n",
    "        break     \n",
    "    \n",
    "print(\"Final Gen : \", minimum_fitness, \"\\nGens :\", Generations)\n",
    "print(Chromos_X[0], Chromos_Sigma[0])                                     "
   ]
  },
  {
   "cell_type": "code",
   "execution_count": null,
   "metadata": {
    "collapsed": true
   },
   "outputs": [],
   "source": []
  },
  {
   "cell_type": "code",
   "execution_count": null,
   "metadata": {
    "collapsed": true
   },
   "outputs": [],
   "source": []
  }
 ],
 "metadata": {
  "anaconda-cloud": {},
  "kernelspec": {
   "display_name": "Python [Root]",
   "language": "python",
   "name": "Python [Root]"
  },
  "language_info": {
   "codemirror_mode": {
    "name": "ipython",
    "version": 3
   },
   "file_extension": ".py",
   "mimetype": "text/x-python",
   "name": "python",
   "nbconvert_exporter": "python",
   "pygments_lexer": "ipython3",
   "version": "3.5.2"
  }
 },
 "nbformat": 4,
 "nbformat_minor": 0
}
