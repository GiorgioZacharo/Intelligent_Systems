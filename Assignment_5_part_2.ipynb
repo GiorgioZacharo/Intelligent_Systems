{
 "cells": [
  {
   "cell_type": "code",
   "execution_count": 26,
   "metadata": {
    "collapsed": true
   },
   "outputs": [],
   "source": [
    "import numpy as np\n",
    "%matplotlib inline\n",
    "import matplotlib.pyplot as plt\n",
    "from random import randint\n",
    "import random"
   ]
  },
  {
   "cell_type": "code",
   "execution_count": 184,
   "metadata": {
    "collapsed": false
   },
   "outputs": [
    {
     "name": "stdout",
     "output_type": "stream",
     "text": [
      "0.594603557501 0.5 -0.6489144880814923 0.510679147139861\n",
      "1 10\n"
     ]
    }
   ],
   "source": [
    "POPULATION=10\n",
    "N=2\n",
    "\n",
    "# μ,λ\n",
    "mi_rate= 0.1\n",
    "lamda_rate=1\n",
    "mi=int (mi_rate* POPULATION)\n",
    "lamda= int (lamda_rate * POPULATION)\n",
    "\n",
    "# σ\n",
    "sigma=1\n",
    "\n",
    "# τ and τ'\n",
    "taf=1/np.sqrt(2 *np.sqrt(N))\n",
    "taf_t=1/np.sqrt(2*N)\n",
    "\n",
    "# β\n",
    "beta=np.random.normal(0, taf_t)\n",
    "\n",
    "N0=np.random.normal(0, sigma)\n",
    "# random.uniform(-5, 10)\n",
    "print  (taf, taf_t, beta, N0)\n",
    "print  (mi, lamda)"
   ]
  },
  {
   "cell_type": "code",
   "execution_count": 37,
   "metadata": {
    "collapsed": false
   },
   "outputs": [
    {
     "name": "stdout",
     "output_type": "stream",
     "text": [
      "3 4 2\n"
     ]
    }
   ],
   "source": [
    "\n",
    "NEXT_GEN_RATE=2/10\n",
    "NEXT_GEN_SIZE= int (NEXT_GEN_RATE * POPULATION)\n",
    "MUTATION_RATE=2/LENGTH\n",
    "MUTATION_SIZE= int (MUTATION_RATE * LENGTH)\n",
    "Mut_rate = [MUTATION_RATE for i in range(LENGTH)]\n",
    "# Crossover Points\n",
    "CP1=randint(1,LENGTH-2)\n",
    "CP2=randint(CP1+1,LENGTH-1)\n",
    "\n",
    "print (CP1, CP2, MUTATION_SIZE)"
   ]
  },
  {
   "cell_type": "code",
   "execution_count": 102,
   "metadata": {
    "collapsed": true
   },
   "outputs": [],
   "source": [
    "# Rosenbrock Function\n",
    "def Evaluation(Chromos_X, Fitness, SIZE):\n",
    "    for j in range (SIZE):\n",
    "        Sum=0\n",
    "        for i in range (N-1):\n",
    "            X= Chromos_X[j][i]\n",
    "            X1=Chromos_X[j][i+1]\n",
    "            Sum+=(1-X)**2 + 100 *((X1-(X**2))**2)\n",
    "        Fitness[j]=Sum    \n",
    "        \n",
    "def FitnessProportional(Fitness, Prob_Fit):\n",
    "    Sum_Fit=sum(Fitness)\n",
    "    \n",
    "    for i in range (POPULATION):\n",
    "        Prob_Fit[i]=Fitness[i]/Sum_Fit\n",
    "\n",
    "# Selecting an index according to the given Probabilities        \n",
    "def weighted_choice(weights):\n",
    "    totals = []\n",
    "    running_total = 0\n",
    "\n",
    "    for w in weights:\n",
    "        running_total += w\n",
    "        totals.append(running_total)\n",
    "\n",
    "    rnd = random.random() * running_total\n",
    "    for i, total in enumerate(totals):\n",
    "        if rnd < total:\n",
    "            return i              "
   ]
  },
  {
   "cell_type": "code",
   "execution_count": 194,
   "metadata": {
    "collapsed": false
   },
   "outputs": [
    {
     "name": "stdout",
     "output_type": "stream",
     "text": [
      "[[0, 0], [0, 0], [0, 0], [0, 0], [0, 0], [0, 0], [0, 0], [0, 0], [0, 0], [0, 0]] [[0, 0], [0, 0], [0, 0], [0, 0], [0, 0], [0, 0], [0, 0], [0, 0], [0, 0], [0, 0]]\n",
      "[[6.789535895812525, -4.955523616103895]] [[9.669157168490795, 10.008315893691995]]\n",
      "[[16.006763752752157, 28.50947591854269], [4.352365347283645, -17.80930101551297], [4.016311998586028, -4.349368857854915], [7.469000957713621, -4.53357886250726], [6.760171675049663, -9.458935503495256], [2.5807055946294124, -17.229434000503375], [7.477833675675179, -7.702969402328628], [7.1512920348408455, 12.593189704863676], [11.250889048008387, -9.694175625866635], [6.742627799597418, -8.239529801028446]] [[5.9146516308165547, 20.233047063724676], [4.9679888032317292, 7.4052972145841744], [7.6092247247065723, 2.3345043489720112], [1.9773864907469101, 3.4653151003291418], [3.676879788731692, 3.4083248747590873], [4.6790554617516298, 8.0342391374299318], [3.790697853113393, 4.6237912709594902], [0.93009669668381001, 9.9056294219765846], [3.4270875893230395, 5.0693967720364013], [7.0397439922941079, 2.6373107343420399]]\n",
      "[260677.68026758934] [1, 1, 1, 1, 1, 1, 1, 1, 1, 1]\n"
     ]
    }
   ],
   "source": [
    "# Initialize Parents and Offspring\n",
    "Chromos_X       = [[random.uniform(-5, 10) for i in range(N)] for x in range(mi)]\n",
    "Chromos_Sigma   = [[np.random.normal(10, sigma) for i in range(N)] for x in range(mi)]\n",
    "Offspring_X     = [[0 for i in range(N)] for x in range(lamda)]\n",
    "Offspring_Sigma = [[0 for i in range(N)] for x in range(lamda)]\n",
    "\n",
    "# # Initializing randomly sigmas in parents chromos\n",
    "# for i in range (POPULATION):\n",
    "#     for j in range (N, 2*N):\n",
    "#         Chromos[i][j] = np.random.normal(0, sigma)\n",
    "    \n",
    "Fitness, Fittness_Off = [0 for i in range(mi)], [0 for i in range(lamda)]\n",
    "\n",
    "# Evaluating Parents using Fittness Function \n",
    "Evaluation(Chromos_X, Fitness, mi)\n",
    "Evaluation(Offspring_X, Fittness_Off, lamda)\n",
    "\n",
    "print (Offspring_X, Offspring_Sigma)\n",
    "print (Chromos_X, Chromos_Sigma)\n",
    "\n",
    "# Uncorrelated Mutation\n",
    "for i in range (lamda):\n",
    "    prnt_ind=randint(0, mi-1)\n",
    "#     print(prnt_ind)\n",
    "    for j in range (N):\n",
    "        Offspring_Sigma[i][j]=Chromos_Sigma[prnt_ind][j] * np.exp(beta  + np.random.normal(0, taf))\n",
    "        #print(Offspring_Sigma[i][j])\n",
    "        Offspring_X[i][j]=Chromos_X[prnt_ind][j] + np.random.normal(0, Offspring_Sigma[i][j])\n",
    "        \n",
    "print (Offspring_X, Offspring_Sigma)\n",
    "print (Fitness, Fittness_Off)"
   ]
  },
  {
   "cell_type": "code",
   "execution_count": null,
   "metadata": {
    "collapsed": true
   },
   "outputs": [],
   "source": []
  },
  {
   "cell_type": "code",
   "execution_count": null,
   "metadata": {
    "collapsed": true
   },
   "outputs": [],
   "source": []
  }
 ],
 "metadata": {
  "anaconda-cloud": {},
  "kernelspec": {
   "display_name": "Python [Root]",
   "language": "python",
   "name": "Python [Root]"
  },
  "language_info": {
   "codemirror_mode": {
    "name": "ipython",
    "version": 3
   },
   "file_extension": ".py",
   "mimetype": "text/x-python",
   "name": "python",
   "nbconvert_exporter": "python",
   "pygments_lexer": "ipython3",
   "version": "3.5.2"
  }
 },
 "nbformat": 4,
 "nbformat_minor": 0
}
