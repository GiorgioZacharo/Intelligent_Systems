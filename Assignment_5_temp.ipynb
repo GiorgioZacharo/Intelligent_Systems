{
 "cells": [
  {
   "cell_type": "code",
   "execution_count": 2,
   "metadata": {
    "collapsed": true
   },
   "outputs": [],
   "source": [
    "import numpy as np\n",
    "%matplotlib inline\n",
    "import matplotlib.pyplot as plt\n",
    "from random import randint\n",
    "import random"
   ]
  },
  {
   "cell_type": "raw",
   "metadata": {},
   "source": []
  },
  {
   "cell_type": "markdown",
   "metadata": {},
   "source": []
  },
  {
   "cell_type": "code",
   "execution_count": 108,
   "metadata": {
    "collapsed": false
   },
   "outputs": [
    {
     "name": "stdout",
     "output_type": "stream",
     "text": [
      "32 45 2\n"
     ]
    }
   ],
   "source": [
    "L=[5, 10 , 20, 50]\n",
    "LENGTH=L[3]\n",
    "POPULATION=200 \n",
    "NEXT_GEN_RATE=2/10\n",
    "NEXT_GEN_SIZE= int (NEXT_GEN_RATE * POPULATION)\n",
    "MUTATION_RATE=0.05\n",
    "MUTATION_SIZE= int (MUTATION_RATE * LENGTH)\n",
    "Mut_rate = [MUTATION_RATE for i in range(LENGTH)]\n",
    "# Crossover Points\n",
    "CP1=randint(1,LENGTH-2)\n",
    "CP2=randint(CP1+1,LENGTH-1)\n",
    "\n",
    "print (CP1, CP2, MUTATION_SIZE)"
   ]
  },
  {
   "cell_type": "code",
   "execution_count": 75,
   "metadata": {
    "collapsed": true
   },
   "outputs": [],
   "source": [
    "def Evaluation(Chromos, Fitness):\n",
    "    for j in range (POPULATION):\n",
    "        count = 0\n",
    "        fitness = 0\n",
    "        for x in Chromos[j]:\n",
    "            if x==0: count = 0\n",
    "            else   : count += 1\n",
    "            if count == 2: fitness +=1\n",
    "        Fitness[j]=fitness\n",
    "def FitnessProportional(Fitness, Prob_Fit):\n",
    "    Sum_Fit=sum(Fitness)\n",
    "    \n",
    "    for i in range (POPULATION):\n",
    "        Prob_Fit[i]=Fitness[i]/Sum_Fit\n",
    "\n",
    "# Selecting an index according to the given Probabilities        \n",
    "def weighted_choice(weights):\n",
    "    totals = []\n",
    "    running_total = 0\n",
    "\n",
    "    for w in weights:\n",
    "        running_total += w\n",
    "        totals.append(running_total)\n",
    "\n",
    "    rnd = random.random() * running_total\n",
    "    for i, total in enumerate(totals):\n",
    "        if rnd < total:\n",
    "            return i              "
   ]
  },
  {
   "cell_type": "code",
   "execution_count": 109,
   "metadata": {
    "collapsed": false
   },
   "outputs": [
    {
     "name": "stdout",
     "output_type": "stream",
     "text": [
      "First gen : 10\n",
      "Next  Gen : 14\n",
      "Next  Gen : 500\n",
      "Next  Gen : 14\n",
      "Next  Gen : 1000\n",
      "Next  Gen : 14\n",
      "Next  Gen : 1500\n",
      "Next  Gen : 14\n",
      "Next  Gen : 2000\n",
      "Next  Gen : 14\n",
      "Next  Gen : 2500\n",
      "Next  Gen : 14\n",
      "Next  Gen : 3000\n",
      "Next  Gen : 14\n",
      "Next  Gen : 3500\n",
      "Next  Gen : 14\n",
      "Next  Gen : 4000\n",
      "Next  Gen : 15\n",
      "Next  Gen : 4500\n",
      "Next  Gen : 15\n",
      "Next  Gen : 5000\n",
      "Final Solution Score : 15 \n",
      "Gens : 5001\n"
     ]
    }
   ],
   "source": [
    "# Initialize Population\n",
    "Chromos  = [[randint(0,1) for i in range(LENGTH)] for x in range(POPULATION)]\n",
    "\n",
    "Max_Fitness = 0\n",
    "Generations=0\n",
    "\n",
    "# Target = 16#int (LENGTH/ 2)\n",
    "Target = 16 #int (LENGTH/ 2)\n",
    "#Target =20000#700 #(POPULATION * (LENGTH/ 2) )/2\n",
    "\n",
    "# for generation in range (0,1):\n",
    "while  Max_Fitness< Target:\n",
    "    # Initialize Fitness, Prob_Fit and Next_Gen\n",
    "    Fitness  = [0 for i in range(POPULATION)]\n",
    "    Prob_Fit = [0 for i in range(POPULATION)]\n",
    "    Parents_indexes  = [0 for i in range (NEXT_GEN_SIZE)]\n",
    "    Parents  = [0 for i in range (NEXT_GEN_SIZE)]\n",
    "    Next_Gen = [[0 for i in range(LENGTH)] for k in range (NEXT_GEN_SIZE)]\n",
    "\n",
    "    Max_Gen_Fitness=0\n",
    "    \n",
    "\n",
    "    # Evaluating Population using Fittness Function \n",
    "    Evaluation(Chromos, Fitness)\n",
    "    # print(Chromos[1], \"  \", Fitness, \"\\n\")\n",
    "\n",
    "    # Assign Probability wrt Fitness Proportional \n",
    "    FitnessProportional(Fitness, Prob_Fit)\n",
    "\n",
    "    for i in range (NEXT_GEN_SIZE):\n",
    "        index = weighted_choice(Prob_Fit)\n",
    "        Parents_indexes[i] = index \n",
    "        Parents[i] = Chromos[index]\n",
    "\n",
    "    # Crossover\n",
    "    for i in range (0, NEXT_GEN_SIZE, 2):\n",
    "        Next_Gen[i][0:CP1]       = Parents[i][0:CP1]\n",
    "        Next_Gen[i][CP1:CP2]     = Parents[i+1][CP1:CP2]\n",
    "        Next_Gen[i][CP2:LENGTH]  = Parents[i][CP2:LENGTH]\n",
    "\n",
    "        Next_Gen[i+1][0:CP1]     = Parents[i+1][0:CP1]\n",
    "        Next_Gen[i+1][CP1:CP2]   = Parents[i][CP1:CP2]\n",
    "        Next_Gen[i+1][CP2:LENGTH]= Parents[i+1][CP2:LENGTH]\n",
    "\n",
    "    #print (Parents, \"\\n CP:\", CP1, CP2, \"\\n\", Next_Gen)\n",
    "\n",
    "    # Mutation\n",
    "#     for i in range (0, NEXT_GEN_SIZE):\n",
    "#         for j in range (0, MUTATION_SIZE):\n",
    "#             mut_index = weighted_choice(Mut_rate)\n",
    "#             Parents[i][mut_index] = (Parents[i][mut_index]+1)%2 # Flip the bit\n",
    "\n",
    "#             # Modify directly the Chromos list \n",
    "#             Chromos[Parents_indexes[i]][mut_index] = Parents[i][mut_index]\n",
    "\n",
    "    replaced_mutants = 0\n",
    "    while replaced_mutants < NEXT_GEN_SIZE :\n",
    "        rand_index= randint(0, POPULATION-1)\n",
    "        parent=False\n",
    "        for j in range (NEXT_GEN_SIZE):\n",
    "            if rand_index == Parents_indexes[j]:\n",
    "                parent=True\n",
    "        if parent == False:\n",
    "            for m in range (0, MUTATION_SIZE):\n",
    "                mut_index = weighted_choice(Mut_rate)\n",
    "                Chromos[rand_index][mut_index] = (Chromos[rand_index][mut_index]+1)%2 # Flip the bit\n",
    "            replaced_mutants+=1\n",
    "\n",
    "    # Replace random non-parents with offspring\n",
    "    replaced = 0\n",
    "    while replaced < NEXT_GEN_SIZE :\n",
    "        rand_index= randint(0, POPULATION-1)\n",
    "        parent=False\n",
    "        for j in range (NEXT_GEN_SIZE):\n",
    "            if rand_index == Parents_indexes[j]:\n",
    "                parent=True\n",
    "        if parent == False:\n",
    "            #print (rand_index)\n",
    "            Chromos[rand_index] = Next_Gen[replaced]\n",
    "            replaced+=1\n",
    "    \n",
    "    Generations+=1\n",
    "    Max_Gen_Fitness = max(Fitness)\n",
    "    \n",
    "    if Max_Gen_Fitness > Max_Fitness:\n",
    "        Max_Fitness = Max_Gen_Fitness\n",
    "    \n",
    "    if Generations > 5000:\n",
    "        break\n",
    "            \n",
    "    if Generations == 1:\n",
    "        print(\"First gen :\", Max_Fitness)\n",
    "    if Generations % 500 ==0:\n",
    "        print(\"Next  Gen :\", Max_Fitness)\n",
    "        print(\"Next  Gen :\", Generations)\n",
    "\n",
    "print(\"Final Solution Score :\", Max_Fitness, \"\\nGens :\", Generations  ) "
   ]
  },
  {
   "cell_type": "code",
   "execution_count": null,
   "metadata": {
    "collapsed": true
   },
   "outputs": [],
   "source": []
  },
  {
   "cell_type": "code",
   "execution_count": 63,
   "metadata": {
    "collapsed": false
   },
   "outputs": [
    {
     "data": {
      "image/png": "[encoded data removed]",
      "text/plain": [
       "<matplotlib.figure.Figure at 0x10ff2b048>"
      ]
     },
     "metadata": {},
     "output_type": "display_data"
    }
   ],
   "source": [
    "def plot_result(X1,X2,Y1,Y2):\n",
    "    _ = plt.scatter(x=X1, y=X2, color='g')\n",
    "    _ = plt.scatter(x=Y1, y=Y2, color='b')\n",
    "    _ = plt.scatter(x=Z1, y=Z2, color='purple')\n",
    "    _ = plt.scatter(x=W1, y=W2, color='red')\n",
    "    \n",
    "X1=[1, 1, 1, 1, 1, 1, 1, 1, 1, 1]\n",
    "X2=[2, 2, 2, 2, 2, 2, 2, 2, 2, 2]\n",
    "Y1=[1]\n",
    "Y2=[3]\n",
    "Z1=[1, 50, 100, 150, 200, 250, 300, 350, 400, 450, 500, 540]\n",
    "Z2=[5,  6,   6,   6,   6,   6,   6,   6,   6,   6,  6,     7]\n",
    "W1=[1, 100,  500, 800, 1000, 2000, 3000, 4000, 5000]\n",
    "W2=[9,  13,   14,   14,  15,   15,  15,    15,   15]\n",
    "plot_result(X1,X2, Y1, Y2)\n",
    "  "
   ]
  },
  {
   "cell_type": "code",
   "execution_count": null,
   "metadata": {
    "collapsed": true
   },
   "outputs": [],
   "source": []
  }
 ],
 "metadata": {
  "anaconda-cloud": {},
  "kernelspec": {
   "display_name": "Python [Root]",
   "language": "python",
   "name": "Python [Root]"
  }
 },
 "nbformat": 4,
 "nbformat_minor": 0
}
