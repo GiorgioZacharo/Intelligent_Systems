{
 "cells": [
  {
   "cell_type": "code",
   "execution_count": 2,
   "metadata": {
    "collapsed": false
   },
   "outputs": [],
   "source": [
    "import numpy as np\n",
    "%matplotlib inline\n",
    "import matplotlib.pyplot as plt"
   ]
  },
  {
   "cell_type": "code",
   "execution_count": 25,
   "metadata": {
    "collapsed": true
   },
   "outputs": [],
   "source": [
    "# Initial weights\n",
    "W  = np.random.uniform( -.1, .1, size=(3,3) )\n",
    "\n",
    "# input the dataset\n",
    "TRAIN_X1 = [ 4, 4, 5, 5, 7,      1,  2,  3,  6,  3,  6,  4,  7 ]\n",
    "TRAIN_X2 = [ 2, 4, 3, 1, 2,      2,  1,  1,  5,  6,  7,  6,  6 ]\n",
    "TRAIN_Z  = [ 1, 1, 1, 1, 1,     -1, -1, -1, -1, -1, -1, -1, -1 ]\n",
    "TRAIN_N  = len(TRAIN_X1)\n",
    "TRAIN_X0 = np.ones(TRAIN_N)\n",
    "\n",
    "TEST_X1 = [ 4, 5, 3, 5, 6, 7,    3,  8,  4,  7,  2,  2 ]\n",
    "TEST_X2 = [ 1, 2, 4, 4, 1, 1,    2,  7,  7,  5,  3,  5 ]\n",
    "TEST_Z  = [ 1, 1, 1, 1, 1, 1,   -1, -1, -1, -1, -1, -1 ]\n",
    "TEST_N  = len(TEST_X1)\n",
    "TEST_X0 = np.ones(TEST_N)\n",
    "\n",
    "TRAIN_X  = np.array( [TRAIN_X0, TRAIN_X1, TRAIN_X2] ).T"
   ]
  },
  {
   "cell_type": "code",
   "execution_count": 28,
   "metadata": {
    "collapsed": false
   },
   "outputs": [
    {
     "data": {
      "text/plain": [
       "array([ 0.05132926,  0.06613931,  0.0537399 ])"
      ]
     },
     "execution_count": 28,
     "metadata": {},
     "output_type": "execute_result"
    }
   ],
   "source": [
    "i = 0\n",
    "j = 0\n",
    "W[i,:]"
   ]
  },
  {
   "cell_type": "code",
   "execution_count": 17,
   "metadata": {
    "collapsed": true
   },
   "outputs": [],
   "source": [
    "def plot_sep_line(w, n):\n",
    "    \n",
    "    domain = np.linspace(0,n)\n",
    "    image  = list( map( lambda x : -(w[1]*x + w[0])/w[2] , domain ) )\n",
    "    plt.plot(domain, image, color='purple')\n",
    "    \n",
    "def plot_result(w,h,n,X1,X2,line=False):\n",
    "    if line: plot_sep_line(w, n)\n",
    "    _ = plt.scatter(x=X1[:h], y=X2[:h], color='b')\n",
    "    _ = plt.scatter(x=X1[h:], y=X2[h:], color='r')"
   ]
  },
  {
   "cell_type": "markdown",
   "metadata": {},
   "source": [
    "## a)"
   ]
  },
  {
   "cell_type": "code",
   "execution_count": 23,
   "metadata": {
    "collapsed": false,
    "scrolled": true
   },
   "outputs": [
    {
     "data": {
      "image/png": "[encoded data removed]",
      "text/plain": [
       "<matplotlib.figure.Figure at 0xa18db4d0b8>"
      ]
     },
     "metadata": {},
     "output_type": "display_data"
    }
   ],
   "source": [
    "plot_result(W[0],5, TRAIN_N, TRAIN_X1, TRAIN_X2)"
   ]
  },
  {
   "cell_type": "code",
   "execution_count": 24,
   "metadata": {
    "collapsed": false,
    "scrolled": true
   },
   "outputs": [
    {
     "data": {
      "image/png": "[encoded data removed]",
      "text/plain": [
       "<matplotlib.figure.Figure at 0xa18dc1a400>"
      ]
     },
     "metadata": {},
     "output_type": "display_data"
    }
   ],
   "source": [
    "plot_result(W[0],5, TEST_N, TEST_X1, TEST_X2)"
   ]
  },
  {
   "cell_type": "code",
   "execution_count": 16,
   "metadata": {
    "collapsed": true
   },
   "outputs": [],
   "source": [
    "def sigmoid(x):\n",
    "    return 2*1/(1+np.exp(-x)) - 1\n",
    "\n",
    "def step(x):\n",
    "    return np.where( x > 0, 1, -1 )\n",
    "\n",
    "def linear (x):\n",
    "    return x\n",
    "\n",
    "# Pass the activation Function\n",
    "# Options: linear, step, sigmoid\n",
    "activate = linear\n",
    "\n",
    "def err(w, x, z):\n",
    "    net = activate( np.dot(x,w) )\n",
    "    return z - net\n",
    "\n",
    "def plot_errors(errors):\n",
    "    plt.plot(range(0,len(errors)), errors, label='Error' )   \n",
    "    plt.legend()"
   ]
  },
  {
   "cell_type": "code",
   "execution_count": 24,
   "metadata": {
    "collapsed": false,
    "scrolled": false
   },
   "outputs": [
    {
     "name": "stdout",
     "output_type": "stream",
     "text": [
      "New weights after 1 iteration:\n",
      " W0 = 1.9522\n",
      " W1 = 0.4396\n",
      " W2 = -0.7511\n"
     ]
    },
    {
     "data": {
      "image/png": "[encoded data removed]",
      "text/plain": [
       "<matplotlib.figure.Figure at 0xa7252f8da0>"
      ]
     },
     "metadata": {},
     "output_type": "display_data"
    }
   ],
   "source": [
    "ETA = 1/50\n",
    "W2  = W\n",
    "M   = 1\n",
    "\n",
    "for i in range(0,M):\n",
    "    update_avg  = 0\n",
    "    \n",
    "    for x,z in zip(X,Z):\n",
    "        e = err(W2,x,z)\n",
    "        update_avg  += ETA * e * x / N\n",
    "        \n",
    "    W2 += update_avg      # Update the weights\n",
    "\n",
    "print('New weights after 1 iteration:\\n W0 = {0:1.4f}\\n W1 = {1:1.4f}\\n W2 = {2:1.4f}'.format( *W2 ) )\n",
    "plot_result(W2)"
   ]
  },
  {
   "cell_type": "code",
   "execution_count": 25,
   "metadata": {
    "collapsed": false,
    "scrolled": false
   },
   "outputs": [
    {
     "name": "stdout",
     "output_type": "stream",
     "text": [
      "New weights:\n",
      " W0 = 2.5327\n",
      " W1 = -0.2583\n",
      " W2 = -0.1938\n"
     ]
    },
    {
     "data": {
      "image/png": "[encoded data removed]",
      "text/plain": [
       "<matplotlib.figure.Figure at 0xa7253601d0>"
      ]
     },
     "metadata": {},
     "output_type": "display_data"
    }
   ],
   "source": [
    "ETA = 1/50\n",
    "W2  = W\n",
    "M   = 1000\n",
    "\n",
    "errors = []\n",
    "\n",
    "for i in range(0,M):\n",
    "    total_error = 0\n",
    "    update_avg  = 0\n",
    "    \n",
    "    for x,z in zip(X,Z):\n",
    "        e = err(W2,x,z)\n",
    "        total_error += e ** 2\n",
    "        update_avg  += ETA * e * x / N\n",
    "        \n",
    "    W2 += update_avg      # Update the weights\n",
    "    errors.append(total_error)\n",
    "    if total_error == 0 : break\n",
    "\n",
    "print('New weights:\\n W0 = {0:1.4f}\\n W1 = {1:1.4f}\\n W2 = {2:1.4f}'.format( *W2 ) )\n",
    "plot_errors(errors)"
   ]
  },
  {
   "cell_type": "code",
   "execution_count": 26,
   "metadata": {
    "collapsed": false
   },
   "outputs": [
    {
     "data": {
      "image/png": "[encoded data removed]",
      "text/plain": [
       "<matplotlib.figure.Figure at 0xa7252ec4e0>"
      ]
     },
     "metadata": {},
     "output_type": "display_data"
    }
   ],
   "source": [
    "plot_result(W2)"
   ]
  },
  {
   "cell_type": "markdown",
   "metadata": {
    "collapsed": true
   },
   "source": [
    "<br/><br/><br/><br/>"
   ]
  },
  {
   "cell_type": "markdown",
   "metadata": {},
   "source": [
    "$$ E = ... $$\n",
    "$$ \\frac{ \\partial E } { \\partial w_1 } $$"
   ]
  }
 ],
 "metadata": {
  "anaconda-cloud": {},
  "kernelspec": {
   "display_name": "Python [Root]",
   "language": "python",
   "name": "Python [Root]"
  },
  "language_info": {
   "codemirror_mode": {
    "name": "ipython",
    "version": 3
   },
   "file_extension": ".py",
   "mimetype": "text/x-python",
   "name": "python",
   "nbconvert_exporter": "python",
   "pygments_lexer": "ipython3",
   "version": "3.5.2"
  }
 },
 "nbformat": 4,
 "nbformat_minor": 0
}
