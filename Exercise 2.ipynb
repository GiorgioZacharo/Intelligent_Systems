{
 "cells": [
  {
   "cell_type": "code",
   "execution_count": 1,
   "metadata": {
    "collapsed": false
   },
   "outputs": [],
   "source": [
    "import numpy as np\n",
    "%matplotlib inline\n",
    "import matplotlib.pyplot as plt"
   ]
  },
  {
   "cell_type": "code",
   "execution_count": 2,
   "metadata": {
    "collapsed": false
   },
   "outputs": [],
   "source": [
    "# Number of neurons in each layer\n",
    "NEURONS = [ 2, 3, 1 ]\n",
    "\n",
    "# Initial weights (Including Bias)\n",
    "W1  = np.random.uniform( -.1, .1, size=( NEURONS[0]+1, NEURONS[1] ) ).T\n",
    "W2  = np.random.uniform( -.1, .1, size=( NEURONS[1]+1, NEURONS[2] ) ).T\n",
    "\n",
    "# input the dataset\n",
    "TRAIN_X1 = [ 4, 4, 5, 5, 7,      1,  2,  3,  6,  3,  6,  4,  7 ]\n",
    "TRAIN_X2 = [ 2, 4, 3, 1, 2,      2,  1,  1,  5,  6,  7,  6,  6 ]\n",
    "TRAIN_Z  = [ 1, 1, 1, 1, 1,     -1, -1, -1, -1, -1, -1, -1, -1 ]\n",
    "TRAIN_N  = len(TRAIN_X1)\n",
    "TRAIN_X0 = np.ones(TRAIN_N)\n",
    "\n",
    "TEST_X1 = [ 4, 5, 3, 5, 6, 7,    3,  8,  4,  7,  2,  2 ]\n",
    "TEST_X2 = [ 1, 2, 4, 4, 1, 1,    2,  7,  7,  5,  3,  5 ]\n",
    "TEST_Z  = [ 1, 1, 1, 1, 1, 1,   -1, -1, -1, -1, -1, -1 ]\n",
    "TEST_N  = len(TEST_X1)\n",
    "TEST_X0 = np.ones(TEST_N)\n",
    "\n",
    "TRAIN_X  = np.array( [TRAIN_X0, TRAIN_X1, TRAIN_X2] ).T\n",
    "\n",
    "TRAIN_H  = np.ones([ TRAIN_N, NEURONS[1]+1 ])\n",
    "TRAIN_Y  = np.empty(TRAIN_N)\n",
    "\n",
    "TRAIN_delta_1 = np.empty([ TRAIN_N, NEURONS[0]+1 ] )\n",
    "TRAIN_delta_2 = np.empty([ TRAIN_N, NEURONS[2] ] )"
   ]
  },
  {
   "cell_type": "code",
   "execution_count": 3,
   "metadata": {
    "collapsed": true
   },
   "outputs": [],
   "source": [
    "def plot_sep_line(w, n):\n",
    "    \n",
    "    domain = np.linspace(0,n)\n",
    "    image  = list( map( lambda x : -(w[1]*x + w[0])/w[2] , domain ) )\n",
    "    plt.plot(domain, image, color='purple')\n",
    "    \n",
    "def plot_result(w,h,n,X1,X2,line=False):\n",
    "    if line: plot_sep_line(w, n)\n",
    "    _ = plt.scatter(x=X1[:h], y=X2[:h], color='b')\n",
    "    _ = plt.scatter(x=X1[h:], y=X2[h:], color='r')"
   ]
  },
  {
   "cell_type": "markdown",
   "metadata": {},
   "source": [
    "## a)"
   ]
  },
  {
   "cell_type": "code",
   "execution_count": 4,
   "metadata": {
    "collapsed": false,
    "scrolled": true
   },
   "outputs": [
    {
     "data": {
      "image/png": "[encoded data removed]",
      "text/plain": [
       "<matplotlib.figure.Figure at 0x1181bd828>"
      ]
     },
     "metadata": {},
     "output_type": "display_data"
    }
   ],
   "source": [
    "plot_result(W1[0], 5, TRAIN_N, TRAIN_X1, TRAIN_X2)"
   ]
  },
  {
   "cell_type": "code",
   "execution_count": 5,
   "metadata": {
    "collapsed": false,
    "scrolled": true
   },
   "outputs": [
    {
     "data": {
      "image/png": "[encoded data removed]",
      "text/plain": [
       "<matplotlib.figure.Figure at 0x114da64e0>"
      ]
     },
     "metadata": {},
     "output_type": "display_data"
    }
   ],
   "source": [
    "plot_result(W1[0], 5, TEST_N, TEST_X1, TEST_X2)"
   ]
  },
  {
   "cell_type": "code",
   "execution_count": 26,
   "metadata": {
    "collapsed": true
   },
   "outputs": [],
   "source": [
    "def sigmoid(x):\n",
    "    return 1/(1+np.exp(-x))\n",
    "    return 2*1/(1+np.exp(-x)) - 1\n",
    "\n",
    "def sigmoid_deriv(x):  # Might be wrong\n",
    "    return x*(1-x)\n",
    "\n",
    "def step(x):\n",
    "    return np.where( x > 0, 1, -1 )\n",
    "\n",
    "def linear (x):\n",
    "    return x\n",
    "\n",
    "# Pass the activation Function\n",
    "# Options: linear, step, sigmoid\n",
    "activate = linear"
   ]
  },
  {
   "cell_type": "markdown",
   "metadata": {},
   "source": [
    "$ net_i^l = \\sum_{j=0}^{j=L} w_{i,j} x_j $, with $x_0=1$ and $w_{i,0}=b_i$"
   ]
  },
  {
   "cell_type": "code",
   "execution_count": 27,
   "metadata": {
    "collapsed": false
   },
   "outputs": [],
   "source": [
    "ETA = 1/10\n",
    "\n",
    "def net(w, x):\n",
    "    return w.dot( x )"
   ]
  },
  {
   "cell_type": "code",
   "execution_count": 38,
   "metadata": {
    "collapsed": false,
    "scrolled": true
   },
   "outputs": [
    {
     "name": "stdout",
     "output_type": "stream",
     "text": [
      "CPU times: user 689 ms, sys: 6.88 ms, total: 696 ms\n",
      "Wall time: 770 ms\n"
     ]
    },
    {
     "data": {
      "image/png": "[encoded data removed]",
      "text/plain": [
       "<matplotlib.figure.Figure at 0x118a6f828>"
      ]
     },
     "metadata": {},
     "output_type": "display_data"
    }
   ],
   "source": [
    "%%time\n",
    "\n",
    "# Initial weights (Including Bias)\n",
    "W1  = np.random.uniform( -.1, .1, size=( NEURONS[0]+1, NEURONS[1] ) ).T\n",
    "W2  = np.random.uniform( -.1, .1, size=( NEURONS[1]+1, NEURONS[2] ) ).T\n",
    "\n",
    "W1_initial = W1\n",
    "W2_initial = W2\n",
    "\n",
    "M = 300\n",
    "errors = []\n",
    "\n",
    "for i in range(0,M):\n",
    "    total_error = 0\n",
    "    update_avg_2 = np.zeros( NEURONS[1]+1 )\n",
    "    update_avg_1 = np.zeros( [ NEURONS[1], NEURONS[0]+1 ]  )  # 3x3\n",
    "    \n",
    "    # First layer\n",
    "    for s in range(0, TRAIN_N):\n",
    "        TRAIN_H[ s, 1: ] = sigmoid( net(W1, TRAIN_X[s]) )\n",
    "\n",
    "    # Second layer\n",
    "    for s in range(0, TRAIN_N):\n",
    "        TRAIN_Y[s] = linear( net(W2, TRAIN_H[s]) )\n",
    "\n",
    "    # Compute the error    \n",
    "    ERR = TRAIN_Y - TRAIN_Z\n",
    "\n",
    "    # Compute the deltas\n",
    "    for s in range(0, TRAIN_N):\n",
    "        TRAIN_delta_2[s]   = ERR[s] * sigmoid_deriv( net(W2, TRAIN_H[s]) )\n",
    "\n",
    "        for i in range(0, NEURONS[0]+1):\n",
    "            TRAIN_delta_1[s,i] = TRAIN_delta_2[s] * W2[0,i] * sigmoid_deriv( net(W1, TRAIN_X[s])[i] )\n",
    "    \n",
    "    # Gradient descend\n",
    "    for s in range(0, TRAIN_N):\n",
    "        update_avg_2 += ETA * TRAIN_H[s] * TRAIN_delta_2[s] / TRAIN_N\n",
    "        \n",
    "        for j in range(0, NEURONS[0]+1):\n",
    "            # Where da f*&%$$% is the j ?\n",
    "            update_avg_1[:,j] += ETA * TRAIN_X[s] * TRAIN_delta_1[s,j] / TRAIN_N\n",
    "        \n",
    "        total_error  += ERR[s]**2\n",
    "    \n",
    "    # Update the weights\n",
    "    W1 -= update_avg_1\n",
    "    W2 -= update_avg_2\n",
    "    \n",
    "    errors.append(total_error)\n",
    "    if total_error == 0 : break\n",
    "\n",
    "        \n",
    "def plot_errors(errors):\n",
    "    plt.plot(range(0,len(errors)), errors, label='Error' )   \n",
    "    plt.legend()\n",
    "    \n",
    "plot_errors(errors)"
   ]
  },
  {
   "cell_type": "code",
   "execution_count": 37,
   "metadata": {
    "collapsed": false,
    "scrolled": true
   },
   "outputs": [
    {
     "data": {
      "text/plain": [
       "array([ -1.47190437e-03,  -7.07094087e-04,  -7.58780176e-04,\n",
       "        -1.52750353e-03,  -4.83664711e-04,  -2.46609712e-03,\n",
       "        -2.52287632e-03,  -2.19069592e-03,   3.18755663e-04,\n",
       "        -2.84459211e-04,   1.04589460e-03,   4.01615785e-05,\n",
       "         1.00593077e-03])"
      ]
     },
     "execution_count": 37,
     "metadata": {},
     "output_type": "execute_result"
    }
   ],
   "source": [
    "TRAIN_Y"
   ]
  },
  {
   "cell_type": "markdown",
   "metadata": {
    "collapsed": true
   },
   "source": [
    "<br/><br/><br/><br/>"
   ]
  },
  {
   "cell_type": "markdown",
   "metadata": {},
   "source": [
    "Taking inspiration from the book [Neural Networks](https://page.mi.fu-berlin.de/rojas/neural/chapter/K7.pdf) by R. Rojas."
   ]
  },
  {
   "cell_type": "markdown",
   "metadata": {},
   "source": [
    "![Network](Network.png \"Network\")"
   ]
  },
  {
   "cell_type": "markdown",
   "metadata": {},
   "source": [
    "### First step: feed-forward computation\n",
    "The vector $o$ is presented to the network. The vectors $o^{(1)}$ and $o^{(2)}$ are computed and stored. The evaluated derivatives of the activation functions are also stored at each unit."
   ]
  },
  {
   "cell_type": "code",
   "execution_count": 39,
   "metadata": {
    "collapsed": true
   },
   "outputs": [],
   "source": [
    "# Implementation"
   ]
  },
  {
   "cell_type": "markdown",
   "metadata": {},
   "source": [
    "### Second step: backpropagation to the output layer\n",
    "We are looking for the first set of partial derivatives $ \\partial E/\\partial w^{(2)} $."
   ]
  },
  {
   "cell_type": "code",
   "execution_count": 40,
   "metadata": {
    "collapsed": true
   },
   "outputs": [],
   "source": [
    "# Implementation"
   ]
  },
  {
   "cell_type": "markdown",
   "metadata": {},
   "source": [
    "### Third step: backpropagation to the hidden layer\n",
    "￼Now we want to compute the partial derivatives $\\partial E/ \\partial w^{(1)}$. Each unit $j$ in the hidden layer is connected to each unit $q$ in the output layer with an edge of weight $w^{(2)}$, for $q = 1,\\dots m$. The backpropagated error up to unit $j$ in\n",
    "the hidden layer must be computed taking into account all possible backward paths.\n",
    "The backpropagated error is then\n",
    "$$ \\delta_j^{(1)} = o^{(1)}(1 − o^{(1)}) \\sum_{q=1}^m w_{j,q}^{(2)} \\delta_q^{(2)} $$"
   ]
  },
  {
   "cell_type": "code",
   "execution_count": 41,
   "metadata": {
    "collapsed": true
   },
   "outputs": [],
   "source": [
    "# Implementation"
   ]
  },
  {
   "cell_type": "markdown",
   "metadata": {},
   "source": [
    "### Fourth step: weight updates\n",
    "After computing all partial derivatives the network weights are updated in the negative gradient direction. \n",
    "A learning constant $\\eta$ defines the step length of the correction. \n",
    "The corrections for the weights are given by\n",
    "\n",
    "$$ \\Delta w_{i,j}^{(2)} = − \\eta \\, o_i^{(1)} \\, \\delta_j^{(2)}, \\qquad i=1,\\dots,k+1 \\quad , \\quad j=1,\\dots,m $$\n",
    "\n",
    "and\n",
    "\n",
    "$$ \\Delta w_{i,j}^{(1)} = − \\eta \\, o_{i} \\, \\delta_j^{(1)}, \\qquad i=1,\\dots,n+1 \\quad , \\quad j=1,\\dots,k $$"
   ]
  },
  {
   "cell_type": "code",
   "execution_count": 41,
   "metadata": {
    "collapsed": true
   },
   "outputs": [],
   "source": [
    "# Implementation"
   ]
  },
  {
   "cell_type": "markdown",
   "metadata": {
    "collapsed": true
   },
   "source": [
    "<br/><br/><br/><br/>"
   ]
  }
 ],
 "metadata": {
  "anaconda-cloud": {},
  "kernelspec": {
   "display_name": "Python 3",
   "language": "python",
   "name": "python3"
  },
  "language_info": {
   "codemirror_mode": {
    "name": "ipython",
    "version": 3
   },
   "file_extension": ".py",
   "mimetype": "text/x-python",
   "name": "python",
   "nbconvert_exporter": "python",
   "pygments_lexer": "ipython3",
   "version": "3.5.1"
  }
 },
 "nbformat": 4,
 "nbformat_minor": 0
}
