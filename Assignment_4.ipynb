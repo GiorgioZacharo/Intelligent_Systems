{
 "cells": [
  {
   "cell_type": "code",
   "execution_count": 72,
   "metadata": {
    "collapsed": true
   },
   "outputs": [],
   "source": [
    "import numpy as np\n",
    "%matplotlib inline\n",
    "import matplotlib.pyplot as plt\n",
    "from random import randint\n",
    "import random"
   ]
  },
  {
   "cell_type": "code",
   "execution_count": 128,
   "metadata": {
    "collapsed": true
   },
   "outputs": [],
   "source": [
    "ROWS      = 5\n",
    "COLUMNS   = 7\n",
    "WALL_SIZE = 7\n",
    "ACTIONS   = 4\n",
    "STATES    = ROWS*COLUMNS \n",
    "NEXT_STATES = 4\n",
    "γ         = 0.9  # γάμμα\n",
    "\n",
    "# This is my world\n",
    "M =([0,  0,  0, 0, 0,  0, 0],\n",
    "    [0,  1, -1, 0, 0,  0, 0],\n",
    "    [0, -1, -1, 0, 0,  0, 0],\n",
    "    [0,  0, -1, 0, 0, -1, 0],\n",
    "    [0,  0,  0, 0, 1, -1, 2])\n",
    "\n",
    "# Actions\n",
    "A=[\"E\", \"W\", \"N\",\"S\"] # East, West, North, South\n",
    "\n",
    "# States\n",
    "S = ((0, 0), (0, 1), (0, 2), (0, 3), (0, 4), (0, 5), (0, 6),\n",
    "     (1, 0), (1, 1), (1, 2), (1, 3), (1, 4), (1, 5), (1, 6),\n",
    "     (2, 0), (2, 1), (2, 2), (2, 3), (2, 4), (2, 5), (2, 6),\n",
    "     (3, 0), (3, 1), (3, 2), (3, 3), (3, 4), (3, 5), (3, 6),\n",
    "     (4, 0), (4, 1), (4, 2), (4, 3), (4, 4), (4, 5), (4, 6),\n",
    "     )\n",
    "\n",
    "# Start and Goal\n",
    "starting_state = S[8]\n",
    "goal_state     = S[34]\n",
    "\n",
    "# Wall \n",
    "W=((1, 2), (2, 1), (2, 2), (2, 1), (3, 2), (3, 5), (4, 5))"
   ]
  },
  {
   "cell_type": "code",
   "execution_count": 129,
   "metadata": {
    "collapsed": false
   },
   "outputs": [
    {
     "name": "stdout",
     "output_type": "stream",
     "text": [
      "(0, 6) E\n"
     ]
    },
    {
     "data": {
      "text/plain": [
       "(1, 0)"
      ]
     },
     "execution_count": 129,
     "metadata": {},
     "output_type": "execute_result"
    }
   ],
   "source": [
    "def ConvertIndexToTuple(state):\n",
    "    return(tuple(int(x) for x in np.base_repr(state, 7, 1)[-2::]))\n",
    "\n",
    "def ConvertTupleToIndex(state):\n",
    "    return(int(\"\".join(str(x) for x in state), 7))\n",
    "\n",
    "def getNextState(state, action):\n",
    "    # Check if we reached goal state\n",
    "    if state == goal_state:\n",
    "        return state\n",
    "    \n",
    "    if action == \"E\":\n",
    "        next_state_index=ConvertTupleToIndex(state)+1\n",
    "    elif action == \"W\":\n",
    "        next_state_index=ConvertTupleToIndex(state)-1 \n",
    "    elif action == \"N\":\n",
    "        next_state_index=ConvertTupleToIndex(state)-COLUMNS\n",
    "    elif action == \"S\":\n",
    "        next_state_index=ConvertTupleToIndex(state)+COLUMNS \n",
    "             \n",
    "    # Check if next state hits the wall.\n",
    "    for i in range(0,WALL_SIZE):\n",
    "        if next_state_index == ConvertTupleToIndex(W[i]):\n",
    "            return state\n",
    "            \n",
    "    # Check if next state is within Maze.\n",
    "    if next_state_index >=0 and next_state_index <=34:\n",
    "        next_state=ConvertIndexToTuple(next_state_index)\n",
    "        return next_state\n",
    "    else:\n",
    "        return state    \n",
    "    \n",
    "#convertIndexToTuple(34)    \n",
    "#convertTupleToIndex(starting_state)\n",
    "#getNextState(starting_state, A[3])\n",
    "print(S[6], A[0])\n",
    "getNextState(S[6], A[0])"
   ]
  },
  {
   "cell_type": "code",
   "execution_count": 164,
   "metadata": {
    "collapsed": false
   },
   "outputs": [
    {
     "data": {
      "text/plain": [
       "[(0, 1), (0,), (0,), (1, 0)]"
      ]
     },
     "execution_count": 164,
     "metadata": {},
     "output_type": "execute_result"
    }
   ],
   "source": [
    "def getPossibleStates(state, action):\n",
    "    next_states = [0 for x in range(NEXT_STATES)]\n",
    "    next_states_index = [0 for x in range(NEXT_STATES)]\n",
    "    \n",
    "    for i in range(NEXT_STATES):\n",
    "        next_states[i]=state\n",
    "    \n",
    "    # Check if we reached goal state\n",
    "    if state == goal_state:\n",
    "        return next_states\n",
    "    \n",
    "    next_states_index[0]=ConvertTupleToIndex(state)+1 # E\n",
    "    next_states_index[1]=ConvertTupleToIndex(state)-1 # W\n",
    "    next_states_index[2]=ConvertTupleToIndex(state)-COLUMNS # N\n",
    "    next_states_index[3]=ConvertTupleToIndex(state)+COLUMNS # S\n",
    "             \n",
    "    # Check if next state hits the wall.\n",
    "    for i in range(0,NEXT_STATES):\n",
    "        for j in range(0,WALL_SIZE):\n",
    "            if next_states_index[i] == ConvertTupleToIndex(W[j]):\n",
    "                next_states_index[i]=ConvertTupleToIndex(state)\n",
    "\n",
    "        # Check if next state is within Maze.\n",
    "        if next_states_index[i] <0 or next_states_index[i] >34:\n",
    "            next_states_index[i]=ConvertTupleToIndex(state)\n",
    "\n",
    "        next_states[i]=ConvertIndexToTuple(next_states_index[i])\n",
    " \n",
    "    return next_states\n",
    "\n",
    "getPossibleStates(S[0], A[0])"
   ]
  },
  {
   "cell_type": "code",
   "execution_count": 176,
   "metadata": {
    "collapsed": false
   },
   "outputs": [],
   "source": [
    "def AllStatesTransition(current_state, action):\n",
    "    next_states_probability = [0 for x in range(NEXT_STATES)]\n",
    "    \n",
    "    for i in range(0,NEXT_STATES):\n",
    "        next_states_probability[i]=0\n",
    "    \n",
    "    if action == \"E\":\n",
    "        next_states_probability[0] = 0.7\n",
    "    elif action == \"W\":\n",
    "        next_states_probability[1] = 0.7\n",
    "    elif action == \"N\":\n",
    "        next_states_probability[2] = 0.7\n",
    "    elif action == \"S\":\n",
    "        next_states_probability[3] = 0.7 \n",
    "    \n",
    "    for i in range(0,NEXT_STATES):\n",
    "        if next_states_probability[i]==0:\n",
    "            next_states_probability[i]=0.1\n",
    "    return next_states_probability        \n",
    "\n",
    "def getReward( action, next_states):\n",
    "    next_states_reward = [0 for x in range(NEXT_STATES)]\n",
    "    \n",
    "    for i in range(0,NEXT_STATES):\n",
    "        if next_states[i] == goal_state:\n",
    "            next_states_reward[i]=10\n",
    "        else:\n",
    "            next_states_reward[i]=0\n",
    "    return next_states_reward       \n",
    "\n",
    "def StateTransition(current_state, action, next_state):\n",
    "    #next_state = getNextState( current_state, action) \n",
    "    if current_state == next_state:\n",
    "        return 1\n",
    "    else:\n",
    "        return 0.7\n",
    "    \n",
    "# def getReward(current_state, action, next_state):\n",
    "#     if next_state == goal_state:\n",
    "#         return 10\n",
    "#     else:\n",
    "#         return 0\n",
    "\n",
    "# Might keep it.\n",
    "def weighted_choice(weights):\n",
    "    totals = []\n",
    "    running_total = 0\n",
    "\n",
    "    for w in weights:\n",
    "        running_total += w\n",
    "        totals.append(running_total)\n",
    "\n",
    "    rnd = random.random() * running_total\n",
    "    for i, total in enumerate(totals):\n",
    "        if rnd < total:\n",
    "            return i    \n",
    "# for i in range (0,100):        \n",
    "#     print(weighted_choice([7,1,1,1]))"
   ]
  },
  {
   "cell_type": "code",
   "execution_count": 197,
   "metadata": {
    "collapsed": false
   },
   "outputs": [
    {
     "name": "stdout",
     "output_type": "stream",
     "text": [
      "[[(0, 1), (0,), (0,), (1, 0)], [(0, 1), (0,), (0,), (1, 0)], [(0, 1), (0,), (0,), (1, 0)], [(0, 1), (0,), (0,), (1, 0)]]\n",
      "-----------\n",
      "[[0.7, 0.1, 0.1, 0.1], [0.1, 0.7, 0.1, 0.1], [0.1, 0.1, 0.7, 0.1], [0.1, 0.1, 0.1, 0.7]]\n",
      "[[0, 0, 0, 0], [0, 0, 0, 0], [0, 0, 0, 0], [0, 0, 0, 0]]\n"
     ]
    },
    {
     "data": {
      "text/plain": [
       "4"
      ]
     },
     "execution_count": 197,
     "metadata": {},
     "output_type": "execute_result"
    }
   ],
   "source": [
    "# Define P and R matrices.\n",
    "# P = [[0 for x in range(ACTIONS)] for y in range(STATES)]  # Probabilty\n",
    "R = [[[0 for z in range(NEXT_STATES)] for x in range(ACTIONS)] for y in range(STATES)]  # Reward\n",
    "# N = [[0 for x in range(ACTIONS)] for y in range(STATES)]  # Next State\n",
    "N = [[[0 for z in range(NEXT_STATES)] for x in range(ACTIONS)] for y in range(STATES)]  # Next State\n",
    "P = [[[0 for z in range(NEXT_STATES)] for x in range(ACTIONS)] for y in range(STATES)]  # Probabilty_new\n",
    "\n",
    "# # Initialize P, R and N\n",
    "# for i in range (0, STATES):\n",
    "#     for j in range (0, ACTIONS):\n",
    "#         current_state = S[i]\n",
    "#         action = A[j]\n",
    "#         next_state = getNextState(current_state, action)\n",
    "#         N[i][j] = next_state\n",
    "# #         P[i][j] = StateTransition(current_state, action, next_state)\n",
    "#         R[i][j] = getReward(current_state, action, next_state)\n",
    "#         P[i][j][0] =  StateTransition(current_state, action, next_state)\n",
    "#         if P[i][j][0] == 0.7:\n",
    "#              for k in range (1, NEXT_STATES):\n",
    "#                     P[i][j][k]=0.1 \n",
    "\n",
    "# Initialize P, R and N\n",
    "for i in range (0, STATES):\n",
    "    for j in range (0, ACTIONS):\n",
    "        current_state = S[i]\n",
    "        action = A[j]\n",
    "        next_states = getPossibleStates(current_state, action)\n",
    "        N[i][j] = next_states\n",
    "        P[i][j] = AllStatesTransition(current_state, action)\n",
    "        R[i][j] = getReward( action, next_states)\n",
    "#         P[i][j][0] =  StateTransition(current_state, action, next_state)\n",
    "#         if P[i][j][0] == 0.7:\n",
    "#              for k in range (1, NEXT_STATES):\n",
    "#                     P[i][j][k]=0.1                     \n",
    "                \n",
    "# print (P[0], N[0])\n",
    "# P[0][0][1] = 8\n",
    "# P[0][2][3] = 4\n",
    "# P[1][0][3] = 7\n",
    "# P[1][2][3] = 9\n",
    "print (N[0])\n",
    "print (\"-----------\")\n",
    "print (P[0])\n",
    "print (R[0])\n",
    "#sum(P[0][1])\n"
   ]
  },
  {
   "cell_type": "code",
   "execution_count": 204,
   "metadata": {
    "collapsed": false
   },
   "outputs": [
    {
     "data": {
      "text/plain": [
       "[0.0,\n",
       " 0.0,\n",
       " 0.0,\n",
       " 0.0,\n",
       " 0.0,\n",
       " 0.0,\n",
       " 0.0,\n",
       " 0.0,\n",
       " 0.0,\n",
       " 0.0,\n",
       " 0.0,\n",
       " 0.0,\n",
       " 0.0,\n",
       " 0.0,\n",
       " 0.0,\n",
       " 0.0,\n",
       " 0.0,\n",
       " 0.0,\n",
       " 0.0,\n",
       " 0.0,\n",
       " 0.0,\n",
       " 0.0,\n",
       " 0.0,\n",
       " 0.0,\n",
       " 0.0,\n",
       " 0.0,\n",
       " 0.0,\n",
       " 2.5,\n",
       " 0.0,\n",
       " 0.0,\n",
       " 0.0,\n",
       " 0.0,\n",
       " 0.0,\n",
       " 2.5,\n",
       " 10.0]"
      ]
     },
     "execution_count": 204,
     "metadata": {},
     "output_type": "execute_result"
    }
   ],
   "source": [
    "# current_state  = starting_state # S[8]\n",
    "#action = A[randint(0,3)] # Random Policy\n",
    "\n",
    "# Initialize V(s)=0\n",
    "V = [0 for x in range(STATES)] \n",
    "Q = [[0 for x in range(ACTIONS)] for y in range(STATES)] \n",
    "\n",
    "# Initialize π(s,α)=0.25\n",
    "π = [[0.25 for x in range(ACTIONS)] for y in range(STATES)]\n",
    "\n",
    "Δ=0\n",
    "θ=2\n",
    "while Δ<θ:\n",
    "    for s in range (0, STATES):\n",
    "        v=V[s]\n",
    "        for a in range (0, ACTIONS):\n",
    "            for n in range (0, NEXT_STATES):\n",
    "                V[s]+=π[s][a]*P[s][a][n] * (R[s][a][n]+ γ*V[n])\n",
    "                Δ=max(Δ, abs(v-V[s]))\n",
    "V"
   ]
  },
  {
   "cell_type": "code",
   "execution_count": null,
   "metadata": {
    "collapsed": true
   },
   "outputs": [],
   "source": []
  },
  {
   "cell_type": "code",
   "execution_count": 49,
   "metadata": {
    "collapsed": false
   },
   "outputs": [
    {
     "name": "stdout",
     "output_type": "stream",
     "text": [
      "Current state :  (1, 1)\n",
      "Move to       :  E\n",
      "Next state    :  (1, 1)\n",
      "Probability of Next State :  1\n",
      "Reward :  0\n"
     ]
    }
   ],
   "source": [
    "# Ex 1\n",
    "\n",
    "current_state  = starting_state\n",
    "action = A[0]\n",
    "\n",
    "next_state = getNextState(current_state, action)\n",
    "prob_next  = StateTransition(current_state, action, next_state)\n",
    "reward     = getReward(current_state, action, next_state)\n",
    "\n",
    "print ('Current state : ' , current_state)\n",
    "print ('Move to       : ' , action)\n",
    "print ('Next state    : ' , next_state)\n",
    "print ('Probability of Next State : ', prob_next )\n",
    "print ('Reward : ', reward )"
   ]
  },
  {
   "cell_type": "code",
   "execution_count": 50,
   "metadata": {
    "collapsed": false
   },
   "outputs": [
    {
     "name": "stdout",
     "output_type": "stream",
     "text": [
      "Initial state :  (1, 1)\n",
      "Goal Reached! :  (4, 6)\n",
      "Current state :  (4, 6)\n",
      "Move to       :  S\n",
      "Next state    :  (4, 6)\n",
      "290\n"
     ]
    }
   ],
   "source": [
    "# Ex 2\n",
    "\n",
    "current_state  = starting_state\n",
    "counter = 0\n",
    "print ('Initial state : ' , current_state)\n",
    "#while current_state != goal_state:\n",
    "for i in range (0, 1000):\n",
    "    action = A[randint(0,3)]\n",
    "    next_state = getNextState(current_state, action)\n",
    "    prob_next  = StateTransition(current_state, action, next_state)\n",
    "    reward     += getReward(current_state, action, next_state)\n",
    "    counter= counter+1\n",
    "    print (current_state)\n",
    "    print ()\n",
    "    current_state = next_state\n",
    "    if current_state == goal_state:\n",
    "        print ('Goal Reached! : ' , current_state)\n",
    "        break\n",
    "print ('Current state : ' , current_state)\n",
    "print ('Move to       : ' , action)\n",
    "print ('Next state    : ' , next_state)\n",
    "print(counter)   "
   ]
  },
  {
   "cell_type": "code",
   "execution_count": null,
   "metadata": {
    "collapsed": true
   },
   "outputs": [],
   "source": []
  }
 ],
 "metadata": {
  "anaconda-cloud": {},
  "kernelspec": {
   "display_name": "Python [Root]",
   "language": "python",
   "name": "Python [Root]"
  },
  "language_info": {
   "codemirror_mode": {
    "name": "ipython",
    "version": 3
   },
   "file_extension": ".py",
   "mimetype": "text/x-python",
   "name": "python",
   "nbconvert_exporter": "python",
   "pygments_lexer": "ipython3",
   "version": "3.5.2"
  }
 },
 "nbformat": 4,
 "nbformat_minor": 0
}
