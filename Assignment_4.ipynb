{
 "cells": [
  {
   "cell_type": "code",
   "execution_count": 1,
   "metadata": {
    "collapsed": true
   },
   "outputs": [],
   "source": [
    "import numpy as np\n",
    "%matplotlib inline\n",
    "import matplotlib.pyplot as plt\n",
    "from random import randint"
   ]
  },
  {
   "cell_type": "code",
   "execution_count": 2,
   "metadata": {
    "collapsed": true
   },
   "outputs": [],
   "source": [
    "ROWS      = 5\n",
    "COLUMNS   = 7\n",
    "WALL_SIZE = 7\n",
    "ACTIONS   = 4\n",
    "STATES    = ROWS*COLUMNS \n",
    "γ         = 0.9  # γάμμα\n",
    "\n",
    "# This is my world\n",
    "M =([0,  0,  0, 0, 0,  0, 0],\n",
    "    [0,  1, -1, 0, 0,  0, 0],\n",
    "    [0, -1, -1, 0, 0,  0, 0],\n",
    "    [0,  0, -1, 0, 0, -1, 0],\n",
    "    [0,  0,  0, 0, 1, -1, 2])\n",
    "\n",
    "# Actions\n",
    "A=[\"E\", \"W\", \"N\",\"S\"] # East, West, North, South\n",
    "\n",
    "# States\n",
    "S = ((0, 0), (0, 1), (0, 2), (0, 3), (0, 4), (0, 5), (0, 6),\n",
    "     (1, 0), (1, 1), (1, 2), (1, 3), (1, 4), (1, 5), (1, 6),\n",
    "     (2, 0), (2, 1), (2, 2), (2, 3), (2, 4), (2, 5), (2, 6),\n",
    "     (3, 0), (3, 1), (3, 2), (3, 3), (3, 4), (3, 5), (3, 6),\n",
    "     (4, 0), (4, 1), (4, 2), (4, 3), (4, 4), (4, 5), (4, 6),\n",
    "     )\n",
    "\n",
    "# Start and Goal\n",
    "starting_state = S[8]\n",
    "goal_state     = S[34]\n",
    "\n",
    "# Wall \n",
    "W=((1, 2), (2, 1), (2, 2), (2, 1), (3, 2), (3, 5), (4, 5))"
   ]
  },
  {
   "cell_type": "code",
   "execution_count": 29,
   "metadata": {
    "collapsed": false
   },
   "outputs": [
    {
     "name": "stdout",
     "output_type": "stream",
     "text": [
      "(0, 6) E\n"
     ]
    },
    {
     "data": {
      "text/plain": [
       "(1, 0)"
      ]
     },
     "execution_count": 29,
     "metadata": {},
     "output_type": "execute_result"
    }
   ],
   "source": [
    "def ConvertIndexToTuple(state):\n",
    "    return(tuple(int(x) for x in np.base_repr(state, 7, 1)[-2::]))\n",
    "\n",
    "def ConvertTupleToIndex(state):\n",
    "    return(int(\"\".join(str(x) for x in state), 7))\n",
    "\n",
    "def getNextState(state, action):\n",
    "    if action == \"E\":\n",
    "        next_state_index=ConvertTupleToIndex(state)+1\n",
    "    elif action == \"W\":\n",
    "        next_state_index=ConvertTupleToIndex(state)-1 \n",
    "    elif action == \"N\":\n",
    "        next_state_index=ConvertTupleToIndex(state)-COLUMNS\n",
    "    elif action == \"S\":\n",
    "        next_state_index=ConvertTupleToIndex(state)+COLUMNS \n",
    "        \n",
    "#     print ('next  index ', next_state_index)    \n",
    "    \n",
    "    # Check if next state hits wall.\n",
    "    for i in range(0,WALL_SIZE):\n",
    "        if next_state_index == ConvertTupleToIndex(W[i]):\n",
    "            return state\n",
    "            \n",
    "    # Check if next state is within Maze.\n",
    "    if next_state_index >=0 and next_state_index <=34:\n",
    "        next_state=ConvertIndexToTuple(next_state_index)\n",
    "        return next_state\n",
    "    else:\n",
    "        return state    \n",
    "    \n",
    "#convertIndexToTuple(34)    \n",
    "#convertTupleToIndex(starting_state)\n",
    "#getNextState(starting_state, A[3])\n",
    "print(S[6], A[0])\n",
    "getNextState(S[6], A[0])"
   ]
  },
  {
   "cell_type": "code",
   "execution_count": 4,
   "metadata": {
    "collapsed": false
   },
   "outputs": [],
   "source": [
    "def StateTransition(current_state, action, next_state):\n",
    "    #next_state = getNextState( current_state, action) \n",
    "    if current_state == next_state:\n",
    "        return 1\n",
    "    else:\n",
    "        return 0.7\n",
    "    \n",
    "def getReward(current_state, action, next_state):\n",
    "    if next_state == goal_state:\n",
    "        return 10\n",
    "    else:\n",
    "        return 0"
   ]
  },
  {
   "cell_type": "code",
   "execution_count": 49,
   "metadata": {
    "collapsed": false
   },
   "outputs": [
    {
     "name": "stdout",
     "output_type": "stream",
     "text": [
      "Current state :  (1, 1)\n",
      "Move to       :  E\n",
      "Next state    :  (1, 1)\n",
      "Probability of Next State :  1\n",
      "Reward :  0\n"
     ]
    }
   ],
   "source": [
    "current_state  = starting_state\n",
    "action = A[0]\n",
    "\n",
    "next_state = getNextState(current_state, action)\n",
    "prob_next  = StateTransition(current_state, action, next_state)\n",
    "reward     = getReward(current_state, action, next_state)\n",
    "\n",
    "print ('Current state : ' , current_state)\n",
    "print ('Move to       : ' , action)\n",
    "print ('Next state    : ' , next_state)\n",
    "print ('Probability of Next State : ', prob_next )\n",
    "print ('Reward : ', reward )"
   ]
  },
  {
   "cell_type": "code",
   "execution_count": 50,
   "metadata": {
    "collapsed": false
   },
   "outputs": [
    {
     "name": "stdout",
     "output_type": "stream",
     "text": [
      "Initial state :  (1, 1)\n",
      "Goal Reached! :  (4, 6)\n",
      "Current state :  (4, 6)\n",
      "Move to       :  S\n",
      "Next state    :  (4, 6)\n",
      "290\n"
     ]
    }
   ],
   "source": [
    "current_state  = starting_state\n",
    "counter = 0\n",
    "print ('Initial state : ' , current_state)\n",
    "#while current_state != goal_state:\n",
    "for i in range (0, 1000):\n",
    "    action = A[randint(0,3)]\n",
    "    next_state = getNextState(current_state, action)\n",
    "    prob_next  = StateTransition(current_state, action, next_state)\n",
    "    reward     += getReward(current_state, action, next_state)\n",
    "    counter= counter+1\n",
    "    print (current_state)\n",
    "    print ()\n",
    "    current_state = next_state\n",
    "    if current_state == goal_state:\n",
    "        print ('Goal Reached! : ' , current_state)\n",
    "        break\n",
    "print ('Current state : ' , current_state)\n",
    "print ('Move to       : ' , action)\n",
    "print ('Next state    : ' , next_state)\n",
    "print(counter)   "
   ]
  },
  {
   "cell_type": "code",
   "execution_count": null,
   "metadata": {
    "collapsed": true
   },
   "outputs": [],
   "source": []
  }
 ],
 "metadata": {
  "anaconda-cloud": {},
  "kernelspec": {
   "display_name": "Python [Root]",
   "language": "python",
   "name": "Python [Root]"
  },
  "language_info": {
   "codemirror_mode": {
    "name": "ipython",
    "version": 3
   },
   "file_extension": ".py",
   "mimetype": "text/x-python",
   "name": "python",
   "nbconvert_exporter": "python",
   "pygments_lexer": "ipython3",
   "version": "3.5.2"
  }
 },
 "nbformat": 4,
 "nbformat_minor": 0
}
