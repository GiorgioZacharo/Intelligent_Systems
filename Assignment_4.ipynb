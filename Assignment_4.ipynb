{
 "cells": [
  {
   "cell_type": "code",
   "execution_count": 1,
   "metadata": {
    "collapsed": true
   },
   "outputs": [],
   "source": [
    "import numpy as np\n",
    "%matplotlib inline\n",
    "import matplotlib.pyplot as plt"
   ]
  },
  {
   "cell_type": "code",
   "execution_count": 48,
   "metadata": {
    "collapsed": false
   },
   "outputs": [
    {
     "data": {
      "text/plain": [
       "(4, 6)"
      ]
     },
     "execution_count": 48,
     "metadata": {},
     "output_type": "execute_result"
    }
   ],
   "source": [
    "ROWS    = 5\n",
    "COLUMNS = 7\n",
    "ACTIONS = 4\n",
    "STATES  = ROWS*COLUMNS \n",
    "gamma = 0.9\n",
    "\n",
    "# This is my world\n",
    "M =([0,  0,  0, 0, 0,  0, 0],\n",
    "    [0,  1, -1, 0, 0,  0, 0],\n",
    "    [0, -1, -1, 0, 0,  0, 0],\n",
    "    [0,  0, -1, 0, 0, -1, 0],\n",
    "    [0,  0,  0, 0, 1, -1, 2])\n",
    "\n",
    "# Actions\n",
    "A=[\"N\",\"S\", \"E\", \"W\"]\n",
    "\n",
    "# States\n",
    "# S=([0,  0,  0, 0, 0,  0, 0],\n",
    "#     [0,  1, -1, 0, 0,  0, 0],\n",
    "#     [0, -1, -1, 0, 0,  0, 0],\n",
    "#     [0,  0, -1, 0, 0, -1, 0],\n",
    "#     [0,  0,  0, 0, 1, -1, 0])\n",
    "# S=M\n",
    "\n",
    "S = ((0, 0), (0, 1), (0, 2), (0, 3), (0, 4), (0, 5), (0, 6),\n",
    "     (1, 0), (1, 1), (1, 2), (1, 3), (1, 4), (1, 5), (1, 6),\n",
    "     (2, 0), (2, 1), (2, 2), (2, 3), (2, 4), (2, 5), (2, 6),\n",
    "     (3, 0), (3, 1), (3, 2), (3, 3), (3, 4), (3, 5), (3, 6),\n",
    "     (4, 0), (4, 1), (4, 2), (4, 3), (4, 4), (4, 5), (4, 6),\n",
    "     )\n",
    "list1=range(0, ROWS)\n",
    "list2=range(0, COLUMNS)\n",
    "\n",
    "\n",
    "starting_state=S[34]\n",
    "goal_state=M[4][6]\n",
    "\n",
    "def ConvertIndexToTuple(state):\n",
    "    return(tuple(int(x) for x in np.base_repr(state, 7, 1)[-2::]))\n",
    "\n",
    "def ConvertTupleToIndex(state):\n",
    "    return(int(\"\".join(str(x) for x in state), 7))\n",
    "\n",
    "# def getNextState(list1[0],list2[1] action):\n",
    "#     if action == \"S\":\n",
    "#         return list1.index(list1[0])\n",
    "\n",
    "# def StateTransition(state, action, state_next):\n",
    "    \n",
    "convertIndexToTuple(34)    \n",
    "#convertTupleToIndex(starting_state)"
   ]
  },
  {
   "cell_type": "code",
   "execution_count": 3,
   "metadata": {
    "collapsed": false
   },
   "outputs": [
    {
     "name": "stdout",
     "output_type": "stream",
     "text": [
      "2\n"
     ]
    },
    {
     "data": {
      "text/plain": [
       "-1"
      ]
     },
     "execution_count": 3,
     "metadata": {},
     "output_type": "execute_result"
    }
   ],
   "source": [
    "print(goal_state)\n",
    "M[1][2]\n"
   ]
  },
  {
   "cell_type": "code",
   "execution_count": null,
   "metadata": {
    "collapsed": true
   },
   "outputs": [],
   "source": []
  }
 ],
 "metadata": {
  "anaconda-cloud": {},
  "kernelspec": {
   "display_name": "Python [Root]",
   "language": "python",
   "name": "Python [Root]"
  },
  "language_info": {
   "codemirror_mode": {
    "name": "ipython",
    "version": 3
   },
   "file_extension": ".py",
   "mimetype": "text/x-python",
   "name": "python",
   "nbconvert_exporter": "python",
   "pygments_lexer": "ipython3",
   "version": "3.5.2"
  }
 },
 "nbformat": 4,
 "nbformat_minor": 0
}
