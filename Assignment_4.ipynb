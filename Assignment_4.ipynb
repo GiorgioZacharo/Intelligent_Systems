{
 "cells": [
  {
   "cell_type": "code",
   "execution_count": 72,
   "metadata": {
    "collapsed": true
   },
   "outputs": [],
   "source": [
    "import numpy as np\n",
    "%matplotlib inline\n",
    "import matplotlib.pyplot as plt\n",
    "from random import randint\n",
    "import random"
   ]
  },
  {
   "cell_type": "code",
   "execution_count": 2,
   "metadata": {
    "collapsed": true
   },
   "outputs": [],
   "source": [
    "ROWS      = 5\n",
    "COLUMNS   = 7\n",
    "WALL_SIZE = 7\n",
    "ACTIONS   = 4\n",
    "STATES    = ROWS*COLUMNS \n",
    "γ         = 0.9  # γάμμα\n",
    "\n",
    "# This is my world\n",
    "M =([0,  0,  0, 0, 0,  0, 0],\n",
    "    [0,  1, -1, 0, 0,  0, 0],\n",
    "    [0, -1, -1, 0, 0,  0, 0],\n",
    "    [0,  0, -1, 0, 0, -1, 0],\n",
    "    [0,  0,  0, 0, 1, -1, 2])\n",
    "\n",
    "# Actions\n",
    "A=[\"E\", \"W\", \"N\",\"S\"] # East, West, North, South\n",
    "\n",
    "# States\n",
    "S = ((0, 0), (0, 1), (0, 2), (0, 3), (0, 4), (0, 5), (0, 6),\n",
    "     (1, 0), (1, 1), (1, 2), (1, 3), (1, 4), (1, 5), (1, 6),\n",
    "     (2, 0), (2, 1), (2, 2), (2, 3), (2, 4), (2, 5), (2, 6),\n",
    "     (3, 0), (3, 1), (3, 2), (3, 3), (3, 4), (3, 5), (3, 6),\n",
    "     (4, 0), (4, 1), (4, 2), (4, 3), (4, 4), (4, 5), (4, 6),\n",
    "     )\n",
    "\n",
    "# Start and Goal\n",
    "starting_state = S[8]\n",
    "goal_state     = S[34]\n",
    "\n",
    "# Wall \n",
    "W=((1, 2), (2, 1), (2, 2), (2, 1), (3, 2), (3, 5), (4, 5))"
   ]
  },
  {
   "cell_type": "code",
   "execution_count": 84,
   "metadata": {
    "collapsed": false
   },
   "outputs": [
    {
     "name": "stdout",
     "output_type": "stream",
     "text": [
      "(0, 6) E\n"
     ]
    },
    {
     "data": {
      "text/plain": [
       "(1, 0)"
      ]
     },
     "execution_count": 84,
     "metadata": {},
     "output_type": "execute_result"
    }
   ],
   "source": [
    "def ConvertIndexToTuple(state):\n",
    "    return(tuple(int(x) for x in np.base_repr(state, 7, 1)[-2::]))\n",
    "\n",
    "def ConvertTupleToIndex(state):\n",
    "    return(int(\"\".join(str(x) for x in state), 7))\n",
    "\n",
    "def getNextState(state, action):\n",
    "    # Check if we reached goal state\n",
    "    if state == goal_state:\n",
    "        return state\n",
    "    \n",
    "    if action == \"E\":\n",
    "        next_state_index=ConvertTupleToIndex(state)+1\n",
    "    elif action == \"W\":\n",
    "        next_state_index=ConvertTupleToIndex(state)-1 \n",
    "    elif action == \"N\":\n",
    "        next_state_index=ConvertTupleToIndex(state)-COLUMNS\n",
    "    elif action == \"S\":\n",
    "        next_state_index=ConvertTupleToIndex(state)+COLUMNS \n",
    "             \n",
    "    # Check if next state hits the wall.\n",
    "    for i in range(0,WALL_SIZE):\n",
    "        if next_state_index == ConvertTupleToIndex(W[i]):\n",
    "            return state\n",
    "            \n",
    "    # Check if next state is within Maze.\n",
    "    if next_state_index >=0 and next_state_index <=34:\n",
    "        next_state=ConvertIndexToTuple(next_state_index)\n",
    "        return next_state\n",
    "    else:\n",
    "        return state    \n",
    "    \n",
    "#convertIndexToTuple(34)    \n",
    "#convertTupleToIndex(starting_state)\n",
    "#getNextState(starting_state, A[3])\n",
    "print(S[6], A[0])\n",
    "getNextState(S[6], A[0])"
   ]
  },
  {
   "cell_type": "code",
   "execution_count": 86,
   "metadata": {
    "collapsed": false
   },
   "outputs": [],
   "source": [
    "def StateTransition(current_state, action, next_state):\n",
    "    #next_state = getNextState( current_state, action) \n",
    "    if current_state == next_state:\n",
    "        return 1\n",
    "    else:\n",
    "        return 0.7\n",
    "    \n",
    "def getReward(current_state, action, next_state):\n",
    "    if next_state == goal_state:\n",
    "        return 10\n",
    "    else:\n",
    "        return 0\n",
    "\n",
    "# Might keep it.\n",
    "def weighted_choice(weights):\n",
    "    totals = []\n",
    "    running_total = 0\n",
    "\n",
    "    for w in weights:\n",
    "        running_total += w\n",
    "        totals.append(running_total)\n",
    "\n",
    "    rnd = random.random() * running_total\n",
    "    for i, total in enumerate(totals):\n",
    "        if rnd < total:\n",
    "            return i    \n",
    "# for i in range (0,100):        \n",
    "#     print(weighted_choice([7,1,1,1]))        "
   ]
  },
  {
   "cell_type": "code",
   "execution_count": 90,
   "metadata": {
    "collapsed": false
   },
   "outputs": [
    {
     "data": {
      "text/plain": [
       "[[(0, 1), (0, 0), (0, 0), (1, 0)],\n",
       " [(0, 2), (0,), (0, 1), (1, 1)],\n",
       " [(0, 3), (0, 1), (0, 2), (0, 2)],\n",
       " [(0, 4), (0, 2), (0, 3), (1, 3)],\n",
       " [(0, 5), (0, 3), (0, 4), (1, 4)],\n",
       " [(0, 6), (0, 4), (0, 5), (1, 5)],\n",
       " [(1, 0), (0, 5), (0, 6), (1, 6)],\n",
       " [(1, 1), (0, 6), (0,), (2, 0)],\n",
       " [(1, 1), (1, 0), (0, 1), (1, 1)],\n",
       " [(1, 3), (1, 1), (0, 2), (1, 2)],\n",
       " [(1, 4), (1, 3), (0, 3), (2, 3)],\n",
       " [(1, 5), (1, 3), (0, 4), (2, 4)],\n",
       " [(1, 6), (1, 4), (0, 5), (2, 5)],\n",
       " [(2, 0), (1, 5), (0, 6), (2, 6)],\n",
       " [(2, 0), (1, 6), (1, 0), (3, 0)],\n",
       " [(2, 1), (2, 0), (1, 1), (3, 1)],\n",
       " [(2, 3), (2, 2), (2, 2), (2, 2)],\n",
       " [(2, 4), (2, 3), (1, 3), (3, 3)],\n",
       " [(2, 5), (2, 3), (1, 4), (3, 4)],\n",
       " [(2, 6), (2, 4), (1, 5), (2, 5)],\n",
       " [(3, 0), (2, 5), (1, 6), (3, 6)],\n",
       " [(3, 1), (2, 6), (2, 0), (4, 0)],\n",
       " [(3, 1), (3, 0), (3, 1), (4, 1)],\n",
       " [(3, 3), (3, 1), (3, 2), (4, 2)],\n",
       " [(3, 4), (3, 3), (2, 3), (4, 3)],\n",
       " [(3, 4), (3, 3), (2, 4), (4, 4)],\n",
       " [(3, 6), (3, 4), (2, 5), (3, 5)],\n",
       " [(4, 0), (3, 6), (2, 6), (4, 6)],\n",
       " [(4, 1), (3, 6), (3, 0), (4, 0)],\n",
       " [(4, 2), (4, 0), (3, 1), (4, 1)],\n",
       " [(4, 3), (4, 1), (4, 2), (4, 2)],\n",
       " [(4, 4), (4, 2), (3, 3), (4, 3)],\n",
       " [(4, 4), (4, 3), (3, 4), (4, 4)],\n",
       " [(4, 6), (4, 4), (4, 5), (4, 5)],\n",
       " [(4, 6), (4, 6), (4, 6), (4, 6)]]"
      ]
     },
     "execution_count": 90,
     "metadata": {},
     "output_type": "execute_result"
    }
   ],
   "source": [
    "# Define P and R matrices.\n",
    "P = [[0 for x in range(ACTIONS)] for y in range(STATES)]  # Probabilty\n",
    "R = [[0 for x in range(ACTIONS)] for y in range(STATES)]  # Reward\n",
    "N = [[0 for x in range(ACTIONS)] for y in range(STATES)]  # Next State\n",
    "\n",
    "# Initialize P, R and N\n",
    "for i in range (0, STATES):\n",
    "    for j in range (0, ACTIONS):\n",
    "        current_state = S[i]\n",
    "        action = A[j]\n",
    "        next_state = getNextState(current_state, action)\n",
    "        N[i][j] = next_state\n",
    "        P[i][j] = StateTransition(current_state, action, next_state)\n",
    "        R[i][j] = getReward(current_state, action, next_state) \n",
    "        \n",
    "N        "
   ]
  },
  {
   "cell_type": "code",
   "execution_count": 79,
   "metadata": {
    "collapsed": false
   },
   "outputs": [
    {
     "data": {
      "text/plain": [
       "0"
      ]
     },
     "execution_count": 79,
     "metadata": {},
     "output_type": "execute_result"
    }
   ],
   "source": [
    "# current_state  = starting_state # S[8]\n",
    "\n",
    "# Initialize V(s)=0\n",
    "V = [0 for x in range(STATES)] \n",
    "Q = [[0 for x in range(ACTIONS)] for y in range(STATES)] \n",
    "\n",
    "# Initialize π(s,α)=0.25\n",
    "π = [[0.25 for x in range(ACTIONS)] for y in range(STATES)]\n",
    "\n",
    "action = A[randint(0,3)] # Random Policy\n",
    "\n",
    "# next_state = getNextState(current_state, action)\n",
    "# StateTransition(current_state, action, next_state)\n",
    "# getReward(starting_state, action, next_state )"
   ]
  },
  {
   "cell_type": "code",
   "execution_count": null,
   "metadata": {
    "collapsed": true
   },
   "outputs": [],
   "source": []
  },
  {
   "cell_type": "code",
   "execution_count": 49,
   "metadata": {
    "collapsed": false
   },
   "outputs": [
    {
     "name": "stdout",
     "output_type": "stream",
     "text": [
      "Current state :  (1, 1)\n",
      "Move to       :  E\n",
      "Next state    :  (1, 1)\n",
      "Probability of Next State :  1\n",
      "Reward :  0\n"
     ]
    }
   ],
   "source": [
    "# Ex 1\n",
    "\n",
    "current_state  = starting_state\n",
    "action = A[0]\n",
    "\n",
    "next_state = getNextState(current_state, action)\n",
    "prob_next  = StateTransition(current_state, action, next_state)\n",
    "reward     = getReward(current_state, action, next_state)\n",
    "\n",
    "print ('Current state : ' , current_state)\n",
    "print ('Move to       : ' , action)\n",
    "print ('Next state    : ' , next_state)\n",
    "print ('Probability of Next State : ', prob_next )\n",
    "print ('Reward : ', reward )"
   ]
  },
  {
   "cell_type": "code",
   "execution_count": 50,
   "metadata": {
    "collapsed": false
   },
   "outputs": [
    {
     "name": "stdout",
     "output_type": "stream",
     "text": [
      "Initial state :  (1, 1)\n",
      "Goal Reached! :  (4, 6)\n",
      "Current state :  (4, 6)\n",
      "Move to       :  S\n",
      "Next state    :  (4, 6)\n",
      "290\n"
     ]
    }
   ],
   "source": [
    "# Ex 2\n",
    "\n",
    "current_state  = starting_state\n",
    "counter = 0\n",
    "print ('Initial state : ' , current_state)\n",
    "#while current_state != goal_state:\n",
    "for i in range (0, 1000):\n",
    "    action = A[randint(0,3)]\n",
    "    next_state = getNextState(current_state, action)\n",
    "    prob_next  = StateTransition(current_state, action, next_state)\n",
    "    reward     += getReward(current_state, action, next_state)\n",
    "    counter= counter+1\n",
    "    print (current_state)\n",
    "    print ()\n",
    "    current_state = next_state\n",
    "    if current_state == goal_state:\n",
    "        print ('Goal Reached! : ' , current_state)\n",
    "        break\n",
    "print ('Current state : ' , current_state)\n",
    "print ('Move to       : ' , action)\n",
    "print ('Next state    : ' , next_state)\n",
    "print(counter)   "
   ]
  },
  {
   "cell_type": "code",
   "execution_count": null,
   "metadata": {
    "collapsed": true
   },
   "outputs": [],
   "source": []
  }
 ],
 "metadata": {
  "anaconda-cloud": {},
  "kernelspec": {
   "display_name": "Python [Root]",
   "language": "python",
   "name": "Python [Root]"
  },
  "language_info": {
   "codemirror_mode": {
    "name": "ipython",
    "version": 3
   },
   "file_extension": ".py",
   "mimetype": "text/x-python",
   "name": "python",
   "nbconvert_exporter": "python",
   "pygments_lexer": "ipython3",
   "version": "3.5.2"
  }
 },
 "nbformat": 4,
 "nbformat_minor": 0
}
