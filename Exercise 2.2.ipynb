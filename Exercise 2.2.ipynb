{
 "cells": [
  {
   "cell_type": "code",
   "execution_count": 4,
   "metadata": {
    "collapsed": false
   },
   "outputs": [],
   "source": [
    "import numpy as np\n",
    "%matplotlib inline\n",
    "import matplotlib.pyplot as plt"
   ]
  },
  {
   "cell_type": "code",
   "execution_count": 5,
   "metadata": {
    "collapsed": false
   },
   "outputs": [],
   "source": [
    "# Number of neurons in each layer\n",
    "NEURONS = [ 2, 3, 1 ]\n",
    "\n",
    "# input the dataset\n",
    "TRAIN_X1 = [ 4, 4, 5, 5, 7,      1,  2,  3,  6,  3,  6,  4,  7 ]\n",
    "TRAIN_X2 = [ 2, 4, 3, 1, 2,      2,  1,  1,  5,  6,  7,  6,  6 ]\n",
    "TRAIN_Z  = [ 1, 1, 1, 1, 1,     -1, -1, -1, -1, -1, -1, -1, -1 ]\n",
    "TRAIN_N  = len(TRAIN_X1)\n",
    "TRAIN_X0 = np.ones(TRAIN_N)\n",
    "\n",
    "TEST_X1 = [ 4, 5, 3, 5, 6, 7,    3,  8,  4,  7,  2,  2 ]\n",
    "TEST_X2 = [ 1, 2, 4, 4, 1, 1,    2,  7,  7,  5,  3,  5 ]\n",
    "TEST_Z  = [ 1, 1, 1, 1, 1, 1,   -1, -1, -1, -1, -1, -1 ]\n",
    "TEST_N  = len(TEST_X1)\n",
    "TEST_X0 = np.ones(TEST_N)\n",
    "\n",
    "TRAIN_X = np.array( [TRAIN_X0, TRAIN_X1, TRAIN_X2] ).T\n",
    "TEST_X  = np.array( [TEST_X0, TEST_X1, TEST_X2] ).T"
   ]
  },
  {
   "cell_type": "markdown",
   "metadata": {},
   "source": [
    "## A)"
   ]
  },
  {
   "cell_type": "code",
   "execution_count": 6,
   "metadata": {
    "collapsed": true
   },
   "outputs": [],
   "source": [
    "def plot_set(h,X1,X2, ax=plt, title='Set'):\n",
    "    ax.scatter(x=X1[:h], y=X2[:h], color='b' )\n",
    "    ax.scatter(x=X1[h:], y=X2[h:], color='r' )\n",
    "    ax.set_title( title )"
   ]
  },
  {
   "cell_type": "code",
   "execution_count": 7,
   "metadata": {
    "collapsed": false,
    "scrolled": true
   },
   "outputs": [
    {
     "data": {
      "image/png": "[encoded data removed]",
      "text/plain": [
       "<matplotlib.figure.Figure at 0x10ca340b8>"
      ]
     },
     "metadata": {},
     "output_type": "display_data"
    }
   ],
   "source": [
    "fig, (ax1, ax2) = plt.subplots( 1,2, figsize=(16,5) )\n",
    "\n",
    "plot_set(5, TRAIN_X1, TRAIN_X2, ax1, 'Training Set')\n",
    "plot_set(5, TEST_X1 , TEST_X2 , ax2, 'Tes Set'     )"
   ]
  },
  {
   "cell_type": "markdown",
   "metadata": {
    "collapsed": true
   },
   "source": [
    "<br/><br/><br/><br/>"
   ]
  },
  {
   "cell_type": "markdown",
   "metadata": {},
   "source": [
    "Taking inspiration from the book [Neural Networks](https://page.mi.fu-berlin.de/rojas/neural/chapter/K7.pdf) by R. Rojas."
   ]
  },
  {
   "cell_type": "markdown",
   "metadata": {},
   "source": [
    "![Network](Network.png \"Network\")"
   ]
  },
  {
   "cell_type": "markdown",
   "metadata": {},
   "source": [
    "### First step: feed-forward computation\n",
    "The vector $o$ is presented to the network. The vectors $o^{(1)}$ and $o^{(2)}$ are computed and stored. The evaluated derivatives of the activation functions are also stored at each unit."
   ]
  },
  {
   "cell_type": "markdown",
   "metadata": {},
   "source": [
    "### Second step: backpropagation to the output layer\n",
    "We are looking for the first set of partial derivatives $ \\partial E/\\partial w_{i,j}^{(2)} = \\delta_j^{(2)} o_i^{(1)} $, where\n",
    "\n",
    "$$ \\delta_j^{(2)} = o_j^{(2)}(1 − o_j^{(2)})(o_j^{(2)} − t_j ) $$"
   ]
  },
  {
   "cell_type": "markdown",
   "metadata": {},
   "source": [
    "### Third step: backpropagation to the hidden layer\n",
    "￼Now we want to compute the partial derivatives $\\partial E/ \\partial w^{(1)}$. Each unit $j$ in the hidden layer is connected to each unit $q$ in the output layer with an edge of weight $w^{(2)}$, for $q = 1,\\dots m$. The backpropagated error up to unit $j$ in\n",
    "the hidden layer must be computed taking into account all possible backward paths.\n",
    "The backpropagated error is then\n",
    "$$ \\delta_j^{(1)} = o_j^{(1)}(1 − o_j^{(1)}) \\sum_{q=1}^m w_{j,q}^{(2)} \\delta_q^{(2)} $$"
   ]
  },
  {
   "cell_type": "markdown",
   "metadata": {},
   "source": [
    "### Fourth step: weight updates\n",
    "After computing all partial derivatives the network weights are updated in the negative gradient direction. \n",
    "A learning constant $\\eta$ defines the step length of the correction. \n",
    "The corrections for the weights are given by\n",
    "\n",
    "$$ \\Delta w_{i,j}^{(2)} = − \\eta \\, o_i^{(1)} \\, \\delta_j^{(2)}, \\qquad i=1,\\dots,k+1 \\quad , \\quad j=1,\\dots,m $$\n",
    "\n",
    "and\n",
    "\n",
    "$$ \\Delta w_{i,j}^{(1)} = − \\eta \\, o_{i} \\, \\delta_j^{(1)}, \\qquad i=1,\\dots,n+1 \\quad , \\quad j=1,\\dots,k $$"
   ]
  },
  {
   "cell_type": "markdown",
   "metadata": {},
   "source": [
    "# Implementation"
   ]
  },
  {
   "cell_type": "code",
   "execution_count": 8,
   "metadata": {
    "collapsed": true
   },
   "outputs": [],
   "source": [
    "def sigmoid(x):\n",
    "    return 1/(1+np.exp(-x))\n",
    "\n",
    "def step(x):\n",
    "    return np.where( x > 0, 1, -1 )"
   ]
  },
  {
   "cell_type": "code",
   "execution_count": 9,
   "metadata": {
    "collapsed": false
   },
   "outputs": [],
   "source": [
    "n = NEURONS[0]\n",
    "k = NEURONS[1]\n",
    "m = NEURONS[2]\n",
    "\n",
    "del_1   = np.empty( k )\n",
    "del_2   = np.empty( m )\n",
    "\n",
    "del_w_1 = np.empty( [ n+1, k ] )\n",
    "del_w_2 = np.empty( [ k+1, m ] )\n",
    "\n",
    "def TestPerformance(W1,W2):\n",
    "    total_error = 0\n",
    "    for s in range( 0, TEST_N ):\n",
    "        O_   = TEST_X[s]\n",
    "        net1 = np.dot( O_, W1 )\n",
    "        O1   = sigmoid(net1)\n",
    "        O1_  = [ 1, *O1 ]\n",
    "        O2   = np.dot( O1_, W2 )\n",
    "        total_error += np.abs( ( step(O2) - TRAIN_Z[s] ) ) * 0.5\n",
    "    return total_error\n",
    "\n",
    "def TrainAndTest(W1, W2, eta=0.1):\n",
    "    \n",
    "    error_TS = []\n",
    "    norm_1   = []\n",
    "    norm_2   = []\n",
    "\n",
    "    for epoch in range( 100000 ):\n",
    "\n",
    "        del_w_1_avg = np.zeros( [ n+1, k ] )\n",
    "        del_w_2_avg = np.zeros( [ k+1, m ] )\n",
    "\n",
    "        total_error = 0\n",
    "\n",
    "        for s in range( TRAIN_N ):\n",
    "\n",
    "            # First step: feed-forward computation\n",
    "            O_   = TRAIN_X[s]\n",
    "            O    = TRAIN_X[s][1:]\n",
    "\n",
    "            net1 = np.dot( O_, W1 )\n",
    "\n",
    "            O1   = sigmoid(net1)\n",
    "            O1_  = [ 1, *O1 ]\n",
    "\n",
    "            O2   = np.dot( O1_, W2 )\n",
    "\n",
    "            # Second step: backpropagation to the output layer\n",
    "            for j in range( 0, m ) :  # For us, j=0 only\n",
    "                del_2[j] = ( step(O2[j]) - TRAIN_Z[s] ) # * O2[j] * (1 - O2[j])\n",
    "\n",
    "            # Third step: backpropagation to the hidden layer\n",
    "            for j in range( 0, k ) :  # This should be vectorialized\n",
    "                del_1[j] = O1[j] * (1 - O1[j]) * W2[j,:] * del_2\n",
    "\n",
    "            # Fourth step: weight updates\n",
    "            for i in range(k+1):\n",
    "                for j in range(m):\n",
    "                    del_w_2[i,j] = - eta * O1_[i] * del_2[j]\n",
    "\n",
    "            for i in range(n+1):\n",
    "                for j in range(k):\n",
    "                    del_w_1[i,j] = - eta * O_[i] * del_1[j]\n",
    "\n",
    "            del_w_1_avg += del_w_1 / TRAIN_N\n",
    "            del_w_2_avg += del_w_2 / TRAIN_N\n",
    "\n",
    "            total_error += np.abs( ( step(O2) - TRAIN_Z[s] ) ) * 0.5\n",
    "\n",
    "        W1 += del_w_1_avg\n",
    "        W2 += del_w_2_avg\n",
    "\n",
    "        error_TS.append( total_error[0] )\n",
    "        norm_1.append( np.abs( W1 ).sum() )\n",
    "        norm_2.append( np.abs( W2 ).sum() )\n",
    "\n",
    "        if total_error == 0 : break\n",
    "    \n",
    "    testPerf = TestPerformance(W1,W2)\n",
    "    \n",
    "    return epoch, testPerf, error_TS"
   ]
  },
  {
   "cell_type": "code",
   "execution_count": 16,
   "metadata": {
    "collapsed": false
   },
   "outputs": [
    {
     "name": "stdout",
     "output_type": "stream",
     "text": [
      "0\n",
      "1\n",
      "2\n",
      "3\n",
      "4\n",
      "5\n",
      "6\n",
      "7\n",
      "8\n",
      "9\n",
      "CPU times: user 37.5 s, sys: 248 ms, total: 37.8 s\n",
      "Wall time: 37.7 s\n"
     ]
    }
   ],
   "source": [
    "%%time\n",
    "epochs    = []\n",
    "testPerfs = []\n",
    "error_TSs = []\n",
    "for r in range(10):\n",
    "    print(r)\n",
    "    # Random initial weights ( Including Bias )\n",
    "    W1 = np.random.uniform( -.1, .1, size=( NEURONS[0]+1, NEURONS[1] ) )\n",
    "    W2 = np.random.uniform( -.1, .1, size=( NEURONS[1]+1, NEURONS[2] ) )\n",
    "    epoch, testPerf, error_TS = TrainAndTest(W1, W2)\n",
    "    epochs   .append( epoch    )\n",
    "    testPerfs.append( testPerf )\n",
    "    error_TSs.append( error_TS )"
   ]
  },
  {
   "cell_type": "code",
   "execution_count": 11,
   "metadata": {
    "collapsed": false,
    "scrolled": true
   },
   "outputs": [],
   "source": [
    "def present_results(epochs, testPerfs, error_TSs, eta=0.1):\n",
    "    \n",
    "    print('Eta: {0}'.format(eta) )\n",
    "    print( 'Average   epochs: {0}'.format( np.mean( epochs ) ) )\n",
    "    # print( 'Std. dev. epochs: {0}'.format( np.std ( epochs ) ) )\n",
    "    #print()\n",
    "    print( 'Average   test performance: {0}'.format( np.mean( testPerfs ) ) )\n",
    "    # print( 'Std. dev. test performance: {0}'.format( np.std ( testPerfs ) ) )\n",
    "    print()\n",
    "    print()\n",
    "\n",
    "    # Padding\n",
    "    lenghts = [ len(x) for x in error_TSs ]\n",
    "    L = np.max( lenghts )\n",
    "    error_TSs_pad  = [ np.pad( x, (0,L-len(x)), 'constant', constant_values=0 ) for x in error_TSs]\n",
    "    error_TSs_mean = np.mean( error_TSs_pad, axis=0 )\n",
    "\n",
    "    # Plotting\n",
    "    plt.plot(range(0,len(error_TSs_mean)), error_TSs_mean, label='Error with eta = {0}'.format(eta)   )\n",
    "    _ = plt.legend()"
   ]
  },
  {
   "cell_type": "code",
   "execution_count": 17,
   "metadata": {
    "collapsed": false
   },
   "outputs": [
    {
     "name": "stdout",
     "output_type": "stream",
     "text": [
      "Eta: 0.1\n",
      "Average   epochs: 6492.6\n",
      "Average   test performance: 3.8\n",
      "\n",
      "\n"
     ]
    },
    {
     "data": {
      "image/png": "[encoded data removed]",
      "text/plain": [
       "<matplotlib.figure.Figure at 0x1113bceb8>"
      ]
     },
     "metadata": {},
     "output_type": "display_data"
    }
   ],
   "source": [
    "present_results(epochs, testPerfs, error_TSs)"
   ]
  },
  {
   "cell_type": "markdown",
   "metadata": {
    "collapsed": true
   },
   "source": [
    "<br/><br/><br/><br/>"
   ]
  },
  {
   "cell_type": "code",
   "execution_count": 125,
   "metadata": {
    "collapsed": false,
    "scrolled": true
   },
   "outputs": [
    {
     "name": "stdout",
     "output_type": "stream",
     "text": [
      "Eta: 10\n"
     ]
    },
    {
     "name": "stderr",
     "output_type": "stream",
     "text": [
      "//anaconda/lib/python3.5/site-packages/ipykernel/__main__.py:2: RuntimeWarning: overflow encountered in exp\n",
      "  from ipykernel import kernelapp as app\n"
     ]
    },
    {
     "name": "stdout",
     "output_type": "stream",
     "text": [
      "Eta: 1\n",
      "Eta: 0.1\n",
      "Eta: 0.01\n",
      "Eta: 0.001\n",
      "CPU times: user 8min 15s, sys: 1.92 s, total: 8min 17s\n",
      "Wall time: 8min 17s\n"
     ]
    }
   ],
   "source": [
    "%%time\n",
    "\n",
    "results = {}\n",
    "\n",
    "for eta in [10, 1, 1/10, 1/100, 1/1000]:\n",
    "    \n",
    "    print('Eta: {0}'.format(eta) )\n",
    "\n",
    "    epochs    = []\n",
    "    testPerfs = []\n",
    "    error_TSs = []\n",
    "\n",
    "    for r in range(10):\n",
    "        # Random initial weights ( Including Bias )\n",
    "        W1 = np.random.uniform( -.1, .1, size=( NEURONS[0]+1, NEURONS[1] ) )\n",
    "        W2 = np.random.uniform( -.1, .1, size=( NEURONS[1]+1, NEURONS[2] ) )\n",
    "        epoch, testPerf, error_TS = TrainAndTest(W1, W2, eta)\n",
    "        epochs   .append( epoch    )\n",
    "        testPerfs.append( testPerf )\n",
    "        error_TSs.append( error_TS )\n",
    "    \n",
    "    results[eta] = epochs, testPerfs, error_TSs"
   ]
  },
  {
   "cell_type": "code",
   "execution_count": 13,
   "metadata": {
    "collapsed": false,
    "scrolled": false
   },
   "outputs": [
    {
     "ename": "NameError",
     "evalue": "name 'results' is not defined",
     "output_type": "error",
     "traceback": [
      "\u001b[0;31m---------------------------------------------------------------------------\u001b[0m",
      "\u001b[0;31mNameError\u001b[0m                                 Traceback (most recent call last)",
      "\u001b[0;32m<ipython-input-13-7c706eed9a95>\u001b[0m in \u001b[0;36m<module>\u001b[0;34m()\u001b[0m\n\u001b[1;32m      1\u001b[0m \u001b[0;32mfor\u001b[0m \u001b[0meta\u001b[0m \u001b[0;32min\u001b[0m \u001b[0;34m[\u001b[0m\u001b[0;36m10\u001b[0m\u001b[0;34m,\u001b[0m \u001b[0;36m1\u001b[0m\u001b[0;34m,\u001b[0m \u001b[0;36m1\u001b[0m\u001b[0;34m/\u001b[0m\u001b[0;36m10\u001b[0m\u001b[0;34m,\u001b[0m \u001b[0;36m1\u001b[0m\u001b[0;34m/\u001b[0m\u001b[0;36m100\u001b[0m\u001b[0;34m,\u001b[0m \u001b[0;36m1\u001b[0m\u001b[0;34m/\u001b[0m\u001b[0;36m1000\u001b[0m\u001b[0;34m]\u001b[0m\u001b[0;34m:\u001b[0m\u001b[0;34m\u001b[0m\u001b[0m\n\u001b[0;32m----> 2\u001b[0;31m     \u001b[0mpresent_results\u001b[0m\u001b[0;34m(\u001b[0m \u001b[0;34m*\u001b[0m\u001b[0mresults\u001b[0m\u001b[0;34m[\u001b[0m\u001b[0meta\u001b[0m\u001b[0;34m]\u001b[0m\u001b[0;34m,\u001b[0m \u001b[0meta\u001b[0m \u001b[0;34m)\u001b[0m\u001b[0;34m\u001b[0m\u001b[0m\n\u001b[0m",
      "\u001b[0;31mNameError\u001b[0m: name 'results' is not defined"
     ]
    }
   ],
   "source": [
    "for eta in [10, 1, 1/10, 1/100, 1/1000]:\n",
    "    present_results( *results[eta], eta )"
   ]
  },
  {
   "cell_type": "code",
   "execution_count": 136,
   "metadata": {
    "collapsed": false,
    "scrolled": true
   },
   "outputs": [
    {
     "name": "stdout",
     "output_type": "stream",
     "text": [
      "Eta: 0.1\n",
      "Eta: 0.01\n",
      "Eta: 0.001\n",
      "CPU times: user 20min 14s, sys: 3.8 s, total: 20min 17s\n",
      "Wall time: 20min 17s\n"
     ]
    }
   ],
   "source": [
    "%%time\n",
    "\n",
    "results = {}\n",
    "\n",
    "for eta in [ 1/10, 1/100, 1/1000 ]:\n",
    "    \n",
    "    print('Eta: {0}'.format(eta) )\n",
    "\n",
    "    epochs    = []\n",
    "    testPerfs = []\n",
    "    error_TSs = []\n",
    "\n",
    "    for r in range(10):\n",
    "        # Random initial weights ( Including Bias )\n",
    "        W1 = np.random.uniform( -.1, .1, size=( NEURONS[0]+1, NEURONS[1] ) )\n",
    "        W2 = np.random.uniform( -.1, .1, size=( NEURONS[1]+1, NEURONS[2] ) )\n",
    "        epoch, testPerf, error_TS = TrainAndTest(W1, W2, eta)\n",
    "        epochs   .append( epoch    )\n",
    "        testPerfs.append( testPerf )\n",
    "        error_TSs.append( error_TS )\n",
    "    \n",
    "    results[eta] = epochs, testPerfs, error_TSs"
   ]
  },
  {
   "cell_type": "code",
   "execution_count": 138,
   "metadata": {
    "collapsed": false
   },
   "outputs": [
    {
     "name": "stdout",
     "output_type": "stream",
     "text": [
      "Eta: 0.1\n",
      "Average   epochs: 9962.2\n",
      "Average   test performance: 3.9\n",
      "\n",
      "\n",
      "Eta: 0.01\n",
      "Average   epochs: 66377.5\n",
      "Average   test performance: 3.4\n",
      "\n",
      "\n",
      "Eta: 0.001\n",
      "Average   epochs: 99999.0\n",
      "Average   test performance: 4.8\n",
      "\n",
      "\n"
     ]
    },
    {
     "data": {
      "image/png": "[encoded data removed]",
      "text/plain": [
       "<matplotlib.figure.Figure at 0x1163f82e8>"
      ]
     },
     "metadata": {},
     "output_type": "display_data"
    }
   ],
   "source": [
    "for eta in [ 1/10, 1/100, 1/1000 ]:\n",
    "    present_results( *results[eta], eta )"
   ]
  },
  {
   "cell_type": "markdown",
   "metadata": {
    "collapsed": true
   },
   "source": [
    "<br/><br/><br/><br/>"
   ]
  },
  {
   "cell_type": "code",
   "execution_count": 31,
   "metadata": {
    "collapsed": false
   },
   "outputs": [
    {
     "data": {
      "image/png": "[encoded data removed]",
      "text/plain": [
       "<matplotlib.figure.Figure at 0x10fbb7c88>"
      ]
     },
     "metadata": {},
     "output_type": "display_data"
    }
   ],
   "source": [
    "# Plot what happened\n",
    "fig, (ax1, ax2) = plt.subplots( 1,2, figsize=(16,5) )\n",
    "    \n",
    "ax1.plot(range(0,len(errors)), errors, label='Error'   )\n",
    "ax1.legend()\n",
    "\n",
    "ax2.plot(range(0,len(norm_1)), norm_1, label='Norm W1' ) \n",
    "ax2.plot(range(0,len(norm_2)), norm_2, label='Norm W2' ) \n",
    "_ = ax2.legend()"
   ]
  },
  {
   "cell_type": "code",
   "execution_count": 43,
   "metadata": {
    "collapsed": false
   },
   "outputs": [
    {
     "name": "stdout",
     "output_type": "stream",
     "text": [
      "[1]\n",
      "[1]\n",
      "[1]\n",
      "[1]\n",
      "[1]\n",
      "[-1]\n",
      "[-1]\n",
      "[-1]\n",
      "[-1]\n",
      "[-1]\n",
      "[-1]\n",
      "[-1]\n",
      "[-1]\n"
     ]
    }
   ],
   "source": [
    "for s in range( 0, TRAIN_N ):\n",
    "    # Feed-forward computation\n",
    "    O_   = TRAIN_X[s]\n",
    "    net1 = np.dot( O_, W1 )\n",
    "    O1   = sigmoid(net1)\n",
    "    O1_  = [ 1, *O1 ]\n",
    "    O2   = np.dot( O1_, W2 )\n",
    "    print( step(O2) )"
   ]
  },
  {
   "cell_type": "markdown",
   "metadata": {
    "collapsed": true
   },
   "source": [
    "<br/><br/><br/><br/>"
   ]
  }
 ],
 "metadata": {
  "anaconda-cloud": {},
  "kernelspec": {
   "display_name": "Python [Root]",
   "language": "python",
   "name": "Python [Root]"
  },
  "language_info": {
   "codemirror_mode": {
    "name": "ipython",
    "version": 3
   },
   "file_extension": ".py",
   "mimetype": "text/x-python",
   "name": "python",
   "nbconvert_exporter": "python",
   "pygments_lexer": "ipython3",
   "version": "3.5.2"
  }
 },
 "nbformat": 4,
 "nbformat_minor": 0
}
