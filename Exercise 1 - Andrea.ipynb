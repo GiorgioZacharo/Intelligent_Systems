{
 "cells": [
  {
   "cell_type": "markdown",
   "metadata": {},
   "source": [
    "# Exercise 1\n",
    "\n",
    "#### Andrea Barbon\n",
    "\n",
    "<br/><br/>"
   ]
  },
  {
   "cell_type": "code",
   "execution_count": 13,
   "metadata": {
    "collapsed": false
   },
   "outputs": [],
   "source": [
    "import numpy as np\n",
    "import seaborn\n",
    "%matplotlib inline\n",
    "import matplotlib.pyplot as plt"
   ]
  },
  {
   "cell_type": "markdown",
   "metadata": {},
   "source": [
    "# A)"
   ]
  },
  {
   "cell_type": "code",
   "execution_count": 14,
   "metadata": {
    "collapsed": true
   },
   "outputs": [],
   "source": [
    "# Initial weights\n",
    "W  = [2, 0.8, -0.5]\n",
    "\n",
    "# input the dataset\n",
    "X1 = [ 1, 6, 3, 4, 3, 1,     6,   7,  6, 10,  4 ]\n",
    "X2 = [ 8, 2, 6, 4, 1, 6,     10,  7, 11,  5, 11 ]\n",
    "Z  = [ 1, 1, 1, 1, 1, 1,     -1, -1, -1, -1, -1 ]\n",
    "N  = len(X1)\n",
    "X0 = np.ones(N)\n",
    "\n",
    "X  = np.array( [X0, X1, X2] ).T"
   ]
  },
  {
   "cell_type": "code",
   "execution_count": 15,
   "metadata": {
    "collapsed": true
   },
   "outputs": [],
   "source": [
    "def plot_sep_line(w, n):\n",
    "    \n",
    "    domain = np.linspace(0,n)\n",
    "    image  = list( map( lambda x : -(w[1]*x + w[0])/w[2] , domain ) )\n",
    "    plt.plot(domain, image, color='b')\n",
    "    \n",
    "def plot_result(w):\n",
    "    plot_sep_line(w, N)\n",
    "    _ = plt.scatter(x=X1[:6], y=X2[:6], color='g')\n",
    "    _ = plt.scatter(x=X1[6:], y=X2[6:], color='orange')"
   ]
  },
  {
   "cell_type": "code",
   "execution_count": 16,
   "metadata": {
    "collapsed": false
   },
   "outputs": [
    {
     "data": {
      "image/png": "[encoded data removed]",
      "text/plain": [
       "<matplotlib.figure.Figure at 0xbb5dfe1b00>"
      ]
     },
     "metadata": {},
     "output_type": "display_data"
    }
   ],
   "source": [
    "plot_result(W)"
   ]
  },
  {
   "cell_type": "markdown",
   "metadata": {},
   "source": [
    "# B)\n",
    "\n",
    "Since we are using the a linear activation function, the delta-rule is simply\n",
    "$$ \\delta = \\frac{\\partial E}{\\partial net} = o^{(1)} − z $$\n",
    "and the weghts are updated by\n",
    "$$ \\Delta w_{i} = − \\eta \\, o_i \\, \\delta, \\qquad i=0,\\dots,2 \\quad $$"
   ]
  },
  {
   "cell_type": "markdown",
   "metadata": {},
   "source": [
    "# C) and D)"
   ]
  },
  {
   "cell_type": "code",
   "execution_count": 17,
   "metadata": {
    "collapsed": true
   },
   "outputs": [],
   "source": [
    "def sigmoid(x):\n",
    "    return 2*1/(1+np.exp(-x)) - 1\n",
    "\n",
    "def step(x):\n",
    "    return np.where( x > 0, 1, -1 )\n",
    "\n",
    "def linear (x):\n",
    "    return x\n",
    "\n",
    "# Pass the activation Function\n",
    "# Options: linear, step, sigmoid\n",
    "activate = linear\n",
    "\n",
    "def err(w, x, z):\n",
    "    net = activate( np.dot(x,w) )\n",
    "    return z - net\n",
    "\n",
    "def plot_errors(errors):\n",
    "    plt.plot(range(0,len(errors)), errors, label='Error' )   \n",
    "    plt.legend()"
   ]
  },
  {
   "cell_type": "code",
   "execution_count": 18,
   "metadata": {
    "collapsed": false,
    "scrolled": true
   },
   "outputs": [
    {
     "name": "stdout",
     "output_type": "stream",
     "text": [
      "New weights after 1 iteration:\n",
      " W0 = 1.9522\n",
      " W1 = 0.4396\n",
      " W2 = -0.7511\n"
     ]
    },
    {
     "data": {
      "image/png": "[encoded data removed]",
      "text/plain": [
       "<matplotlib.figure.Figure at 0xbb5df8d9e8>"
      ]
     },
     "metadata": {},
     "output_type": "display_data"
    }
   ],
   "source": [
    "ETA = 1/50\n",
    "W2  = W\n",
    "M   = 1\n",
    "\n",
    "for i in range(0,M):\n",
    "    update_avg  = 0\n",
    "    \n",
    "    for x,z in zip(X,Z):\n",
    "        e = err(W2,x,z)\n",
    "        update_avg  += ETA * e * x / N\n",
    "        \n",
    "    W2 += update_avg\n",
    "\n",
    "print('New weights after 1 iteration:\\n W0 = {0:1.4f}\\n W1 = {1:1.4f}\\n W2 = {2:1.4f}'.format( *W2 ) )\n",
    "plot_result(W2)"
   ]
  },
  {
   "cell_type": "markdown",
   "metadata": {},
   "source": [
    "# E)"
   ]
  },
  {
   "cell_type": "code",
   "execution_count": 21,
   "metadata": {
    "collapsed": false,
    "scrolled": false
   },
   "outputs": [
    {
     "name": "stdout",
     "output_type": "stream",
     "text": [
      "New weights:\n",
      " W0 = 2.0155\n",
      " W1 = -0.2141\n",
      " W2 = -0.1553\n"
     ]
    },
    {
     "data": {
      "image/png": "[encoded data removed]",
      "text/plain": [
       "<matplotlib.figure.Figure at 0xbb5dfe1320>"
      ]
     },
     "metadata": {},
     "output_type": "display_data"
    }
   ],
   "source": [
    "ETA = 1/50\n",
    "W2  = W\n",
    "M   = 50\n",
    "\n",
    "errors = []\n",
    "\n",
    "for i in range(0,M):\n",
    "    total_error = 0\n",
    "    update_avg  = 0\n",
    "    \n",
    "    for x,z in zip(X,Z):\n",
    "        e = err(W2,x,z)\n",
    "        total_error += e ** 2\n",
    "        update_avg  += ETA * e * x / N\n",
    "        \n",
    "    W2 += update_avg      # Update the weights\n",
    "    errors.append(total_error)\n",
    "    if total_error == 0 : break\n",
    "\n",
    "print('New weights:\\n W0 = {0:1.4f}\\n W1 = {1:1.4f}\\n W2 = {2:1.4f}'.format( *W2 ) )\n",
    "plot_errors(errors)"
   ]
  },
  {
   "cell_type": "code",
   "execution_count": 22,
   "metadata": {
    "collapsed": false,
    "scrolled": true
   },
   "outputs": [
    {
     "data": {
      "image/png": "[encoded data removed]",
      "text/plain": [
       "<matplotlib.figure.Figure at 0xbb53238438>"
      ]
     },
     "metadata": {},
     "output_type": "display_data"
    }
   ],
   "source": [
    "plot_result(W2)"
   ]
  },
  {
   "cell_type": "markdown",
   "metadata": {},
   "source": [
    "# F)\n",
    "\n",
    "Well, this seems like a good solution, at least for this training set.\n",
    "\n",
    "Of course, we could not solve a non-linearly separable problem with this architecture."
   ]
  },
  {
   "cell_type": "markdown",
   "metadata": {
    "collapsed": true
   },
   "source": [
    "<br/><br/><br/><br/>"
   ]
  }
 ],
 "metadata": {
  "anaconda-cloud": {},
  "kernelspec": {
   "display_name": "Python [Root]",
   "language": "python",
   "name": "Python [Root]"
  },
  "language_info": {
   "codemirror_mode": {
    "name": "ipython",
    "version": 3
   },
   "file_extension": ".py",
   "mimetype": "text/x-python",
   "name": "python",
   "nbconvert_exporter": "python",
   "pygments_lexer": "ipython3",
   "version": "3.5.2"
  }
 },
 "nbformat": 4,
 "nbformat_minor": 0
}
