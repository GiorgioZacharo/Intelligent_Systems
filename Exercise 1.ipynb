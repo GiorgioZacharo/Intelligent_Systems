{
 "cells": [
  {
   "cell_type": "code",
   "execution_count": 1,
   "metadata": {
    "collapsed": false
   },
   "outputs": [
    {
     "name": "stdout",
     "output_type": "stream",
     "text": [
      "Populating the interactive namespace from numpy and matplotlib\n"
     ]
    }
   ],
   "source": [
    "import numpy as np\n",
    "import matplotlib.pyplot as plt\n",
    "%pylab inline"
   ]
  },
  {
   "cell_type": "code",
   "execution_count": 17,
   "metadata": {
    "collapsed": false
   },
   "outputs": [
    {
     "data": {
      "image/png": "[encoded data removed]",
      "text/plain": [
       "<matplotlib.figure.Figure at 0x110bca8d0>"
      ]
     },
     "metadata": {},
     "output_type": "display_data"
    }
   ],
   "source": [
    "W  = [2, 0.8, -0.5]\n",
    "\n",
    "def line(x): \n",
    "    return -(W[1]*x + W[0])/W[2]\n",
    "\n",
    "domain   = np.linspace(0,12)\n",
    "the_line = list( map( line, domain ) )\n",
    "\n",
    "\n",
    "# input dataset\n",
    "X1 = [ 1, 6, 3, 4, 3, 1, 6,  7, 6, 10, 4 ]\n",
    "X2 = [ 8, 2, 6, 4, 1, 6, 10, 7, 11, 5, 11]\n",
    "Z  = [ 1, 1, 1, 1, 1, 1, -1, -1, -1, -1, -1]\n",
    "X0 = np.ones(len(X1))\n",
    "\n",
    "X  = np.array( [X0, X1, X2] ).T\n",
    "\n",
    "def plot_result(the_line):\n",
    "    _ = plt.scatter(x=X1[:6], y=X2[:6], color='b')\n",
    "    _ = plt.scatter(x=X1[6:], y=X2[6:], color='r')\n",
    "    _ = plt.plot(domain, the_line)\n",
    "    \n",
    "plot_result(the_line)"
   ]
  },
  {
   "cell_type": "markdown",
   "metadata": {},
   "source": [
    "$$ E = ... $$\n",
    "$$ \\frac{ \\partial E } { \\partial w_1 } $$"
   ]
  },
  {
   "cell_type": "code",
   "execution_count": 30,
   "metadata": {
    "collapsed": false,
    "scrolled": false
   },
   "outputs": [
    {
     "data": {
      "text/plain": [
       "array([ 1.97661223, -0.06845773,  0.58219391])"
      ]
     },
     "execution_count": 30,
     "metadata": {},
     "output_type": "execute_result"
    },
    {
     "data": {
      "image/png": "[encoded data removed]",
      "text/plain": [
       "<matplotlib.figure.Figure at 0x11046c828>"
      ]
     },
     "metadata": {},
     "output_type": "display_data"
    }
   ],
   "source": [
    "eta = 1/50\n",
    "\n",
    "def sigmoid(x):\n",
    "    return 2*1/(1+np.exp(-x)) - 1\n",
    "\n",
    "def step(x):\n",
    "    return np.where( x > 0, 1, -1 )\n",
    "\n",
    "def linear (x):\n",
    "    return x\n",
    "\n",
    "# Pass the activation Function\n",
    "# Otptions: linear, step, sigmoid\n",
    "activate = linear\n",
    "\n",
    "def err(w, x, z):\n",
    "    net = activate( np.dot(x,w) )\n",
    "    return z - net\n",
    "    \n",
    "    \n",
    "W2 = W\n",
    "\n",
    "errors = []\n",
    "N = 1\n",
    "for i in range(0,N):\n",
    "    total_error = 0\n",
    "    for x,z in zip(X,Z):\n",
    "        e = err(W2,x,z)\n",
    "        W2 += eta * e * x\n",
    "        total_error += e ** 2\n",
    "    errors.append(total_error)\n",
    "    if total_error == 0 : break\n",
    "\n",
    "plt.plot(range(0,len(errors)), errors)    \n",
    "W2"
   ]
  },
  {
   "cell_type": "code",
   "execution_count": 31,
   "metadata": {
    "collapsed": false
   },
   "outputs": [
    {
     "data": {
      "image/png": "[encoded data removed]",
      "text/plain": [
       "<matplotlib.figure.Figure at 0x11068d780>"
      ]
     },
     "metadata": {},
     "output_type": "display_data"
    }
   ],
   "source": [
    "def line2(x): \n",
    "    return -(W2[1]*x + W2[0])/W2[2]\n",
    "\n",
    "domain   = np.linspace(0,12,10)\n",
    "the_line = list( map( line2, domain ) )\n",
    "\n",
    "plot_result(the_line)"
   ]
  },
  {
   "cell_type": "code",
   "execution_count": null,
   "metadata": {
    "collapsed": true
   },
   "outputs": [],
   "source": []
  },
  {
   "cell_type": "code",
   "execution_count": null,
   "metadata": {
    "collapsed": true
   },
   "outputs": [],
   "source": []
  }
 ],
 "metadata": {
  "kernelspec": {
   "display_name": "Python 3",
   "language": "python",
   "name": "python3"
  },
  "language_info": {
   "codemirror_mode": {
    "name": "ipython",
    "version": 3
   },
   "file_extension": ".py",
   "mimetype": "text/x-python",
   "name": "python",
   "nbconvert_exporter": "python",
   "pygments_lexer": "ipython3",
   "version": "3.5.2"
  }
 },
 "nbformat": 4,
 "nbformat_minor": 0
}
