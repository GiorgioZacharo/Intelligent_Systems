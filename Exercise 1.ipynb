{
 "cells": [
  {
   "cell_type": "code",
   "execution_count": 1,
   "metadata": {
    "collapsed": false
   },
   "outputs": [],
   "source": [
    "import numpy as np\n",
    "%matplotlib inline\n",
    "import matplotlib.pyplot as plt"
   ]
  },
  {
   "cell_type": "code",
   "execution_count": 2,
   "metadata": {
    "collapsed": true
   },
   "outputs": [],
   "source": [
    "# Initial weights\n",
    "W  = [2, 0.8, -0.5]\n",
    "\n",
    "# input the dataset\n",
    "X1 = [ 1, 6, 3, 4, 3, 1,     6,   7,  6, 10,  4 ]\n",
    "X2 = [ 8, 2, 6, 4, 1, 6,     10,  7, 11,  5, 11 ]\n",
    "Z  = [ 1, 1, 1, 1, 1, 1,     -1, -1, -1, -1, -1 ]\n",
    "N  = len(X1)\n",
    "X0 = np.ones(N)\n",
    "\n",
    "X  = np.array( [X0, X1, X2] ).T"
   ]
  },
  {
   "cell_type": "code",
   "execution_count": 3,
   "metadata": {
    "collapsed": true
   },
   "outputs": [],
   "source": [
    "def plot_sep_line(w, n):\n",
    "    \n",
    "    domain = np.linspace(0,n)\n",
    "    image  = list( map( lambda x : -(w[1]*x + w[0])/w[2] , domain ) )\n",
    "    plt.plot(domain, image, color='purple')\n",
    "    \n",
    "def plot_result(w):\n",
    "    plot_sep_line(w, N)\n",
    "    _ = plt.scatter(x=X1[:6], y=X2[:6], color='b')\n",
    "    _ = plt.scatter(x=X1[6:], y=X2[6:], color='r')"
   ]
  },
  {
   "cell_type": "code",
   "execution_count": 4,
   "metadata": {
    "collapsed": false
   },
   "outputs": [
    {
     "data": {
      "image/png": "[encoded data removed]",
      "text/plain": [
       "<matplotlib.figure.Figure at 0x10c557128>"
      ]
     },
     "metadata": {},
     "output_type": "display_data"
    }
   ],
   "source": [
    "plot_result(W)"
   ]
  },
  {
   "cell_type": "code",
   "execution_count": 5,
   "metadata": {
    "collapsed": true
   },
   "outputs": [],
   "source": [
    "def sigmoid(x):\n",
    "    return 2*1/(1+np.exp(-x)) - 1\n",
    "\n",
    "def step(x):\n",
    "    return np.where( x > 0, 1, -1 )\n",
    "\n",
    "def linear (x):\n",
    "    return x\n",
    "\n",
    "# Pass the activation Function\n",
    "# Options: linear, step, sigmoid\n",
    "activate = linear\n",
    "\n",
    "def err(w, x, z):\n",
    "    net = activate( np.dot(x,w) )\n",
    "    return z - net\n",
    "\n",
    "def plot_errors(errors):\n",
    "    plt.plot(range(0,len(errors)), errors, label='Error' )   \n",
    "    plt.legend()"
   ]
  },
  {
   "cell_type": "code",
   "execution_count": 6,
   "metadata": {
    "collapsed": false,
    "scrolled": false
   },
   "outputs": [
    {
     "name": "stdout",
     "output_type": "stream",
     "text": [
      "New weights after 1 iteration:\n",
      " W0 = 1.9522\n",
      " W1 = 0.4396\n",
      " W2 = -0.7511\n"
     ]
    },
    {
     "data": {
      "image/png": "[encoded data removed]",
      "text/plain": [
       "<matplotlib.figure.Figure at 0x10c58c7f0>"
      ]
     },
     "metadata": {},
     "output_type": "display_data"
    }
   ],
   "source": [
    "ETA = 1/50\n",
    "W2  = W\n",
    "M   = 1\n",
    "\n",
    "for i in range(0,M):\n",
    "    update_avg  = 0\n",
    "    \n",
    "    for x,z in zip(X,Z):\n",
    "        e = err(W2,x,z)\n",
    "        update_avg  += ETA * e * x / N\n",
    "        \n",
    "    W2 += update_avg      # Update the weights\n",
    "\n",
    "print('New weights after 1 iteration:\\n W0 = {0:1.4f}\\n W1 = {1:1.4f}\\n W2 = {2:1.4f}'.format( *W2 ) )\n",
    "plot_result(W2)"
   ]
  },
  {
   "cell_type": "code",
   "execution_count": 11,
   "metadata": {
    "collapsed": false,
    "scrolled": false
   },
   "outputs": [
    {
     "name": "stdout",
     "output_type": "stream",
     "text": [
      "New weights:\n",
      " W0 = 2.5327\n",
      " W1 = -0.2583\n",
      " W2 = -0.1938\n"
     ]
    },
    {
     "data": {
      "image/png": "[encoded data removed]",
      "text/plain": [
       "<matplotlib.figure.Figure at 0x10f121748>"
      ]
     },
     "metadata": {},
     "output_type": "display_data"
    }
   ],
   "source": [
    "ETA = 1/50\n",
    "W2  = W\n",
    "M   = 1000\n",
    "\n",
    "errors = []\n",
    "\n",
    "for i in range(0,M):\n",
    "    total_error = 0\n",
    "    update_avg  = 0\n",
    "    \n",
    "    for x,z in zip(X,Z):\n",
    "        e = err(W2,x,z)\n",
    "        total_error += e ** 2\n",
    "        update_avg  += ETA * e * x / N\n",
    "        \n",
    "    W2 += update_avg      # Update the weights\n",
    "    errors.append(total_error)\n",
    "    if total_error == 0 : break\n",
    "\n",
    "print('New weights:\\n W0 = {0:1.4f}\\n W1 = {1:1.4f}\\n W2 = {2:1.4f}'.format( *W2 ) )\n",
    "plot_errors(errors)"
   ]
  },
  {
   "cell_type": "code",
   "execution_count": 12,
   "metadata": {
    "collapsed": false
   },
   "outputs": [
    {
     "data": {
      "image/png": "[encoded data removed]",
      "text/plain": [
       "<matplotlib.figure.Figure at 0x10f30c2b0>"
      ]
     },
     "metadata": {},
     "output_type": "display_data"
    }
   ],
   "source": [
    "plot_result(W2)"
   ]
  },
  {
   "cell_type": "markdown",
   "metadata": {
    "collapsed": true
   },
   "source": [
    "<br/><br/><br/><br/>"
   ]
  },
  {
   "cell_type": "markdown",
   "metadata": {},
   "source": [
    "$$ E = ... $$\n",
    "$$ \\frac{ \\partial E } { \\partial w_1 } $$"
   ]
  }
 ],
 "metadata": {
  "anaconda-cloud": {},
  "kernelspec": {
   "display_name": "Python 3",
   "language": "python",
   "name": "python3"
  },
  "language_info": {
   "codemirror_mode": {
    "name": "ipython",
    "version": 3
   },
   "file_extension": ".py",
   "mimetype": "text/x-python",
   "name": "python",
   "nbconvert_exporter": "python",
   "pygments_lexer": "ipython3",
   "version": "3.5.2"
  }
 },
 "nbformat": 4,
 "nbformat_minor": 0
}
