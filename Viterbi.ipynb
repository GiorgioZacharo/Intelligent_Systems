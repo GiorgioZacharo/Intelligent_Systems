{
 "cells": [
  {
   "cell_type": "code",
   "execution_count": 2,
   "metadata": {
    "collapsed": true
   },
   "outputs": [],
   "source": [
    "import numpy as np\n",
    "\n",
    "class Decoder(object):\n",
    "    def __init__(self, initialProb, transProb, obsProb):\n",
    "        self.N = initialProb.shape[0]\n",
    "        self.initialProb = initialProb\n",
    "        self.transProb = transProb\n",
    "        self.obsProb = obsProb\n",
    "        assert self.initialProb.shape == (self.N, 1)\n",
    "        assert self.transProb.shape == (self.N, self.N)\n",
    "        assert self.obsProb.shape[0] == self.N\n",
    "        \n",
    "    def Obs(self, obs):\n",
    "        return self.obsProb[:, obs, None]\n",
    "\n",
    "    def Decode(self, obs):\n",
    "        trellis = np.zeros((self.N, len(obs)))\n",
    "        backpt = np.ones((self.N, len(obs)), 'int32') * -1\n",
    "                \n",
    "        # initialization\n",
    "        trellis[:, 0] = np.squeeze(self.initialProb * self.Obs(obs[0]))\n",
    "                \n",
    "        for t in range(1, len(obs)):\n",
    "            trellis[:, t] = (trellis[:, t-1, None].dot(self.Obs(obs[t]).T) * self.transProb).max(0)\n",
    "            backpt[:, t] = (np.tile(trellis[:, t-1, None], [1, self.N]) * self.transProb).argmax(0)\n",
    "        # termination\n",
    "        tokens = [trellis[:, -1].argmax()]\n",
    "        for i in range(len(obs)-1, 0, -1):\n",
    "            tokens.append(backpt[tokens[-1], i])\n",
    "        return tokens[::-1]"
   ]
  },
  {
   "cell_type": "code",
   "execution_count": 13,
   "metadata": {
    "collapsed": false
   },
   "outputs": [
    {
     "name": "stdout",
     "output_type": "stream",
     "text": [
      "Length of data set: 25\n",
      "2121321321213213213213213"
     ]
    }
   ],
   "source": [
    "W=0\n",
    "X=1\n",
    "Y=2\n",
    "Z=3\n",
    "\n",
    "pi = np.array([[0.32, 0.28, 0.4 ]]).T\n",
    "trans = np.array([ \\\n",
    "    [0, 0.2, 0.8], \\\n",
    "    [0.7, 0.1, 0.2], \\\n",
    "    [0.3, 0.6, 0.1]])\n",
    "obs = np.array([[0.6,0.1, 0.2, 0.1], \\\n",
    "                [0.1, 0.7, 0.1, 0.1], \\\n",
    "                [0.2, 0, 0.5, 0.3]])\n",
    "# Test\n",
    "data_test = [X,W,Z,Y,W,Z,X,W,X,W]\n",
    "\n",
    "# Data Sets\n",
    "data_1 = [Z,Y,X,Z,W,W,Y,X,Y,X]\n",
    "data_2 = [X,W,X,Y,Z,X,Y,Y,X,W,X,Z,Y,X,X,W,X,Y,Z,Z,X,Z,X,Z,Y]\n",
    "data_3 = [Y,X,W,Y,X,X,Z,Y,Y,Y,Z,W,Y,W,X,W,Z,X,Z,Y,X,Z,W,Z,Z,Y,W,Z,Z,W,Y,Y,Y,W,W,Y,W,X,X,\n",
    "          W,X,Z,X,Y,X,W,Z,X,Y,X,W,X,Y,X,W,Y,X,W,W,W,X,W,Y,X,Y,W,Y,Y,X,Y,Z,Y,Y,X,X,Y,Y,W,\n",
    "          Y,X,W,X,W,Z,X,W,Z,Z,X,W,Y,X,Y,X,Y,Z,W,W,Y,W]\n",
    "data_4 = [W,Y,Y,Y,Z,X,X,W,Z,X,Y,X,Z,Y,X,X,Y,W,X,W,Y,Z,Z,X,W,Z,X,W,Y,Z,X,W,W,X,Z,Z,X,Y,Y,W,Z,X,Y,X,Z,X,W,Y,X,W,Z,X,W,W,Z,X,W,Y,Z,Y,Z,X,X,Z,X,Y,Z,Z,Y,X,X,Y,X,Z,Y,X,W,Y,Z,X,W,Y,X,X,W,Z,Y,Z,X,Z,W,Y,X,W,Y,X,W,W,X,Z,Y,W,Y,Z,Y,Y,X,Z,Y,X,W,Y,W,X,Y,Y,X,Z,Z,X,W,Y,X,X,W,Z,X,X,Y,X,Z,Y,X,X,W,Y,Z,X,Z,Y,Z,X,X,W,X,W,Y,W,X,W,Y,X,W,W,X,X,X,W,X,W,X,W,Y,W,X,W,W,Y,X,Y,Y,X,W,Y,X,Y,Z,W,W,X,W,W,W,X,Z,X,W,Z,Z,Y,Y,Z,X,X,X,W,W,X,Y,Y,Y,Y,Y,X,Y,Z,X,X,W,Z,W,Z,X,W,Y,W,X,W,W,W,Y,X,Y,X,W,W,Z,Y,Y,W,W,Y,Z,X,W,Y,W,W,Z,Z,Y,W,W,X,Y,Y,X,X,Y,Y,W,Y,X,W,Y,Y,Z,W,X,W,Z,Y,X,Z,X,W,Z,X,W,Y,W,Y,W,Y,X,W,Z,X,X,Y,Z,X,Z,Y,X,W,Y,X,Z,Y,Z,W,Z,X,X,W,Z,W,W,X,W,X,Y,X,W,Y,X,W,Z,W,W,W,W,Y,W,Y,Y,W,Y,X,X,Y,X,W,W,W,Y,Y,W,X,Y,Y,X,W,X,W,X,W,Y,W,W,Y,W,Y,X,Y,W,X,W,W,Y,Z,X,W,W,X,X,Y,W,W,Y,Z,Y,W,X,Z,X,Y,Z,Z,X,Y,X,W,Y,Y,W,Y,X,W,Y,X,Y,X,Y,X,X,W,X,Y,Z,X,Y,X,W,Y,Z,Y,W,Z,X,X,Y,Z,Z,X,Y,Y,W,Y,W,W,Y,W,W,W,X,W,W,Y,X,W,Y,W,Z,X,W,Y,X,Y,W,Y,W,W,Z,X,Y,W,Y,Z,Y,W,X,Y,X,Y,Z,Y,Y,Y,X,Y,X,Y,Y,X,Y,X,Y,X,X,Y,W,Y,X,X,Y,Y,Y,W,W,Z,X,Y,X,Y,Y,Y,W,Y,Y,Y,X,Y,Y,Y,X,Y,Y,X,Z,Y,X,Y,W,Z,X,W,Y,W,Y,Y,Y,Y,Z,Y,Z,X,W,W,X,Y,Z,Z,X,Y,Y,X,Y,Z,X,W,Y,W,Z,Z,W,W,Y,X,X,W,Y,X,W,Y,X,Z,Y,Y,X,X,W,W,Y,W,Y,Z,X,W,Z,W,X,Y,Z,W,Z,Y,Y,W,Z,X,Z,Z,Z,W,W,X,Z,W,X,Z,Z,X,Z,Y,Y,W,W,Z,X,Y,Y,Z,X,Y,Y,X,Z,Y,X,Z,Y,W,Y,X,W,Y,X,Y,X,W,Y,W,W,Y,Y,Y,X,W,W,X,Z,X,Z,X,W,Y,Z,Z,W,Y,Y,Z,X,W,X,W,W,Z,W,W,W,Z,Y,W,Y,X,Z,X,W,W,Y,X,Y,W,Z,X,W,Y,W,Y,Z,Y,Z,W,W,Z,W,W,Y,W,X,W,Y,W,W,W,Y,Y,X,W,W,Y,Z,X,W,Z,W,X,Y,W,Z,Z,Z,Y,Z,Z,Z,Z,X,W,Z,X,W,Y,X,Y,Y,W,Z,X,X,Z,W,X,Y,Y,W,Y,W,W,W,Y,X,W,X,X,X,X,W,X,Z,W,Z,W,W,W,Y,X,Z,X,Y,X,Y,X,Z,X,Z,Z,X,W,Y,X,W,X,X,W,W,Y,W,X,X,W,X,X,Y,X,Y,X,W,Y,X,Y,W,X,X,Y,Z,W,W,X,Y,Y,W,Y,Y,Z,W,Y,X,W,Y,Z,W,X,W,Y,X,W,Z,X,Z,X,Z,X,X,W,W,Y,X,Y,W,W,W,Z,W,Y,X,X,Z,X,X,Y,Z,W,Y,Z,X,Y,Z,X,Y,X,W,W,Y,W,X,Y,Z,X,W,Y,W,Y,W,Y,W,X,W,Y,Y,X,W,W,Y,X,Y,X,Y,Y,X,W,Z,X,W,X,W,X,W,Y,W,X,X,Z,X,W,X,W,Y,Y,W,W,Y,W,W,X,X,Y,W,Z,X,W,Y,Y,W,W,Y,X,W,Y,X,W,Y,W,X,Y,X,W,W,Y,Y,X,X,Y,X,W,Y,X,Z,Y,X,X,Y,X,X,W,W,X,W,X,Y,W,X,Y,Y,W,W,Y,Y,Y,W,Z,X,X,Y,X,X,Z,X,Z,Y,W,X,Y,W,W,W,X,W,Z,Y,Y,Y,Y,Y,Y,W,X,Y,W,Y,X,W,Z,W,W,W,Y,W,Y,Z,Y,W,Z,X,Y,Y,X,X,W,Y,Z,Y,X,Y,Y,X,Z,Z,Z,Y,W,Y,X,Y,X,Y,Z,X,W,W,Y,Y,Z,W,Z,Z,Z,Y,W,X,Z,Z,X,Z,X,W,Z,X,Y,Y,X,Y,W,Y,W,X,X,X,W,Z,X,W,Y,X,W,X,W,Z,X,Z,W,Y,Y,Z,Z,Y,Z,X,W,W,X,Y,W,Y,X,W,Y,W,W,Z,X,W,W,W,Y,W,Z,W,Y,Z,W,Y,W,W,W,Y,X,W,Y,X,W,Z,X,W,W,X,X,Y,X,W,X,W,Y,X,W,X,X,Z,Y,X,X,Y,Y,Y,Y,W,Z,X,W,Z,X,W,X,Y,Y,X,W,Z,Y,X,W,Y,Y,X,X,Y,X,Y,W,W,Z,W,X,Y,Y,W,Y,Y,Z,X,Y,Y,X,Y,Y,Y,Z,Y,X,X,Z,Z,X,W,Y,Z,W,Z,Y,Y,W,Y,X,Y,Y,W,Z,X,Y,Z,X,Y,W,Y,X,X,Y,Y,W,Y,X,W,Z,W,W,Z,W,W,Y,X,W,Y,X,Z,W,X,Y,X,W,Y,W,Y,Y,W,W,X,W,Z,X,W,Z,X,W,Z,W,Z,X,Z,X,W,W,Z,W,Z,W,Y,Y,X,Y,Y,W,Y,W,Y,X,Z,Z,W,Z,X,X,X,Z,W,Z,Y,W,X,W,Y,Y,Y,W,Y,Y,W,Y,X,X,W,Y,Y,Y,X,Z,X,W,Z,Y,X,Y,Y,W,Y,Y,Y,W,Z,Y,X,W,Z,X,W,X,W,Z,X,W,Y,Z,X,W,Z,W,Y,W,Y,X,Y,Z,X,X,Y,Y,Z,Z,W,Y,X,Y,Y,Z,Z,X,X,W,Z,X,W,Y,X,W,Y,Y,W,Z,X,Y,Z,W,W,W,W]\n",
    "\n",
    "d = Decoder(pi, trans, obs)\n",
    "\n",
    "output=d.Decode(data_2)\n",
    "\n",
    "for i in range (0,len(output)):\n",
    "    output[i] +=1\n",
    "\n",
    "print(\"Length of data set: \", end=\"\") \n",
    "print (len(output))\n",
    "\n",
    "for i in range (0,len(output)):\n",
    "    print(output[i], end=\"\")    "
   ]
  },
  {
   "cell_type": "code",
   "execution_count": 6,
   "metadata": {
    "collapsed": false
   },
   "outputs": [
    {
     "data": {
      "text/plain": [
       "[0, 2, 0, 2, 0, 2, 1, 0, 1, 0]"
      ]
     },
     "execution_count": 6,
     "metadata": {},
     "output_type": "execute_result"
    }
   ],
   "source": [
    "# this test is partly taken from cuHMM (https://code.google.com/p/chmm/)\n",
    "# pi = np.array([[0.04, 0.02, 0.06, 0.04, 0.11, 0.11, 0.01, 0.09, 0.03, 0.05, 0.06, 0.11, 0.05, 0.11, 0.03, 0.08]]).T\n",
    "# trans = np.array([ \\\n",
    "#     [0.08, 0.02, 0.10, 0.05, 0.07, 0.08, 0.07, 0.04, 0.08, 0.10, 0.07, 0.02, 0.01, 0.10, 0.09, 0.01], \\\n",
    "#     [0.06, 0.10, 0.11, 0.01, 0.04, 0.11, 0.04, 0.07, 0.08, 0.10, 0.08, 0.02, 0.09, 0.05, 0.02, 0.02], \\\n",
    "#     [0.08, 0.07, 0.08, 0.07, 0.01, 0.03, 0.10, 0.02, 0.07, 0.03, 0.06, 0.08, 0.03, 0.10, 0.10, 0.08], \\\n",
    "#     [0.08, 0.04, 0.04, 0.05, 0.07, 0.08, 0.01, 0.08, 0.10, 0.07, 0.11, 0.01, 0.05, 0.04, 0.11, 0.06], \\\n",
    "#     [0.03, 0.03, 0.08, 0.10, 0.11, 0.04, 0.06, 0.03, 0.03, 0.08, 0.03, 0.07, 0.10, 0.11, 0.07, 0.03], \\\n",
    "#     [0.02, 0.05, 0.01, 0.09, 0.05, 0.09, 0.05, 0.12, 0.09, 0.07, 0.01, 0.07, 0.05, 0.05, 0.11, 0.06], \\\n",
    "#     [0.11, 0.05, 0.10, 0.07, 0.01, 0.08, 0.05, 0.03, 0.03, 0.10, 0.01, 0.10, 0.08, 0.09, 0.07, 0.02], \\\n",
    "#     [0.03, 0.02, 0.16, 0.01, 0.05, 0.01, 0.14, 0.14, 0.02, 0.05, 0.01, 0.09, 0.07, 0.14, 0.03, 0.01], \\\n",
    "#     [0.01, 0.09, 0.13, 0.01, 0.02, 0.04, 0.05, 0.03, 0.10, 0.05, 0.06, 0.06, 0.11, 0.06, 0.03, 0.14], \\\n",
    "#     [0.09, 0.03, 0.04, 0.05, 0.04, 0.03, 0.12, 0.04, 0.07, 0.02, 0.07, 0.10, 0.11, 0.03, 0.06, 0.09], \\\n",
    "#     [0.09, 0.04, 0.06, 0.06, 0.05, 0.07, 0.05, 0.01, 0.05, 0.10, 0.04, 0.08, 0.05, 0.08, 0.08, 0.10], \\\n",
    "#     [0.07, 0.06, 0.01, 0.07, 0.06, 0.09, 0.01, 0.06, 0.07, 0.07, 0.08, 0.06, 0.01, 0.11, 0.09, 0.05], \\\n",
    "#     [0.03, 0.04, 0.06, 0.06, 0.06, 0.05, 0.02, 0.10, 0.11, 0.07, 0.09, 0.05, 0.05, 0.05, 0.11, 0.08], \\\n",
    "#     [0.04, 0.03, 0.04, 0.09, 0.10, 0.09, 0.08, 0.06, 0.04, 0.07, 0.09, 0.02, 0.05, 0.08, 0.04, 0.09], \\\n",
    "#     [0.05, 0.07, 0.02, 0.08, 0.06, 0.08, 0.05, 0.05, 0.07, 0.06, 0.10, 0.07, 0.03, 0.05, 0.06, 0.10], \\\n",
    "#     [0.11, 0.03, 0.02, 0.11, 0.11, 0.01, 0.02, 0.08, 0.05, 0.08, 0.11, 0.03, 0.02, 0.10, 0.01, 0.11]])\n",
    "# obs = np.array([[0.01,0.99], \\\n",
    "#                 [0.58,0.42], \\\n",
    "#                 [0.48,0.52], \\\n",
    "#                 [0.58,0.42], \\\n",
    "#                 [0.37,0.63], \\\n",
    "#                 [0.33,0.67], \\\n",
    "#                 [0.51,0.49], \\\n",
    "#                 [0.28,0.72], \\\n",
    "#                 [0.35,0.65], \\\n",
    "#                 [0.61,0.39], \\\n",
    "#                 [0.97,0.03], \\\n",
    "#                 [0.87,0.13], \\\n",
    "#                 [0.46,0.54], \\\n",
    "#                 [0.55,0.45], \\\n",
    "#                 [0.23,0.77], \\\n",
    "#                 [0.76,0.24]])\n",
    "pi = np.array([[0.32, 0.28, 0.4 ]]).T\n",
    "trans = np.array([ \\\n",
    "    [0, 0.2, 0.8], \\\n",
    "    [0.7, 0.1, 0.2], \\\n",
    "    [0.3, 0.6, 0.1]])\n",
    "obs = np.array([[0.6,0.1, 0.2, 0.1], \\\n",
    "                [0.1, 0.7, 0.1, 0.1], \\\n",
    "                [0.2, 0, 0.5, 0.3]])\n",
    "data = [[0, 0, 0, 0, 0, 0, 1, 0, 1, 1], [1, 1, 0, 0, 1, 1, 1, 0, 0, 0]]\n",
    "d = Decoder(pi, trans, obs)\n",
    "# assert d.Decode(data[0]) == [11, 10, 15, 10, 15, 10, 0, 10, 0, 0]\n",
    "# assert d.Decode(data[1]) == [5, 14, 10, 15, 0, 0, 14, 10, 15, 10]\n",
    "d.Decode(data[0])\n",
    "# print (\"PASSED\")"
   ]
  },
  {
   "cell_type": "code",
   "execution_count": null,
   "metadata": {
    "collapsed": true
   },
   "outputs": [],
   "source": [
    "input : XWZYWZXWXW\n",
    "out   : 2132132121\n"
   ]
  },
  {
   "cell_type": "code",
   "execution_count": null,
   "metadata": {
    "collapsed": true
   },
   "outputs": [],
   "source": []
  }
 ],
 "metadata": {
  "anaconda-cloud": {},
  "kernelspec": {
   "display_name": "Python [Root]",
   "language": "python",
   "name": "Python [Root]"
  },
  "language_info": {
   "codemirror_mode": {
    "name": "ipython",
    "version": 3
   },
   "file_extension": ".py",
   "mimetype": "text/x-python",
   "name": "python",
   "nbconvert_exporter": "python",
   "pygments_lexer": "ipython3",
   "version": "3.5.2"
  }
 },
 "nbformat": 4,
 "nbformat_minor": 0
}
