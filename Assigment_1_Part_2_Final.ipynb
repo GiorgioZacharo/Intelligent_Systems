{
 "cells": [
  {
   "cell_type": "code",
   "execution_count": 31,
   "metadata": {
    "collapsed": true
   },
   "outputs": [],
   "source": [
    "import numpy as np\n",
    "%matplotlib inline\n",
    "import matplotlib.pyplot as plt"
   ]
  },
  {
   "cell_type": "code",
   "execution_count": 32,
   "metadata": {
    "collapsed": false
   },
   "outputs": [
    {
     "data": {
      "image/png": "[encoded data removed]",
      "text/plain": [
       "<matplotlib.figure.Figure at 0x10f6b3be0>"
      ]
     },
     "metadata": {},
     "output_type": "display_data"
    }
   ],
   "source": [
    "def plot_set(h,X1,X2, ax=plt, title='Set'):\n",
    "    ax.scatter(x=X1[:h], y=X2[:h], color='b' )\n",
    "    ax.scatter(x=X1[h:], y=X2[h:], color='r' )\n",
    "    ax.set_title( title )\n",
    "\n",
    "# These are the Activation Functions.\n",
    "def sigmoid(x):\n",
    "\treturn 2*1/(1+np.exp(-x)) - 1\n",
    "\n",
    "def step(x):\n",
    "    return np.where( x > 0, 1, -1 )    \n",
    "\n",
    "# Number of neurons in each layer\n",
    "NEURONS = [ 2, 3, 1 ]\n",
    "\n",
    "# Training and Test set\n",
    "TRAIN_X1 = [ 4, 4, 5, 5, 7,      1,  2,  3,  6,  3,  6,  4,  7 ]\n",
    "TRAIN_X2 = [ 2, 4, 3, 1, 2,      2,  1,  1,  5,  6,  7,  6,  6 ]\n",
    "TRAIN_Z  = [ 1, 1, 1, 1, 1,     -1, -1, -1, -1, -1, -1, -1, -1 ]\n",
    "TRAIN_N  = len(TRAIN_X1)\n",
    "TRAIN_X0 = np.ones(TRAIN_N)\n",
    "\n",
    "TEST_X1 = [ 4, 5, 3, 5, 6, 7,    3,  8,  4,  7,  2,  2 ]\n",
    "TEST_X2 = [ 1, 2, 4, 4, 1, 1,    2,  7,  7,  5,  3,  5 ]\n",
    "TEST_Z  = [ 1, 1, 1, 1, 1, 1,   -1, -1, -1, -1, -1, -1 ]\n",
    "TEST_N  = len(TEST_X1)\n",
    "TEST_X0 = np.ones(TEST_N)\n",
    "\n",
    "TRAIN_X = np.array( [TRAIN_X0, TRAIN_X1, TRAIN_X2] ).T\n",
    "TEST_X  = np.array( [TEST_X0, TEST_X1, TEST_X2] ).T\n",
    "\n",
    "fig, (ax1, ax2) = plt.subplots( 1,2, figsize=(16,5) )\n",
    "\n",
    "plot_set(5, TRAIN_X1, TRAIN_X2, ax1, 'Training Set')\n",
    "plot_set(5, TEST_X1 , TEST_X2 , ax2, 'Test Set'     )"
   ]
  },
  {
   "cell_type": "code",
   "execution_count": 29,
   "metadata": {
    "collapsed": false
   },
   "outputs": [],
   "source": [
    "n = NEURONS[0]\n",
    "k = NEURONS[1]\n",
    "m = NEURONS[2]\n",
    "\n",
    "del_1   = np.empty( k ) # Delta Level 1 layer\n",
    "del_2   = np.empty( m ) # Delta Level 2 layer\n",
    "\n",
    "del_w_1 = np.empty( [ n+1, k ] ) # Weight Update L1\n",
    "del_w_2 = np.empty( [ k+1, m ] ) # Weight Update L2\n",
    "\n",
    "# Used by TrainAndTest function.\n",
    "def TestPerformance(W1,W2):\n",
    "    total_error = 0\n",
    "    for s in range( 0, TEST_N ):\n",
    "        O_   = TEST_X[s]\n",
    "        net1 = np.dot( O_, W1 )\n",
    "        O1   = sigmoid(net1)\n",
    "        O1_  = [ 1, *O1 ]\n",
    "        O2   = np.dot( O1_, W2 )\n",
    "        total_error += np.abs( ( step(O2) - TRAIN_Z[s] ) ) * 0.5\n",
    "    return total_error\n",
    "\n",
    "def TrainAndTest(W1, W2, eta=0.1):\n",
    "    \n",
    "    error_TS = []\n",
    "    norm_1   = []\n",
    "    norm_2   = []\n",
    "\n",
    "    for epoch in range( 25000 ):\n",
    "\n",
    "        del_w_1_avg = np.zeros( [ n+1, k ] )\n",
    "        del_w_2_avg = np.zeros( [ k+1, m ] )\n",
    "\n",
    "        total_error = 0\n",
    "\n",
    "        for s in range( TRAIN_N ):\n",
    "\n",
    "            # First step: feed-forward computation\n",
    "            O_   = TRAIN_X[s]\n",
    "            O    = TRAIN_X[s][1:]\n",
    "\n",
    "            net1 = np.dot( O_, W1 )\n",
    "\n",
    "            O1   = sigmoid(net1)\n",
    "            O1_  = [ 1, *O1 ]\n",
    "\n",
    "            O2   = np.dot( O1_, W2 )\n",
    "\n",
    "            # Second step: backpropagation to the output layer\n",
    "            for j in range( 0, m ) :  # For us, j=0 only\n",
    "                del_2[j] = ( step(O2[j]) - TRAIN_Z[s] ) # * O2[j] * (1 - O2[j])\n",
    "\n",
    "            # Third step: backpropagation to the hidden layer\n",
    "            for j in range( 0, k ) :  # This should be vectorialized\n",
    "                del_1[j] = O1[j] * (1 - O1[j]) * W2[j,:] * del_2\n",
    "\n",
    "            # Fourth step: weight updates\n",
    "            for i in range(k+1):\n",
    "                for j in range(m):\n",
    "                    del_w_2[i,j] = - eta * O1_[i] * del_2[j]\n",
    "\n",
    "            for i in range(n+1):\n",
    "                for j in range(k):\n",
    "                    del_w_1[i,j] = - eta * O_[i] * del_1[j]\n",
    "\n",
    "            del_w_1_avg += del_w_1 / TRAIN_N\n",
    "            del_w_2_avg += del_w_2 / TRAIN_N\n",
    "\n",
    "            total_error += np.abs( ( step(O2) - TRAIN_Z[s] ) ) * 0.5\n",
    "\n",
    "        W1 += del_w_1_avg\n",
    "        W2 += del_w_2_avg\n",
    "\n",
    "        error_TS.append( total_error[0] )\n",
    "        norm_1.append( np.abs( W1 ).sum() )\n",
    "        norm_2.append( np.abs( W2 ).sum() )\n",
    "\n",
    "        if total_error == 0 : break\n",
    "    \n",
    "    testPerf = TestPerformance(W1,W2)\n",
    "    \n",
    "    return epoch, testPerf, error_TS   \n",
    "\n",
    "def present_results(epochs, testPerfs, error_TSs, eta=0.1):\n",
    "    \n",
    "    print('Eta: {0}'.format(eta) )\n",
    "    print( 'Average   epochs: {0}'.format( np.mean( epochs ) ) )\n",
    "    # print( 'Std. dev. epochs: {0}'.format( np.std ( epochs ) ) )\n",
    "    #print()\n",
    "    print( 'Average   test performance: {0}'.format( np.mean( testPerfs ) ) )\n",
    "    # print( 'Std. dev. test performance: {0}'.format( np.std ( testPerfs ) ) )\n",
    "    print()\n",
    "    print()\n",
    "\n",
    "    # Padding\n",
    "    lenghts = [ len(x) for x in error_TSs ]\n",
    "    L = np.max( lenghts )\n",
    "    error_TSs_pad  = [ np.pad( x, (0,L-len(x)), 'constant', constant_values=0 ) for x in error_TSs]\n",
    "    error_TSs_mean = np.mean( error_TSs_pad, axis=0 )\n",
    "\n",
    "    # Plotting\n",
    "    plt.plot(range(0,len(error_TSs_mean)), error_TSs_mean, label='Error with eta = {0}'.format(eta)   )\n",
    "    _ = plt.legend()"
   ]
  },
  {
   "cell_type": "code",
   "execution_count": 33,
   "metadata": {
    "collapsed": false
   },
   "outputs": [
    {
     "name": "stdout",
     "output_type": "stream",
     "text": [
      "0\n"
     ]
    },
    {
     "name": "stderr",
     "output_type": "stream",
     "text": [
      "/Users/GiorgioZacharo/anaconda3/lib/python3.5/site-packages/ipykernel/__main__.py:8: RuntimeWarning: overflow encountered in exp\n"
     ]
    },
    {
     "name": "stdout",
     "output_type": "stream",
     "text": [
      "1\n",
      "2\n",
      "3\n",
      "4\n",
      "5\n",
      "6\n",
      "7\n",
      "8\n",
      "9\n",
      "CPU times: user 1min 53s, sys: 632 ms, total: 1min 54s\n",
      "Wall time: 1min 54s\n"
     ]
    }
   ],
   "source": [
    "%%time\n",
    "epochs    = []\n",
    "testPerfs = []\n",
    "error_TSs = []\n",
    "for r in range(10):\n",
    "    print(r)\n",
    "    # Random initial weights ( Including Bias )\n",
    "    W1 = np.random.uniform( -.1, .1, size=( NEURONS[0]+1, NEURONS[1] ) )\n",
    "    W2 = np.random.uniform( -.1, .1, size=( NEURONS[1]+1, NEURONS[2] ) )\n",
    "    epoch, testPerf, error_TS = TrainAndTest(W1, W2)\n",
    "    epochs   .append( epoch    )\n",
    "    testPerfs.append( testPerf )\n",
    "    error_TSs.append( error_TS )"
   ]
  },
  {
   "cell_type": "code",
   "execution_count": 34,
   "metadata": {
    "collapsed": false
   },
   "outputs": [
    {
     "name": "stdout",
     "output_type": "stream",
     "text": [
      "Eta: 0.1\n",
      "Average   epochs: 18756.9\n",
      "Average   test performance: 4.4\n",
      "\n",
      "\n"
     ]
    },
    {
     "data": {
      "image/png": "[encoded data removed]",
      "text/plain": [
       "<matplotlib.figure.Figure at 0x10f8e6630>"
      ]
     },
     "metadata": {},
     "output_type": "display_data"
    }
   ],
   "source": [
    "present_results(epochs, testPerfs, error_TSs)"
   ]
  },
  {
   "cell_type": "code",
   "execution_count": 35,
   "metadata": {
    "collapsed": false
   },
   "outputs": [
    {
     "name": "stdout",
     "output_type": "stream",
     "text": [
      "Eta: 10\n"
     ]
    },
    {
     "name": "stderr",
     "output_type": "stream",
     "text": [
      "/Users/GiorgioZacharo/anaconda3/lib/python3.5/site-packages/ipykernel/__main__.py:8: RuntimeWarning: overflow encountered in exp\n"
     ]
    },
    {
     "name": "stdout",
     "output_type": "stream",
     "text": [
      "Eta: 1\n",
      "Eta: 0.1\n",
      "Eta: 0.01\n",
      "Eta: 0.001\n",
      "CPU times: user 10min 48s, sys: 3.27 s, total: 10min 52s\n",
      "Wall time: 10min 50s\n"
     ]
    }
   ],
   "source": [
    "%%time\n",
    "\n",
    "results = {}\n",
    "\n",
    "for eta in [10, 1, 1/10, 1/100, 1/1000]:\n",
    "    \n",
    "    print('Eta: {0}'.format(eta) )\n",
    "\n",
    "    epochs    = []\n",
    "    testPerfs = []\n",
    "    error_TSs = []\n",
    "\n",
    "    for r in range(10):\n",
    "        # Random initial weights ( Including Bias )\n",
    "        W1 = np.random.uniform( -.1, .1, size=( NEURONS[0]+1, NEURONS[1] ) )\n",
    "        W2 = np.random.uniform( -.1, .1, size=( NEURONS[1]+1, NEURONS[2] ) )\n",
    "        epoch, testPerf, error_TS = TrainAndTest(W1, W2, eta)\n",
    "        epochs   .append( epoch    )\n",
    "        testPerfs.append( testPerf )\n",
    "        error_TSs.append( error_TS )\n",
    "    \n",
    "    results[eta] = epochs, testPerfs, error_TSs"
   ]
  },
  {
   "cell_type": "code",
   "execution_count": 36,
   "metadata": {
    "collapsed": false
   },
   "outputs": [
    {
     "name": "stdout",
     "output_type": "stream",
     "text": [
      "Eta: 10\n",
      "Average   epochs: 24999.0\n",
      "Average   test performance: 6.6\n",
      "\n",
      "\n",
      "Eta: 1\n",
      "Average   epochs: 24999.0\n",
      "Average   test performance: 5.6\n",
      "\n",
      "\n",
      "Eta: 0.1\n",
      "Average   epochs: 19014.0\n",
      "Average   test performance: 4.2\n",
      "\n",
      "\n",
      "Eta: 0.01\n",
      "Average   epochs: 15550.0\n",
      "Average   test performance: 4.1\n",
      "\n",
      "\n",
      "Eta: 0.001\n",
      "Average   epochs: 23058.2\n",
      "Average   test performance: 3.9\n",
      "\n",
      "\n"
     ]
    },
    {
     "data": {
      "image/png": "[encoded data removed]",
      "text/plain": [
       "<matplotlib.figure.Figure at 0x116d981d0>"
      ]
     },
     "metadata": {},
     "output_type": "display_data"
    }
   ],
   "source": [
    "for eta in [10, 1, 1/10, 1/100, 1/1000]:\n",
    "    present_results( *results[eta], eta )"
   ]
  },
  {
   "cell_type": "code",
   "execution_count": 13,
   "metadata": {
    "collapsed": false
   },
   "outputs": [
    {
     "name": "stdout",
     "output_type": "stream",
     "text": [
      "[1]\n",
      "[1]\n",
      "[1]\n",
      "[1]\n",
      "[1]\n",
      "[-1]\n",
      "[-1]\n",
      "[-1]\n",
      "[-1]\n",
      "[-1]\n",
      "[-1]\n",
      "[-1]\n",
      "[-1]\n"
     ]
    }
   ],
   "source": [
    "for s in range( 0, TRAIN_N ):\n",
    "    # Feed-forward computation\n",
    "    O_   = TRAIN_X[s]\n",
    "    net1 = np.dot( O_, W1 )\n",
    "    O1   = sigmoid(net1)\n",
    "    O1_  = [ 1, *O1 ]\n",
    "    O2   = np.dot( O1_, W2 )\n",
    "    print( step(O2) )"
   ]
  },
  {
   "cell_type": "code",
   "execution_count": null,
   "metadata": {
    "collapsed": true
   },
   "outputs": [],
   "source": []
  }
 ],
 "metadata": {
  "kernelspec": {
   "display_name": "Python [Root]",
   "language": "python",
   "name": "Python [Root]"
  },
  "language_info": {
   "codemirror_mode": {
    "name": "ipython",
    "version": 3
   },
   "file_extension": ".py",
   "mimetype": "text/x-python",
   "name": "python",
   "nbconvert_exporter": "python",
   "pygments_lexer": "ipython3",
   "version": "3.5.2"
  }
 },
 "nbformat": 4,
 "nbformat_minor": 0
}
