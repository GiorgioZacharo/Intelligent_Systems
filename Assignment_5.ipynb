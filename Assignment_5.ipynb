{
 "cells": [
  {
   "cell_type": "code",
   "execution_count": 1,
   "metadata": {
    "collapsed": true
   },
   "outputs": [],
   "source": [
    "import numpy as np\n",
    "%matplotlib inline\n",
    "import matplotlib.pyplot as plt\n",
    "from random import randint\n",
    "import random"
   ]
  },
  {
   "cell_type": "code",
   "execution_count": 171,
   "metadata": {
    "collapsed": false
   },
   "outputs": [
    {
     "name": "stdout",
     "output_type": "stream",
     "text": [
      "3 4\n"
     ]
    }
   ],
   "source": [
    "L=[5, 10 , 20, 50]\n",
    "LENGTH=L[0]\n",
    "POPULATION=100 \n",
    "NEXT_GEN_RATE=1/10\n",
    "NEXT_GEN_SIZE= int (NEXT_GEN_RATE * POPULATION)\n",
    "MUTATION_RATE=1/LENGTH\n",
    "CP1=randint(1,LENGTH-2)\n",
    "CP2=randint(CP1+1,LENGTH-1)\n",
    "\n",
    "print (CP1, CP2)"
   ]
  },
  {
   "cell_type": "code",
   "execution_count": 119,
   "metadata": {
    "collapsed": true
   },
   "outputs": [],
   "source": [
    "# Evaluation according to fittness Function\n",
    "def Evaluation(Chromos, Fitness):\n",
    "    for j in range (POPULATION):        \n",
    "        i=0\n",
    "        while i< (LENGTH-2):\n",
    "            if Chromos[j][i]+Chromos[j][i+1]+Chromos[j][i+2] ==2 and Chromos[j][i+1]==1:\n",
    "                Fitness[j]+=1\n",
    "                if Chromos[j][i+2]==1:\n",
    "                    i+=2\n",
    "                else:\n",
    "                    i+=1\n",
    "            i+=1\n",
    "\n",
    "def FitnessProportional(Fitness, Prob_Fit):\n",
    "    Sum_Fit=sum(Fitness)\n",
    "    \n",
    "    for i in range (POPULATION):\n",
    "        Prob_Fit[i]=Fitness[i]/Sum_Fit\n",
    "\n",
    "# Selecting an index according to the given Probabilities        \n",
    "def weighted_choice(weights):\n",
    "    totals = []\n",
    "    running_total = 0\n",
    "\n",
    "    for w in weights:\n",
    "        running_total += w\n",
    "        totals.append(running_total)\n",
    "\n",
    "    rnd = random.random() * running_total\n",
    "    for i, total in enumerate(totals):\n",
    "        if rnd < total:\n",
    "            return i      "
   ]
  },
  {
   "cell_type": "code",
   "execution_count": 132,
   "metadata": {
    "collapsed": false
   },
   "outputs": [
    {
     "name": "stdout",
     "output_type": "stream",
     "text": [
      "16\n",
      "71\n",
      "10\n",
      "55\n",
      "67\n",
      "62\n",
      "45\n",
      "73\n",
      "68\n",
      "10\n"
     ]
    }
   ],
   "source": [
    "# Initialize Population\n",
    "Chromos  = [[randint(0,1) for i in range(LENGTH)] for x in range(POPULATION)]\n",
    "\n",
    "# Initialize Fitness, Prob_Fit and Next_Gen\n",
    "Fitness  = [0 for i in range(POPULATION)]\n",
    "Prob_Fit = [0 for i in range(POPULATION)]\n",
    "Next_Gen = [0 for i in range (NEXT_GEN_SIZE)]\n",
    "\n",
    "# Evaluating Population using Fittness Function \n",
    "Evaluation(Chromos, Fitness)\n",
    "# print(Chromos[1], \"  \", Fitness, \"\\n\")\n",
    "\n",
    "# Assign Probability wrt Fitness Proportional \n",
    "FitnessProportional(Fitness, Prob_Fit)\n",
    "\n",
    "for i in range (NEXT_GEN_SIZE):\n",
    "    index = weighted_choice(Prob_Fit)\n",
    "    Next_Gen[i] = Chromos[index]\n",
    "\n",
    "# Crossover\n",
    "for i in range (NEXT_GEN_SIZE/2):\n",
    "    \n"
   ]
  },
  {
   "cell_type": "code",
   "execution_count": 129,
   "metadata": {
    "collapsed": true
   },
   "outputs": [],
   "source": [
    "# Chromos[0]=[1,1,0,1,1]  #Remove it when you are done\n",
    "\n",
    "# def InitializePopulation():\n",
    "#     for i in range (POPULATION):\n",
    "#         for j in range (LENGTH):\n",
    "#             chromo[i].append(randint(0,1))\n",
    "\n",
    "\n",
    "\n",
    "# f=0\n",
    "# i=0\n",
    "# while i< (LENGTH-2):\n",
    "#     if Chromos[0][i]+Chromos[0][i+1]+Chromos[0][i+2] ==2 and Chromos[0][i+1]==1:\n",
    "#         f+=1\n",
    "#         if Chromos[0][i+2]==1:\n",
    "#             i+=2\n",
    "#             print(\"true\", i)\n",
    "#         else:\n",
    "#             i+=1\n",
    "#     i+=1    "
   ]
  },
  {
   "cell_type": "code",
   "execution_count": null,
   "metadata": {
    "collapsed": true
   },
   "outputs": [],
   "source": []
  }
 ],
 "metadata": {
  "anaconda-cloud": {},
  "kernelspec": {
   "display_name": "Python [Root]",
   "language": "python",
   "name": "Python [Root]"
  },
  "language_info": {
   "codemirror_mode": {
    "name": "ipython",
    "version": 3
   },
   "file_extension": ".py",
   "mimetype": "text/x-python",
   "name": "python",
   "nbconvert_exporter": "python",
   "pygments_lexer": "ipython3",
   "version": "3.5.2"
  }
 },
 "nbformat": 4,
 "nbformat_minor": 0
}
