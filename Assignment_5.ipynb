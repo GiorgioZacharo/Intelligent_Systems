{
 "cells": [
  {
   "cell_type": "code",
   "execution_count": 175,
   "metadata": {
    "collapsed": true
   },
   "outputs": [],
   "source": [
    "import numpy as np\n",
    "%matplotlib inline\n",
    "import matplotlib.pyplot as plt\n",
    "from random import randint\n",
    "import random"
   ]
  },
  {
   "cell_type": "code",
   "execution_count": 221,
   "metadata": {
    "collapsed": false
   },
   "outputs": [
    {
     "name": "stdout",
     "output_type": "stream",
     "text": [
      "1 4 1\n"
     ]
    }
   ],
   "source": [
    "L=[5, 10 , 20, 50]\n",
    "LENGTH=L[0]\n",
    "POPULATION=100 \n",
    "NEXT_GEN_RATE=1/10\n",
    "NEXT_GEN_SIZE= int (NEXT_GEN_RATE * POPULATION)\n",
    "MUTATION_RATE=1/LENGTH\n",
    "MUTATION_SIZE= int (MUTATION_RATE * LENGTH)\n",
    "Mut_rate = [MUTATION_RATE for i in range(LENGTH)]\n",
    "# Crossover Points\n",
    "CP1=randint(1,LENGTH-2)\n",
    "CP2=randint(CP1+1,LENGTH-1)\n",
    "\n",
    "print (CP1, CP2, MUTATION_SIZE)"
   ]
  },
  {
   "cell_type": "code",
   "execution_count": 172,
   "metadata": {
    "collapsed": true
   },
   "outputs": [],
   "source": [
    "# Evaluation according to fittness Function\n",
    "def Evaluation(Chromos, Fitness):\n",
    "    for j in range (POPULATION):        \n",
    "        i=0\n",
    "        while i< (LENGTH-2):\n",
    "            if Chromos[j][i]+Chromos[j][i+1]+Chromos[j][i+2] ==2 and Chromos[j][i+1]==1:\n",
    "                Fitness[j]+=1\n",
    "                if Chromos[j][i+2]==1:\n",
    "                    i+=2\n",
    "                else:\n",
    "                    i+=1\n",
    "            i+=1\n",
    "\n",
    "def FitnessProportional(Fitness, Prob_Fit):\n",
    "    Sum_Fit=sum(Fitness)\n",
    "    \n",
    "    for i in range (POPULATION):\n",
    "        Prob_Fit[i]=Fitness[i]/Sum_Fit\n",
    "\n",
    "# Selecting an index according to the given Probabilities        \n",
    "def weighted_choice(weights):\n",
    "    totals = []\n",
    "    running_total = 0\n",
    "\n",
    "    for w in weights:\n",
    "        running_total += w\n",
    "        totals.append(running_total)\n",
    "\n",
    "    rnd = random.random() * running_total\n",
    "    for i, total in enumerate(totals):\n",
    "        if rnd < total:\n",
    "            return i      "
   ]
  },
  {
   "cell_type": "code",
   "execution_count": 252,
   "metadata": {
    "collapsed": false
   },
   "outputs": [
    {
     "name": "stdout",
     "output_type": "stream",
     "text": [
      "[[1, 1, 1, 1, 0], [0, 1, 1, 0, 1], [0, 1, 1, 0, 1], [1, 1, 1, 0, 0], [1, 0, 1, 1, 0], [1, 0, 1, 1, 0], [1, 1, 0, 1, 1], [1, 0, 1, 1, 0], [0, 1, 1, 1, 1], [1, 1, 0, 1, 1]] \n",
      " CP: 1 4 \n",
      " [[1, 1, 1, 0, 0], [0, 1, 1, 1, 1], [0, 1, 1, 0, 1], [1, 1, 1, 0, 0], [1, 0, 1, 1, 0], [1, 0, 1, 1, 0], [1, 0, 1, 1, 1], [1, 1, 0, 1, 0], [0, 1, 0, 1, 1], [1, 1, 1, 1, 1]]\n"
     ]
    },
    {
     "data": {
      "text/plain": [
       "[0, 11, 36, 87, 40, 40, 96, 16, 55, 96]"
      ]
     },
     "execution_count": 252,
     "metadata": {},
     "output_type": "execute_result"
    }
   ],
   "source": [
    "# Initialize Population\n",
    "Chromos  = [[randint(0,1) for i in range(LENGTH)] for x in range(POPULATION)]\n",
    "\n",
    "# Initialize Fitness, Prob_Fit and Next_Gen\n",
    "Fitness  = [0 for i in range(POPULATION)]\n",
    "Prob_Fit = [0 for i in range(POPULATION)]\n",
    "Parents_indexes  = [0 for i in range (NEXT_GEN_SIZE)]\n",
    "Parents  = [0 for i in range (NEXT_GEN_SIZE)]\n",
    "Next_Gen = [[0 for i in range(LENGTH)] for k in range (NEXT_GEN_SIZE)]\n",
    "\n",
    "# Evaluating Population using Fittness Function \n",
    "Evaluation(Chromos, Fitness)\n",
    "# print(Chromos[1], \"  \", Fitness, \"\\n\")\n",
    "\n",
    "# Assign Probability wrt Fitness Proportional \n",
    "FitnessProportional(Fitness, Prob_Fit)\n",
    "\n",
    "for i in range (NEXT_GEN_SIZE):\n",
    "    index = weighted_choice(Prob_Fit)\n",
    "    Parents_indexes[i] = index \n",
    "    Parents[i] = Chromos[index]\n",
    "\n",
    "# Crossover\n",
    "for i in range (0, NEXT_GEN_SIZE, 2):\n",
    "    Next_Gen[i][0:CP1]       = Parents[i][0:CP1]\n",
    "    Next_Gen[i][CP1:CP2]     = Parents[i+1][CP1:CP2]\n",
    "    Next_Gen[i][CP2:LENGTH]  = Parents[i][CP2:LENGTH]\n",
    "    \n",
    "    Next_Gen[i+1][0:CP1]     = Parents[i+1][0:CP1]\n",
    "    Next_Gen[i+1][CP1:CP2]   = Parents[i][CP1:CP2]\n",
    "    Next_Gen[i+1][CP2:LENGTH]= Parents[i+1][CP2:LENGTH]\n",
    "\n",
    "print (Parents, \"\\n CP:\", CP1, CP2, \"\\n\", Next_Gen)\n",
    "\n",
    "# Mutation\n",
    "for i in range (0, NEXT_GEN_SIZE):\n",
    "    for j in range (0, MUTATION_SIZE):\n",
    "        mut_index = weighted_choice(Mut_rate)\n",
    "        Parents[i][mut_index] = (Parents[i][mut_index]+1)%2 # Flip the bit\n",
    "        \n",
    "        # Modify directly the Chromos list \n",
    "        Chromos[Parents_indexes[i]][mut_index] = Parents[i][mut_index]\n",
    "        \n",
    "Parents_indexes\n",
    "# print(\"\\n\\n\", Parents,\"\\n\\n\", Chromos[Parents_indexes[1]])"
   ]
  },
  {
   "cell_type": "code",
   "execution_count": 253,
   "metadata": {
    "collapsed": false
   },
   "outputs": [
    {
     "name": "stdout",
     "output_type": "stream",
     "text": [
      "99\n",
      "41\n",
      "22\n",
      "72\n",
      "85\n",
      "92\n",
      "34\n",
      "76\n",
      "72\n",
      "4\n"
     ]
    },
    {
     "data": {
      "text/plain": [
       "10"
      ]
     },
     "execution_count": 253,
     "metadata": {},
     "output_type": "execute_result"
    }
   ],
   "source": [
    "# Replace random non-parents with offspring\n",
    "replaced = 0\n",
    "while replaced < NEXT_GEN_SIZE :\n",
    "    rand_index= randint(0, POPULATION)\n",
    "    parent=False\n",
    "    for j in range (NEXT_GEN_SIZE):\n",
    "        if rand_index == Parents_indexes[j]:\n",
    "            parent=True\n",
    "    if parent == False:\n",
    "        print (rand_index)\n",
    "        Chromos[rand_index] = Next_Gen[replaced]\n",
    "        replaced+=1\n",
    "\n",
    "\n",
    "    "
   ]
  },
  {
   "cell_type": "code",
   "execution_count": 129,
   "metadata": {
    "collapsed": true
   },
   "outputs": [],
   "source": [
    "# Chromos[0]=[1,1,0,1,1]  #Remove it when you are done\n",
    "\n",
    "# def InitializePopulation():\n",
    "#     for i in range (POPULATION):\n",
    "#         for j in range (LENGTH):\n",
    "#             chromo[i].append(randint(0,1))\n",
    "\n",
    "\n",
    "\n",
    "# f=0\n",
    "# i=0\n",
    "# while i< (LENGTH-2):\n",
    "#     if Chromos[0][i]+Chromos[0][i+1]+Chromos[0][i+2] ==2 and Chromos[0][i+1]==1:\n",
    "#         f+=1\n",
    "#         if Chromos[0][i+2]==1:\n",
    "#             i+=2\n",
    "#             print(\"true\", i)\n",
    "#         else:\n",
    "#             i+=1\n",
    "#     i+=1    "
   ]
  },
  {
   "cell_type": "code",
   "execution_count": null,
   "metadata": {
    "collapsed": true
   },
   "outputs": [],
   "source": []
  }
 ],
 "metadata": {
  "anaconda-cloud": {},
  "kernelspec": {
   "display_name": "Python [Root]",
   "language": "python",
   "name": "Python [Root]"
  },
  "language_info": {
   "codemirror_mode": {
    "name": "ipython",
    "version": 3
   },
   "file_extension": ".py",
   "mimetype": "text/x-python",
   "name": "python",
   "nbconvert_exporter": "python",
   "pygments_lexer": "ipython3",
   "version": "3.5.2"
  }
 },
 "nbformat": 4,
 "nbformat_minor": 0
}
