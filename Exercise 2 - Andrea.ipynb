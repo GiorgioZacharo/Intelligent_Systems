{
 "cells": [
  {
   "cell_type": "markdown",
   "metadata": {},
   "source": [
    "# Exercise 2\n",
    "\n",
    "#### Andrea Barbon\n",
    "\n",
    "<br/><br/>"
   ]
  },
  {
   "cell_type": "code",
   "execution_count": 24,
   "metadata": {
    "collapsed": false
   },
   "outputs": [],
   "source": [
    "import numpy as np\n",
    "import seaborn\n",
    "%matplotlib inline\n",
    "import matplotlib.pyplot as plt"
   ]
  },
  {
   "cell_type": "code",
   "execution_count": 25,
   "metadata": {
    "collapsed": false
   },
   "outputs": [],
   "source": [
    "# Number of neurons in each layer\n",
    "NEURONS = [ 2, 3, 1 ]\n",
    "\n",
    "# input the dataset\n",
    "TRAIN_X1 = [ 4, 4, 5, 5, 7,      1,  2,  3,  6,  3,  6,  4,  7 ]\n",
    "TRAIN_X2 = [ 2, 4, 3, 1, 2,      2,  1,  1,  5,  6,  7,  6,  6 ]\n",
    "TRAIN_Z  = [ 1, 1, 1, 1, 1,     -1, -1, -1, -1, -1, -1, -1, -1 ]\n",
    "TRAIN_N  = len(TRAIN_X1)\n",
    "TRAIN_X0 = np.ones(TRAIN_N)\n",
    "\n",
    "TEST_X1 = [ 4, 5, 3, 5, 6, 7,    3,  8,  4,  7,  2,  2 ]\n",
    "TEST_X2 = [ 1, 2, 4, 4, 1, 1,    2,  7,  7,  5,  3,  5 ]\n",
    "TEST_Z  = [ 1, 1, 1, 1, 1, 1,   -1, -1, -1, -1, -1, -1 ]\n",
    "TEST_N  = len(TEST_X1)\n",
    "TEST_X0 = np.ones(TEST_N)\n",
    "\n",
    "TRAIN_X = np.array( [TRAIN_X0, TRAIN_X1, TRAIN_X2] ).T\n",
    "TEST_X  = np.array( [TEST_X0, TEST_X1, TEST_X2] ).T"
   ]
  },
  {
   "cell_type": "markdown",
   "metadata": {},
   "source": [
    "# A)"
   ]
  },
  {
   "cell_type": "code",
   "execution_count": 3,
   "metadata": {
    "collapsed": true
   },
   "outputs": [],
   "source": [
    "def plot_set(h,X1,X2, ax=plt, title='Set'):\n",
    "    ax.scatter(x=X1[:h], y=X2[:h], color='b' )\n",
    "    ax.scatter(x=X1[h:], y=X2[h:], color='r' )\n",
    "    ax.set_title( title )\n",
    "\n",
    "fig, (ax1, ax2) = plt.subplots( 1,2, figsize=(16,5) )\n",
    "\n",
    "plot_set(5, TRAIN_X1, TRAIN_X2, ax1, 'Training Set')\n",
    "plot_set(5, TEST_X1 , TEST_X2 , ax2, 'Tes Set'     )"
   ]
  },
  {
   "cell_type": "markdown",
   "metadata": {},
   "source": [
    "No, a linear Neural Network would **not** be able to solve the problem.\n",
    "\n",
    "The reason is that the sets are not linearly separable, i.e. there exist no line separating blue dots from red dots."
   ]
  },
  {
   "cell_type": "markdown",
   "metadata": {},
   "source": [
    "# B) and C)\n",
    "\n",
    "The formulas for the forward pass can be written as\n",
    "$ o^{(1)} = \\sigma( w^{(1)} \\hat{o} ) $\n",
    "and\n",
    "$ o^{(2)} = w^{(2)} \\hat{o}^{(1)} $\n",
    "where the $w$'s contain the weight for the bias and $\\hat{x} = (1, x) $.\n",
    "\n",
    "The formulas for the backward pass can be written as\n",
    "$$ \\delta^{(2)} =  \\frac{\\partial E}{\\partial net^{(2)}}  = (o^{(2)} − z ) $$\n",
    "and\n",
    "$$ \\delta_j^{(1)} \n",
    "= \\frac{\\partial E}{\\partial net^{(1)}} \n",
    "= \\sigma'( net^{(1)} ) w_{j}^{(2)} \\delta^{(2)} \n",
    "= o_j^{(1)}(1 − o_j^{(1)}) w_{j}^{(2)} \\delta^{(2)} $$\n",
    "\n",
    "Weights are updated using\n",
    "$$ \\Delta w_{i}^{(2)} = − \\eta \\, o_i^{(1)} \\, \\delta^{(2)}, \\qquad i=0,\\dots,3 \\quad $$\n",
    "\n",
    "and\n",
    "\n",
    "$$ \\Delta w_{i,j}^{(1)} = − \\eta \\, o_{i} \\, \\delta_j^{(1)}, \\qquad 0=1,\\dots,2 \\quad , \\quad j=0,\\dots,3 $$"
   ]
  },
  {
   "cell_type": "markdown",
   "metadata": {},
   "source": [
    "# D)"
   ]
  },
  {
   "cell_type": "code",
   "execution_count": 5,
   "metadata": {
    "collapsed": true
   },
   "outputs": [],
   "source": [
    "def sigmoid(x):\n",
    "    return 1/(1+np.exp(-x))\n",
    "\n",
    "def step(x):\n",
    "    return np.where( x > 0, 1, -1 )\n",
    "\n",
    "def present_results(epochs, testPerfs, error_TSs, eta=0.1):\n",
    "    \n",
    "    print('Eta: {0}'.format(eta) )\n",
    "    print( 'Average   epochs: {0:1.2f}'.format( np.mean( epochs ) ) )\n",
    "    print( 'Std. dev. epochs: {0:1.2f}'.format( np.std ( epochs ) ) )\n",
    "    #print()\n",
    "    print( 'Average   test performance: {0:1.2f}'.format( np.mean( testPerfs ) ) )\n",
    "    print( 'Std. dev. test performance: {0:1.2f}'.format( np.std ( testPerfs ) ) )\n",
    "    print()\n",
    "    print()\n",
    "\n",
    "    # Padding\n",
    "    lenghts = [ len(x) for x in error_TSs ]\n",
    "    L = np.max( lenghts )\n",
    "    error_TSs_pad  = [ np.pad( x, (0,L-len(x)), 'constant', constant_values=0 ) for x in error_TSs]\n",
    "    error_TSs_mean = np.mean( error_TSs_pad, axis=0 )\n",
    "    \n",
    "    W = 100\n",
    "    moving_avg = np.zeros( int(L / W) )\n",
    "    for i in range( int(L / W) - 1):\n",
    "        moving_avg[i] = np.mean( error_TSs_mean[ i*W : (i+1)*W ] )\n",
    "    moving_avg[int(L / W)-1] = np.mean( error_TSs_mean[ (i)*W :] )\n",
    "\n",
    "    # Plotting\n",
    "    domain = [ x*W for x in range(0,len(moving_avg)) ]\n",
    "    plt.plot( domain , moving_avg, label='Error with eta = {0}'.format(eta)   )\n",
    "    _ = plt.legend()"
   ]
  },
  {
   "cell_type": "code",
   "execution_count": 59,
   "metadata": {
    "collapsed": false
   },
   "outputs": [],
   "source": [
    "n = NEURONS[0]\n",
    "k = NEURONS[1]\n",
    "m = NEURONS[2]\n",
    "\n",
    "def TestPerformance(W1,W2):\n",
    "    O_   = TEST_X\n",
    "    O    = TEST_X[:,1:]\n",
    "    net1 = np.dot( O_, W1 )\n",
    "    O1   = sigmoid(net1)\n",
    "    O1_ = np.ones( (TEST_N, NEURONS[1] + 1) )\n",
    "    O1_[:, 1:] = O1\n",
    "    O2   = np.dot( O1_, W2 )\n",
    "    total_error = 0\n",
    "    for s in range( 0, TEST_N ):\n",
    "        total_error += np.abs( ( step(O2)[s] - TRAIN_Z[s] ) ) * 0.5\n",
    "    return total_error\n",
    "\n",
    "def TrainAndTest(W1, W2, eta=0.1, EPOCHS=30000):\n",
    "    \n",
    "    error_TS = []\n",
    "    \n",
    "    for epoch in range( EPOCHS+1 ):\n",
    "\n",
    "        total_error = 0\n",
    "\n",
    "        # Step 1 : feed-forward computation\n",
    "        O_   = TRAIN_X\n",
    "        O    = TRAIN_X[:,1:]\n",
    "        net1 = np.dot( O_, W1 )\n",
    "        O1   = sigmoid(net1)\n",
    "        O1_  = np.ones( (TRAIN_N, NEURONS[1] + 1) )\n",
    "        O1_[:, 1:] = O1\n",
    "        O2   = np.dot( O1_, W2 )\n",
    "\n",
    "        # Step 2 : backpropagation to the output layer\n",
    "        del_2 = ( step(O2).T - TRAIN_Z ).T\n",
    "        \n",
    "        # Step 3 : backpropagation to the hidden layer\n",
    "        del_1 = O1 * (1 - O1) * W2[1:].T * del_2\n",
    "\n",
    "        # Step 4 : weight updates\n",
    "        del_w_1 = np.zeros( [ n+1, k ] )\n",
    "        del_w_2 = np.zeros( [ k+1, m ] )\n",
    "        for s in range( TRAIN_N ):\n",
    "            del_w_1 += - eta * np.outer( O_[s] , del_1[s] ) / TRAIN_N\n",
    "            del_w_2 += - eta * np.outer( O1_[s], del_2[s] ) / TRAIN_N\n",
    "            total_error += np.abs( ( step(O2)[s] - TRAIN_Z[s] ) ) * 0.5\n",
    "        W1 += del_w_1\n",
    "        W2 += del_w_2\n",
    "\n",
    "        error_TS.append( total_error[0] )\n",
    "\n",
    "        if total_error == 0 : break\n",
    "    \n",
    "    testPerf = TestPerformance(W1,W2)\n",
    "    \n",
    "    return epoch, testPerf, error_TS"
   ]
  },
  {
   "cell_type": "code",
   "execution_count": 67,
   "metadata": {
    "collapsed": false,
    "scrolled": true
   },
   "outputs": [
    {
     "name": "stdout",
     "output_type": "stream",
     "text": [
      "Eta: 0.1\n",
      "Average   epochs: 1445.00\n",
      "Std. dev. epochs: 0.00\n",
      "Average   test performance: 4.00\n",
      "Std. dev. test performance: 0.00\n",
      "\n",
      "\n"
     ]
    },
    {
     "data": {
      "image/png": "[encoded data removed]",
      "text/plain": [
       "<matplotlib.figure.Figure at 0x381d86c88>"
      ]
     },
     "metadata": {},
     "output_type": "display_data"
    }
   ],
   "source": [
    "W1 = np.random.uniform( -.1, .1, size=( NEURONS[0]+1, NEURONS[1] ) )\n",
    "W2 = np.random.uniform( -.1, .1, size=( NEURONS[1]+1, NEURONS[2] ) )\n",
    "epoch, testPerf, error_TS = TrainAndTest(W1, W2)\n",
    "error_TS = [error_TS]\n",
    "present_results(epoch, testPerf, error_TS)"
   ]
  },
  {
   "cell_type": "markdown",
   "metadata": {},
   "source": [
    "# E)"
   ]
  },
  {
   "cell_type": "code",
   "execution_count": 60,
   "metadata": {
    "collapsed": false
   },
   "outputs": [
    {
     "name": "stdout",
     "output_type": "stream",
     "text": [
      "Wall time: 18.4 s\n"
     ]
    }
   ],
   "source": [
    "%%time\n",
    "epochs    = []\n",
    "testPerfs = []\n",
    "error_TSs = []\n",
    "for r in range(10):\n",
    "    W1 = np.random.uniform( -.1, .1, size=( NEURONS[0]+1, NEURONS[1] ) )\n",
    "    W2 = np.random.uniform( -.1, .1, size=( NEURONS[1]+1, NEURONS[2] ) )\n",
    "    epoch, testPerf, error_TS = TrainAndTest(W1, W2)\n",
    "    epochs   .append( epoch    )\n",
    "    testPerfs.append( testPerf )\n",
    "    error_TSs.append( error_TS )"
   ]
  },
  {
   "cell_type": "code",
   "execution_count": 62,
   "metadata": {
    "collapsed": false,
    "scrolled": true
   },
   "outputs": [
    {
     "name": "stdout",
     "output_type": "stream",
     "text": [
      "Eta: 0.1\n",
      "Average   epochs: 1552.70\n",
      "Std. dev. epochs: 265.69\n",
      "Average   test performance: 3.20\n",
      "Std. dev. test performance: 0.75\n",
      "\n",
      "\n"
     ]
    },
    {
     "data": {
      "image/png": "[encoded data removed]",
      "text/plain": [
       "<matplotlib.figure.Figure at 0x3fa92ee10>"
      ]
     },
     "metadata": {},
     "output_type": "display_data"
    }
   ],
   "source": [
    "present_results(epochs, testPerfs, error_TSs)"
   ]
  },
  {
   "cell_type": "markdown",
   "metadata": {},
   "source": [
    "It takes $1552.7$ epochs on average to classify all the points.\n",
    "I notice that the out-of-sample performance is quite bad."
   ]
  },
  {
   "cell_type": "markdown",
   "metadata": {},
   "source": [
    "# F)"
   ]
  },
  {
   "cell_type": "code",
   "execution_count": 63,
   "metadata": {
    "collapsed": false,
    "scrolled": true
   },
   "outputs": [
    {
     "name": "stdout",
     "output_type": "stream",
     "text": [
      "Eta: 10\n",
      "Eta: 1\n",
      "Eta: 0.1\n",
      "Eta: 0.01\n",
      "Eta: 0.001\n",
      "Wall time: 11min 47s\n"
     ]
    }
   ],
   "source": [
    "%%time\n",
    "\n",
    "results = {}\n",
    "\n",
    "for eta in [10, 1, 1/10, 1/100, 1/1000]:\n",
    "    \n",
    "    print('Eta: {0}'.format(eta) )\n",
    "\n",
    "    epochs    = []\n",
    "    testPerfs = []\n",
    "    error_TSs = []\n",
    "\n",
    "    for r in range(10):\n",
    "        # Random initial weights ( Including Bias )\n",
    "        W1 = np.random.uniform( -.1, .1, size=( NEURONS[0]+1, NEURONS[1] ) )\n",
    "        W2 = np.random.uniform( -.1, .1, size=( NEURONS[1]+1, NEURONS[2] ) )\n",
    "        epoch, testPerf, error_TS = TrainAndTest(W1, W2, eta)\n",
    "        epochs   .append( epoch    )\n",
    "        testPerfs.append( testPerf )\n",
    "        error_TSs.append( error_TS )\n",
    "    \n",
    "    results[eta] = epochs, testPerfs, error_TSs"
   ]
  },
  {
   "cell_type": "code",
   "execution_count": 65,
   "metadata": {
    "collapsed": false,
    "scrolled": false
   },
   "outputs": [
    {
     "name": "stdout",
     "output_type": "stream",
     "text": [
      "Eta: 10\n",
      "Average   epochs: 30000.00\n",
      "Std. dev. epochs: 0.00\n",
      "Average   test performance: 5.20\n",
      "Std. dev. test performance: 0.60\n",
      "\n",
      "\n",
      "Eta: 1\n",
      "Average   epochs: 1415.80\n",
      "Std. dev. epochs: 242.46\n",
      "Average   test performance: 4.00\n",
      "Std. dev. test performance: 0.00\n",
      "\n",
      "\n",
      "Eta: 0.1\n",
      "Average   epochs: 1361.90\n",
      "Std. dev. epochs: 178.83\n",
      "Average   test performance: 3.30\n",
      "Std. dev. test performance: 0.46\n",
      "\n",
      "\n",
      "Eta: 0.01\n",
      "Average   epochs: 19105.60\n",
      "Std. dev. epochs: 6509.79\n",
      "Average   test performance: 2.60\n",
      "Std. dev. test performance: 0.80\n",
      "\n",
      "\n",
      "Eta: 0.001\n",
      "Average   epochs: 30000.00\n",
      "Std. dev. epochs: 0.00\n",
      "Average   test performance: 4.80\n",
      "Std. dev. test performance: 0.40\n",
      "\n",
      "\n"
     ]
    },
    {
     "data": {
      "image/png": "[encoded data removed]",
      "text/plain": [
       "<matplotlib.figure.Figure at 0x3804f0630>"
      ]
     },
     "metadata": {},
     "output_type": "display_data"
    }
   ],
   "source": [
    "fig = plt.figure(figsize=(16, 5)) \n",
    "for eta in [10, 1, 1/10, 1/100, 1/1000]:\n",
    "    present_results( *results[eta], eta )\n",
    "_   = plt.legend(loc=0)"
   ]
  },
  {
   "cell_type": "markdown",
   "metadata": {},
   "source": [
    "A learning rate of $10$ does not work, most likely because the gradiend descend overshoots the global minimum.\n",
    "\n",
    "For the other learning rates, I notice a trade-off between the speed of learning and the out-of-sample performance:\n",
    "- Lowering $\\eta$ increases the average number of epochs needed for full classification\n",
    "- Lowering $\\eta$ improves the out-of-sample performance\n",
    "\n",
    "In the case $\\eta= 1/1000$ the optimization did not converge to the minumum after $30,000$ epochs.\n",
    "Most likely letting it run for more epochs would lead to full in-sample classification and a better out-of-sample performance "
   ]
  },
  {
   "cell_type": "markdown",
   "metadata": {
    "collapsed": true
   },
   "source": [
    "<br/><br/><br/><br/>"
   ]
  },
  {
   "cell_type": "markdown",
   "metadata": {
    "collapsed": true
   },
   "source": [
    "<br/><br/><br/><br/>\n",
    "___"
   ]
  },
  {
   "cell_type": "markdown",
   "metadata": {},
   "source": [
    "Taking inspiration from the book [Neural Networks](https://page.mi.fu-berlin.de/rojas/neural/chapter/K7.pdf) by R. Rojas."
   ]
  },
  {
   "cell_type": "markdown",
   "metadata": {},
   "source": [
    "![Network](Network.png \"Network\")"
   ]
  },
  {
   "cell_type": "markdown",
   "metadata": {},
   "source": [
    "### First step: feed-forward computation\n",
    "The vector $o$ is presented to the network. The vectors $o^{(1)}$ and $o^{(2)}$ are computed and stored. The evaluated derivatives of the activation functions are also stored at each unit."
   ]
  },
  {
   "cell_type": "markdown",
   "metadata": {},
   "source": [
    "### Second step: backpropagation to the output layer\n",
    "We are looking for the first set of partial derivatives $ \\partial E/\\partial w_{i,j}^{(2)} = \\delta_j^{(2)} o_i^{(1)} $, where\n",
    "\n",
    "$$ \\delta_j^{(2)} = o_j^{(2)}(1 − o_j^{(2)})(o_j^{(2)} − t_j ) $$"
   ]
  },
  {
   "cell_type": "markdown",
   "metadata": {},
   "source": [
    "### Third step: backpropagation to the hidden layer\n",
    "￼Now we want to compute the partial derivatives $\\partial E/ \\partial w^{(1)}$. Each unit $j$ in the hidden layer is connected to each unit $q$ in the output layer with an edge of weight $w^{(2)}$, for $q = 1,\\dots m$. The backpropagated error up to unit $j$ in\n",
    "the hidden layer must be computed taking into account all possible backward paths.\n",
    "The backpropagated error is then\n",
    "$$ \\delta_j^{(1)} = o_j^{(1)}(1 − o_j^{(1)}) \\sum_{q=1}^m w_{j,q}^{(2)} \\delta_q^{(2)} $$"
   ]
  },
  {
   "cell_type": "markdown",
   "metadata": {},
   "source": [
    "### Fourth step: weight updates\n",
    "After computing all partial derivatives the network weights are updated in the negative gradient direction. \n",
    "A learning constant $\\eta$ defines the step length of the correction. \n",
    "The corrections for the weights are given by\n",
    "\n",
    "$$ \\Delta w_{i,j}^{(2)} = − \\eta \\, o_i^{(1)} \\, \\delta_j^{(2)}, \\qquad i=1,\\dots,k+1 \\quad , \\quad j=1,\\dots,m $$\n",
    "\n",
    "and\n",
    "\n",
    "$$ \\Delta w_{i,j}^{(1)} = − \\eta \\, o_{i} \\, \\delta_j^{(1)}, \\qquad i=1,\\dots,n+1 \\quad , \\quad j=1,\\dots,k $$"
   ]
  }
 ],
 "metadata": {
  "anaconda-cloud": {},
  "kernelspec": {
   "display_name": "Python [Root]",
   "language": "python",
   "name": "Python [Root]"
  },
  "language_info": {
   "codemirror_mode": {
    "name": "ipython",
    "version": 3
   },
   "file_extension": ".py",
   "mimetype": "text/x-python",
   "name": "python",
   "nbconvert_exporter": "python",
   "pygments_lexer": "ipython3",
   "version": "3.5.2"
  }
 },
 "nbformat": 4,
 "nbformat_minor": 0
}
