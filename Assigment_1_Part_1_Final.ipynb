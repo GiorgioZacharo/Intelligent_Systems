{
 "cells": [
  {
   "cell_type": "code",
   "execution_count": 3,
   "metadata": {
    "collapsed": false
   },
   "outputs": [
    {
     "name": "stdout",
     "output_type": "stream",
     "text": [
      "New weights after 1 iteration:\n",
      " Bias = 1.9522\n",
      " W1 = 0.4396\n",
      " W2 = -0.7511\n"
     ]
    },
    {
     "data": {
      "image/png": "[encoded data removed]",
      "text/plain": [
       "<matplotlib.figure.Figure at 0x10c84ce10>"
      ]
     },
     "metadata": {},
     "output_type": "display_data"
    }
   ],
   "source": [
    "import numpy as np\n",
    "%matplotlib inline\n",
    "import matplotlib.pyplot as plt\n",
    "\n",
    "# These are helper functions for plotting.\n",
    "def plot_sep_line(w, n):\n",
    "    \n",
    "    domain = np.linspace(0,n)\n",
    "    image  = list( map( lambda x : -(w[1]*x + w[0])/w[2] , domain ) )\n",
    "    plt.plot(domain, image, color='purple')\n",
    "    \n",
    "def plot_result(w):\n",
    "    plot_sep_line(w, N)\n",
    "    _ = plt.scatter(x=X1[:6], y=X2[:6], color='b')\n",
    "    _ = plt.scatter(x=X1[6:], y=X2[6:], color='r')\n",
    "\n",
    "def plot_errors(errors):\n",
    "\tplt.plot(range(0,len(errors)), errors, label='Error' )   \n",
    "\tplt.legend()\n",
    "\n",
    "# These are the Activation Functions.\n",
    "\n",
    "def sigmoid(x):\n",
    "\treturn 2*1/(1+np.exp(-x)) - 1\n",
    "\n",
    "def step(x):\n",
    "    return np.where( x > 0, 1, -1 )\n",
    "\n",
    "def linear (x):\n",
    "    return x\n",
    "\n",
    "# Calculate the error. (Difference between target and prediction)\n",
    "def err(w, x, z):\n",
    "    net = activate( np.dot(x,w) )\n",
    "    return z - net\n",
    "\n",
    "# Initial weights (+ bias)\n",
    "W  = [2, 0.8, -0.5]\n",
    "\n",
    "# Input Training Set\n",
    "X1 = [ 1, 6, 3, 4, 3, 1,     6,   7,  6, 10,  4 ]\n",
    "X2 = [ 8, 2, 6, 4, 1, 6,     10,  7, 11,  5, 11 ]\n",
    "Z  = [ 1, 1, 1, 1, 1, 1,     -1, -1, -1, -1, -1 ]\n",
    "N  = len(X1)\n",
    "X0 = np.ones(N)\n",
    "\n",
    "X  = np.array( [X0, X1, X2] ).T\n",
    "\n",
    "# Initial plotting of data.\n",
    "#plot_result(W)\n",
    "\n",
    "# Pass the activation Function\n",
    "# Options: linear, step, sigmoid.\n",
    "activate = linear\n",
    "\n",
    "# Assign the given eta.\n",
    "ETA = 1/50\n",
    "W_copy  = W\n",
    "M   = 1\n",
    "\n",
    "for i in range(0,M):\n",
    "    update_avg  = 0\n",
    "    \n",
    "    for x,z in zip(X,Z):\n",
    "        e = err(W_copy,x,z)\n",
    "        update_avg  += ETA * e * x / N\n",
    "        \n",
    "    W_copy += update_avg      # Update the weights\n",
    "\n",
    "print('New weights after 1 iteration:\\n Bias = {0:1.4f}\\n W1 = {1:1.4f}\\n W2 = {2:1.4f}'.format( *W_copy ) )\n",
    "plot_result(W_copy)"
   ]
  },
  {
   "cell_type": "code",
   "execution_count": 2,
   "metadata": {
    "collapsed": false
   },
   "outputs": [
    {
     "data": {
      "image/png": "[encoded data removed]",
      "text/plain": [
       "<matplotlib.figure.Figure at 0x10643cf28>"
      ]
     },
     "metadata": {},
     "output_type": "display_data"
    }
   ],
   "source": [
    "# Training until first correct classification. \n",
    "W_copy_final  = W\n",
    "M   = 1000\n",
    "\n",
    "for i in range(0,M):\n",
    "    update_avg  = 0\n",
    "    error = 0\n",
    "    \n",
    "    for x,z in zip(X,Z):\n",
    "        e= err(W_copy_final,x,z)\n",
    "        error +=e ** 2\n",
    "        update_avg  += ETA * e * x / N  # As derived by the Delta rule.\n",
    "        if error== 0 : break\n",
    "        \n",
    "    W_copy_final += update_avg      # Update the weights\n",
    "\n",
    "plot_result(W_copy_final)"
   ]
  },
  {
   "cell_type": "code",
   "execution_count": null,
   "metadata": {
    "collapsed": true
   },
   "outputs": [],
   "source": []
  }
 ],
 "metadata": {
  "anaconda-cloud": {},
  "kernelspec": {
   "display_name": "Python [Root]",
   "language": "python",
   "name": "Python [Root]"
  },
  "language_info": {
   "codemirror_mode": {
    "name": "ipython",
    "version": 3
   },
   "file_extension": ".py",
   "mimetype": "text/x-python",
   "name": "python",
   "nbconvert_exporter": "python",
   "pygments_lexer": "ipython3",
   "version": "3.5.2"
  }
 },
 "nbformat": 4,
 "nbformat_minor": 0
}
